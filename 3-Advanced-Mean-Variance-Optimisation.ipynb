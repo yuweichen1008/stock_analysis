{
 "cells": [
  {
   "cell_type": "markdown",
   "metadata": {},
   "source": [
    "# Advanced MVO - custom objectives\n",
    "\n",
    "PyPortfolioOpt has implemented some of the most common objective functions (e.g `min_volatility`, `max_sharpe`, `max_quadratic_utility`, `efficient_risk`, `efficient_return`). However, sometimes yoy may have an idea for a different objective function.\n",
    "\n",
    "In this cookbook recipe, we cover:\n",
    "\n",
    "- Mininimising transaction costs\n",
    "- Custom convex objectives\n",
    "- Custom nonconvex objectives\n",
    "\n",
    "## Acquiring data\n",
    "\n",
    "As discussed in the previous notebook, assets are an exogenous input (i.e you must come up with a list of tickers). We will use `yfinance` to download data for thesee tickers"
   ]
  },
  {
   "cell_type": "code",
   "execution_count": 1,
   "metadata": {},
   "outputs": [],
   "source": [
    "import yfinance as yf\n",
    "import pandas as pd\n",
    "import numpy as np\n",
    "import matplotlib.pyplot as plt"
   ]
  },
  {
   "cell_type": "code",
   "execution_count": 2,
   "metadata": {},
   "outputs": [],
   "source": [
    "tickers = [\"BLK\", \"BAC\", \"AAPL\", \"TM\", \"WMT\",\n",
    "           \"JD\", \"INTU\", \"MA\", \"UL\", \"CVS\",\n",
    "           \"DIS\", \"AMD\", \"NVDA\", \"PBI\", \"TGT\"]"
   ]
  },
  {
   "cell_type": "code",
   "execution_count": 3,
   "metadata": {},
   "outputs": [
    {
     "name": "stdout",
     "output_type": "stream",
     "text": [
      "[*********************100%***********************]  15 of 15 completed\n"
     ]
    }
   ],
   "source": [
    "ohlc = yf.download(tickers, period=\"max\")"
   ]
  },
  {
   "cell_type": "code",
   "execution_count": 4,
   "metadata": {},
   "outputs": [
    {
     "data": {
      "text/html": [
       "<div>\n",
       "<style scoped>\n",
       "    .dataframe tbody tr th:only-of-type {\n",
       "        vertical-align: middle;\n",
       "    }\n",
       "\n",
       "    .dataframe tbody tr th {\n",
       "        vertical-align: top;\n",
       "    }\n",
       "\n",
       "    .dataframe thead th {\n",
       "        text-align: right;\n",
       "    }\n",
       "</style>\n",
       "<table border=\"1\" class=\"dataframe\">\n",
       "  <thead>\n",
       "    <tr style=\"text-align: right;\">\n",
       "      <th></th>\n",
       "      <th>AAPL</th>\n",
       "      <th>AMD</th>\n",
       "      <th>BAC</th>\n",
       "      <th>BLK</th>\n",
       "      <th>CVS</th>\n",
       "      <th>DIS</th>\n",
       "      <th>INTU</th>\n",
       "      <th>JD</th>\n",
       "      <th>MA</th>\n",
       "      <th>NVDA</th>\n",
       "      <th>PBI</th>\n",
       "      <th>TGT</th>\n",
       "      <th>TM</th>\n",
       "      <th>UL</th>\n",
       "      <th>WMT</th>\n",
       "    </tr>\n",
       "    <tr>\n",
       "      <th>Date</th>\n",
       "      <th></th>\n",
       "      <th></th>\n",
       "      <th></th>\n",
       "      <th></th>\n",
       "      <th></th>\n",
       "      <th></th>\n",
       "      <th></th>\n",
       "      <th></th>\n",
       "      <th></th>\n",
       "      <th></th>\n",
       "      <th></th>\n",
       "      <th></th>\n",
       "      <th></th>\n",
       "      <th></th>\n",
       "      <th></th>\n",
       "    </tr>\n",
       "  </thead>\n",
       "  <tbody>\n",
       "    <tr>\n",
       "      <th>2021-08-05</th>\n",
       "      <td>146.839996</td>\n",
       "      <td>112.349998</td>\n",
       "      <td>39.020000</td>\n",
       "      <td>889.280029</td>\n",
       "      <td>80.050003</td>\n",
       "      <td>176.710007</td>\n",
       "      <td>538.010010</td>\n",
       "      <td>70.739998</td>\n",
       "      <td>371.940002</td>\n",
       "      <td>206.369995</td>\n",
       "      <td>7.72</td>\n",
       "      <td>261.399994</td>\n",
       "      <td>182.860001</td>\n",
       "      <td>57.200001</td>\n",
       "      <td>145.490005</td>\n",
       "    </tr>\n",
       "    <tr>\n",
       "      <th>2021-08-06</th>\n",
       "      <td>146.139999</td>\n",
       "      <td>110.110001</td>\n",
       "      <td>40.150002</td>\n",
       "      <td>896.090027</td>\n",
       "      <td>81.250000</td>\n",
       "      <td>177.130005</td>\n",
       "      <td>534.289978</td>\n",
       "      <td>69.589996</td>\n",
       "      <td>374.529999</td>\n",
       "      <td>203.660004</td>\n",
       "      <td>8.07</td>\n",
       "      <td>260.089996</td>\n",
       "      <td>180.720001</td>\n",
       "      <td>56.790001</td>\n",
       "      <td>145.229996</td>\n",
       "    </tr>\n",
       "    <tr>\n",
       "      <th>2021-08-09</th>\n",
       "      <td>146.089996</td>\n",
       "      <td>107.580002</td>\n",
       "      <td>40.669998</td>\n",
       "      <td>901.969971</td>\n",
       "      <td>81.650002</td>\n",
       "      <td>176.720001</td>\n",
       "      <td>535.229980</td>\n",
       "      <td>71.730003</td>\n",
       "      <td>370.679993</td>\n",
       "      <td>202.949997</td>\n",
       "      <td>8.14</td>\n",
       "      <td>262.410004</td>\n",
       "      <td>180.570007</td>\n",
       "      <td>57.259998</td>\n",
       "      <td>145.580002</td>\n",
       "    </tr>\n",
       "    <tr>\n",
       "      <th>2021-08-10</th>\n",
       "      <td>145.600006</td>\n",
       "      <td>106.480003</td>\n",
       "      <td>41.430000</td>\n",
       "      <td>912.559998</td>\n",
       "      <td>83.239998</td>\n",
       "      <td>177.070007</td>\n",
       "      <td>530.130005</td>\n",
       "      <td>71.760002</td>\n",
       "      <td>367.839996</td>\n",
       "      <td>199.360001</td>\n",
       "      <td>8.11</td>\n",
       "      <td>264.070007</td>\n",
       "      <td>179.899994</td>\n",
       "      <td>57.090000</td>\n",
       "      <td>148.679993</td>\n",
       "    </tr>\n",
       "    <tr>\n",
       "      <th>2021-08-11</th>\n",
       "      <td>145.860001</td>\n",
       "      <td>107.680000</td>\n",
       "      <td>41.950001</td>\n",
       "      <td>917.090027</td>\n",
       "      <td>84.949997</td>\n",
       "      <td>178.089996</td>\n",
       "      <td>532.229980</td>\n",
       "      <td>71.070000</td>\n",
       "      <td>364.239990</td>\n",
       "      <td>196.990005</td>\n",
       "      <td>8.34</td>\n",
       "      <td>263.010010</td>\n",
       "      <td>181.380005</td>\n",
       "      <td>57.340000</td>\n",
       "      <td>150.009995</td>\n",
       "    </tr>\n",
       "  </tbody>\n",
       "</table>\n",
       "</div>"
      ],
      "text/plain": [
       "                  AAPL         AMD        BAC         BLK        CVS  \\\n",
       "Date                                                                   \n",
       "2021-08-05  146.839996  112.349998  39.020000  889.280029  80.050003   \n",
       "2021-08-06  146.139999  110.110001  40.150002  896.090027  81.250000   \n",
       "2021-08-09  146.089996  107.580002  40.669998  901.969971  81.650002   \n",
       "2021-08-10  145.600006  106.480003  41.430000  912.559998  83.239998   \n",
       "2021-08-11  145.860001  107.680000  41.950001  917.090027  84.949997   \n",
       "\n",
       "                   DIS        INTU         JD          MA        NVDA   PBI  \\\n",
       "Date                                                                          \n",
       "2021-08-05  176.710007  538.010010  70.739998  371.940002  206.369995  7.72   \n",
       "2021-08-06  177.130005  534.289978  69.589996  374.529999  203.660004  8.07   \n",
       "2021-08-09  176.720001  535.229980  71.730003  370.679993  202.949997  8.14   \n",
       "2021-08-10  177.070007  530.130005  71.760002  367.839996  199.360001  8.11   \n",
       "2021-08-11  178.089996  532.229980  71.070000  364.239990  196.990005  8.34   \n",
       "\n",
       "                   TGT          TM         UL         WMT  \n",
       "Date                                                       \n",
       "2021-08-05  261.399994  182.860001  57.200001  145.490005  \n",
       "2021-08-06  260.089996  180.720001  56.790001  145.229996  \n",
       "2021-08-09  262.410004  180.570007  57.259998  145.580002  \n",
       "2021-08-10  264.070007  179.899994  57.090000  148.679993  \n",
       "2021-08-11  263.010010  181.380005  57.340000  150.009995  "
      ]
     },
     "execution_count": 4,
     "metadata": {},
     "output_type": "execute_result"
    }
   ],
   "source": [
    "prices = ohlc[\"Adj Close\"]\n",
    "prices.tail()"
   ]
  },
  {
   "cell_type": "markdown",
   "metadata": {},
   "source": [
    "## Expected returns and risk models\n",
    "\n",
    "In this notebook, we will use James-Stein shrinkage and semicovariance (which only penalises downside risk)."
   ]
  },
  {
   "cell_type": "code",
   "execution_count": 5,
   "metadata": {},
   "outputs": [
    {
     "data": {
      "text/plain": [
       "'1.4.2'"
      ]
     },
     "execution_count": 5,
     "metadata": {},
     "output_type": "execute_result"
    }
   ],
   "source": [
    "import pypfopt\n",
    "pypfopt.__version__"
   ]
  },
  {
   "cell_type": "code",
   "execution_count": 6,
   "metadata": {},
   "outputs": [],
   "source": [
    "from pypfopt import risk_models, expected_returns\n",
    "from pypfopt import plotting\n",
    "\n",
    "mu = expected_returns.capm_return(prices)\n",
    "S = risk_models.semicovariance(prices)"
   ]
  },
  {
   "cell_type": "code",
   "execution_count": 7,
   "metadata": {},
   "outputs": [
    {
     "data": {
      "image/png": "[encoded data removed]",
      "text/plain": [
       "<Figure size 720x360 with 1 Axes>"
      ]
     },
     "metadata": {
      "needs_background": "light"
     },
     "output_type": "display_data"
    }
   ],
   "source": [
    "mu.plot.barh(figsize=(10,5));"
   ]
  },
  {
   "cell_type": "code",
   "execution_count": 8,
   "metadata": {},
   "outputs": [
    {
     "data": {
      "image/png": "[encoded data removed]",
      "text/plain": [
       "<Figure size 432x288 with 2 Axes>"
      ]
     },
     "metadata": {
      "needs_background": "light"
     },
     "output_type": "display_data"
    }
   ],
   "source": [
    "plotting.plot_covariance(S, plot_correlation=True);"
   ]
  },
  {
   "cell_type": "markdown",
   "metadata": {},
   "source": [
    "## Min volatility with a transaction cost objective\n",
    "\n",
    "Let's say that you already have a portfolio, and want to now optimize it. It could be quite expensive to completely reallocate, so you may want to take into account transaction costs. PyPortfolioOpt provides a simple objective to account for this.\n",
    "\n",
    "Note: this objective will not play nicely with `max_sharpe`."
   ]
  },
  {
   "cell_type": "code",
   "execution_count": 9,
   "metadata": {},
   "outputs": [],
   "source": [
    "# Pretend that you started with a default-weight allocation\n",
    "initial_weights = np.array([1/len(tickers)] * len(tickers))"
   ]
  },
  {
   "cell_type": "code",
   "execution_count": 10,
   "metadata": {},
   "outputs": [
    {
     "data": {
      "text/plain": [
       "OrderedDict([('AAPL', 0.02459),\n",
       "             ('AMD', 0.0),\n",
       "             ('BAC', 0.00774),\n",
       "             ('BLK', 0.06667),\n",
       "             ('CVS', 0.06667),\n",
       "             ('DIS', 0.06667),\n",
       "             ('INTU', 0.06667),\n",
       "             ('JD', 0.24189),\n",
       "             ('MA', 0.06667),\n",
       "             ('NVDA', 0.05912),\n",
       "             ('PBI', 0.06667),\n",
       "             ('TGT', 0.06667),\n",
       "             ('TM', 0.06667),\n",
       "             ('UL', 0.06667),\n",
       "             ('WMT', 0.06667)])"
      ]
     },
     "execution_count": 10,
     "metadata": {},
     "output_type": "execute_result"
    }
   ],
   "source": [
    "from pypfopt import EfficientFrontier, objective_functions\n",
    "\n",
    "ef = EfficientFrontier(mu, S)\n",
    "\n",
    "# 1% broker commission\n",
    "ef.add_objective(objective_functions.transaction_cost, w_prev=initial_weights, k=0.01)\n",
    "ef.min_volatility()\n",
    "weights = ef.clean_weights()\n",
    "weights"
   ]
  },
  {
   "cell_type": "markdown",
   "metadata": {},
   "source": [
    "Notice that many of the weights are 0.06667, i.e your original equal weight. In fact, the only change has been an allocation of AMD's weight to JD. If we lower the cost `k`, the allocation will change more:"
   ]
  },
  {
   "cell_type": "code",
   "execution_count": 11,
   "metadata": {},
   "outputs": [
    {
     "data": {
      "text/plain": [
       "OrderedDict([('AAPL', 0.0),\n",
       "             ('AMD', 0.0),\n",
       "             ('BAC', 0.0),\n",
       "             ('BLK', 0.06667),\n",
       "             ('CVS', 0.04179),\n",
       "             ('DIS', 0.0),\n",
       "             ('INTU', 0.01572),\n",
       "             ('JD', 0.46141),\n",
       "             ('MA', 0.18339),\n",
       "             ('NVDA', 0.0),\n",
       "             ('PBI', 0.0),\n",
       "             ('TGT', 0.0034),\n",
       "             ('TM', 0.06667),\n",
       "             ('UL', 0.0943),\n",
       "             ('WMT', 0.06667)])"
      ]
     },
     "execution_count": 11,
     "metadata": {},
     "output_type": "execute_result"
    }
   ],
   "source": [
    "ef = EfficientFrontier(mu, S)\n",
    "ef.add_objective(objective_functions.transaction_cost, w_prev=initial_weights, k=0.001)\n",
    "ef.min_volatility()\n",
    "weights = ef.clean_weights()\n",
    "weights"
   ]
  },
  {
   "cell_type": "markdown",
   "metadata": {},
   "source": [
    "The optimizer seems to really like JD. The reason for this is that it is highly anticorrelated to other assets (notice the dark column in the covariance plot). Hence, historically, it adds a lot of diversification. But it is dangerous to place too much emphasis on what happened in the past, so we may want to limit the asset weights. \n",
    "\n",
    "In addition, we notice that 4 stocks have now been allocated zero weight, which may be undesirable. Both of these problems can be fixed by adding an [L2 regularisation objective](https://pyportfolioopt.readthedocs.io/en/latest/EfficientFrontier.html#more-on-l2-regularisation). "
   ]
  },
  {
   "cell_type": "code",
   "execution_count": 12,
   "metadata": {},
   "outputs": [
    {
     "data": {
      "text/plain": [
       "OrderedDict([('AAPL', 0.06183),\n",
       "             ('AMD', 0.05384),\n",
       "             ('BAC', 0.0621),\n",
       "             ('BLK', 0.0704),\n",
       "             ('CVS', 0.06673),\n",
       "             ('DIS', 0.0651),\n",
       "             ('INTU', 0.06667),\n",
       "             ('JD', 0.07729),\n",
       "             ('MA', 0.07335),\n",
       "             ('NVDA', 0.06393),\n",
       "             ('PBI', 0.0649),\n",
       "             ('TGT', 0.06599),\n",
       "             ('TM', 0.06912),\n",
       "             ('UL', 0.07081),\n",
       "             ('WMT', 0.06794)])"
      ]
     },
     "execution_count": 12,
     "metadata": {},
     "output_type": "execute_result"
    }
   ],
   "source": [
    "ef = EfficientFrontier(mu, S)\n",
    "ef.add_objective(objective_functions.transaction_cost, w_prev=initial_weights, k=0.001)\n",
    "ef.add_objective(objective_functions.L2_reg)\n",
    "ef.min_volatility()\n",
    "weights = ef.clean_weights()\n",
    "weights"
   ]
  },
  {
   "cell_type": "markdown",
   "metadata": {},
   "source": [
    "This has had too much of an evening-out effect. After all, if the resulting allocation is going to be so close to equal weights, we may as well stick with our initial allocation. We can reduce the strength of the L2 regularisation by reducing `gamma`:"
   ]
  },
  {
   "cell_type": "code",
   "execution_count": 13,
   "metadata": {},
   "outputs": [
    {
     "data": {
      "text/plain": [
       "OrderedDict([('AAPL', 0.01937),\n",
       "             ('AMD', 0.0),\n",
       "             ('BAC', 0.00775),\n",
       "             ('BLK', 0.09578),\n",
       "             ('CVS', 0.06667),\n",
       "             ('DIS', 0.04293),\n",
       "             ('INTU', 0.06097),\n",
       "             ('JD', 0.19074),\n",
       "             ('MA', 0.13686),\n",
       "             ('NVDA', 0.02936),\n",
       "             ('PBI', 0.03827),\n",
       "             ('TGT', 0.05159),\n",
       "             ('TM', 0.08397),\n",
       "             ('UL', 0.10361),\n",
       "             ('WMT', 0.07213)])"
      ]
     },
     "execution_count": 13,
     "metadata": {},
     "output_type": "execute_result"
    }
   ],
   "source": [
    "ef = EfficientFrontier(mu, S)\n",
    "ef.add_objective(objective_functions.transaction_cost, w_prev=initial_weights, k=0.001)\n",
    "ef.add_objective(objective_functions.L2_reg, gamma=0.05)  # default is 1\n",
    "ef.min_volatility()\n",
    "weights = ef.clean_weights()\n",
    "weights"
   ]
  },
  {
   "cell_type": "code",
   "execution_count": 14,
   "metadata": {},
   "outputs": [
    {
     "name": "stdout",
     "output_type": "stream",
     "text": [
      "Expected annual return: 17.9%\n",
      "Annual volatility: 9.5%\n",
      "Sharpe Ratio: 1.68\n"
     ]
    }
   ],
   "source": [
    "ef.portfolio_performance(verbose=True);"
   ]
  },
  {
   "cell_type": "markdown",
   "metadata": {},
   "source": [
    "This portfolio is now reasonably balanced, but also puts significantly more weight on JD. "
   ]
  },
  {
   "cell_type": "code",
   "execution_count": 15,
   "metadata": {},
   "outputs": [
    {
     "data": {
      "image/png": "[encoded data removed]",
      "text/plain": [
       "<Figure size 720x720 with 1 Axes>"
      ]
     },
     "metadata": {},
     "output_type": "display_data"
    }
   ],
   "source": [
    "pd.Series(weights).plot.pie(figsize=(10,10));"
   ]
  },
  {
   "cell_type": "markdown",
   "metadata": {},
   "source": [
    "## Custom convex objectives\n",
    "\n",
    "PyPortfolioOpt comes with the following built-in objective functions, as of v1.2.1:\n",
    "\n",
    "- Portfolio variance (i.e square of volatility)\n",
    "- Portfolio return\n",
    "- Sharpe ratio\n",
    "- L2 regularisation (minimising this reduces nonzero weights)\n",
    "- Quadratic utility\n",
    "- Transaction cost model (a simple one)\n",
    "\n",
    "However, you may want have a different objective. If this new objective is **convex**, you can optimize a portfolio with the full benefit of PyPortfolioOpt's modular syntax, for example adding other constraints and objectives.\n",
    "\n",
    "To demonstrate this, we will minimise the **logarithmic-barrier** function suggested in the paper 60 Years of Portfolio Optimization, by Kolm et al (2014):\n",
    "\n",
    "$$f(w, S, k) = w^T S w - k \\sum_{i=1}^N \\ln w$$\n",
    "\n",
    "We must first convert this mathematical objective into the language of cvxpy. Cvxpy is a powerful modelling language for convex optimization problems. It is clean and easy to use, the only caveat is that objectives must be expressed with `cvxpy` functions, a list of which can be found [here](https://www.cvxpy.org/tutorial/functions/index.html)."
   ]
  },
  {
   "cell_type": "code",
   "execution_count": 16,
   "metadata": {},
   "outputs": [],
   "source": [
    "import cvxpy as cp\n",
    "\n",
    "# Note: functions are minimised. If you want to maximise an objective, stick a minus sign in it.\n",
    "def logarithmic_barrier_objective(w, cov_matrix, k=0.1):\n",
    "    log_sum = cp.sum(cp.log(w))\n",
    "    var = cp.quad_form(w, cov_matrix)\n",
    "    return var - k * log_sum"
   ]
  },
  {
   "cell_type": "markdown",
   "metadata": {},
   "source": [
    "Once we have written the objective function, we can just use the `ef.convex_objective()` to minimise the objective."
   ]
  },
  {
   "cell_type": "code",
   "execution_count": 17,
   "metadata": {},
   "outputs": [
    {
     "data": {
      "text/plain": [
       "OrderedDict([('AAPL', 0.03827),\n",
       "             ('AMD', 0.0262),\n",
       "             ('BAC', 0.03742),\n",
       "             ('BLK', 0.07662),\n",
       "             ('CVS', 0.0561),\n",
       "             ('DIS', 0.04624),\n",
       "             ('INTU', 0.05243),\n",
       "             ('JD', 0.2),\n",
       "             ('MA', 0.115),\n",
       "             ('NVDA', 0.04162),\n",
       "             ('PBI', 0.04473),\n",
       "             ('TGT', 0.04924),\n",
       "             ('TM', 0.06942),\n",
       "             ('UL', 0.08315),\n",
       "             ('WMT', 0.06355)])"
      ]
     },
     "execution_count": 17,
     "metadata": {},
     "output_type": "execute_result"
    }
   ],
   "source": [
    "ef = EfficientFrontier(mu, S, weight_bounds=(0.01, 0.2))\n",
    "ef.convex_objective(logarithmic_barrier_objective, cov_matrix=S, k=0.001)\n",
    "weights = ef.clean_weights()\n",
    "weights"
   ]
  },
  {
   "cell_type": "code",
   "execution_count": 18,
   "metadata": {},
   "outputs": [
    {
     "name": "stdout",
     "output_type": "stream",
     "text": [
      "Expected annual return: 18.7%\n",
      "Annual volatility: 10.1%\n",
      "Sharpe Ratio: 1.65\n"
     ]
    }
   ],
   "source": [
    "ef.portfolio_performance(verbose=True);"
   ]
  },
  {
   "cell_type": "markdown",
   "metadata": {},
   "source": [
    "This is compatible with all the constraints discussed in the previous recipe. Let's say that we want to limit JD's weight to 15%."
   ]
  },
  {
   "cell_type": "code",
   "execution_count": 19,
   "metadata": {},
   "outputs": [
    {
     "data": {
      "text/plain": [
       "OrderedDict([('AAPL', 0.03919),\n",
       "             ('AMD', 0.02643),\n",
       "             ('BAC', 0.038),\n",
       "             ('BLK', 0.08248),\n",
       "             ('CVS', 0.05867),\n",
       "             ('DIS', 0.04769),\n",
       "             ('INTU', 0.05473),\n",
       "             ('JD', 0.15),\n",
       "             ('MA', 0.13171),\n",
       "             ('NVDA', 0.043),\n",
       "             ('PBI', 0.04638),\n",
       "             ('TGT', 0.05092),\n",
       "             ('TM', 0.07379),\n",
       "             ('UL', 0.08998),\n",
       "             ('WMT', 0.06704)])"
      ]
     },
     "execution_count": 19,
     "metadata": {},
     "output_type": "execute_result"
    }
   ],
   "source": [
    "ef = EfficientFrontier(mu, S, weight_bounds=(0.01, 0.2))\n",
    "jd_index = ef.tickers.index(\"JD\")  # get the index of JD\n",
    "ef.add_constraint(lambda w: w[jd_index] <= 0.15)\n",
    "ef.convex_objective(logarithmic_barrier_objective, cov_matrix=S, k=0.001)\n",
    "weights = ef.clean_weights()\n",
    "weights"
   ]
  },
  {
   "cell_type": "markdown",
   "metadata": {},
   "source": [
    "## Custom nonconvex objectives\n",
    "\n",
    "In some cases, you may be trying to optimize for nonconvex objectives. Optimization in general is a very hard problem, so please be aware that you may have mixed results in that case. Convex problems, on the other hand, are well understood and can be solved with nice theoretical guarantees.\n",
    "\n",
    "PyPortfolioOpt does offer some functionality for nonconvex optimization, but it is not really encouraged. In particular, nonconvex optimization is not compatible with PyPortfolioOpt's modular constraints API.\n",
    "\n",
    "As an example, we will use the Deviation Risk Parity objective from Kolm et al (2014). Because we are not using a convex solver, we don't have to define it using `cvxpy` functions."
   ]
  },
  {
   "cell_type": "code",
   "execution_count": 20,
   "metadata": {},
   "outputs": [],
   "source": [
    "def deviation_risk_parity(w, cov_matrix):\n",
    "    diff = w * np.dot(cov_matrix, w) - (w * np.dot(cov_matrix, w)).reshape(-1, 1)\n",
    "    return (diff ** 2).sum().sum()"
   ]
  },
  {
   "cell_type": "code",
   "execution_count": 21,
   "metadata": {},
   "outputs": [
    {
     "data": {
      "text/plain": [
       "OrderedDict([('AAPL', 0.05553),\n",
       "             ('AMD', 0.02634),\n",
       "             ('BAC', 0.05779),\n",
       "             ('BLK', 0.07678),\n",
       "             ('CVS', 0.07124),\n",
       "             ('DIS', 0.06547),\n",
       "             ('INTU', 0.06959),\n",
       "             ('JD', 0.07831),\n",
       "             ('MA', 0.07877),\n",
       "             ('NVDA', 0.06233),\n",
       "             ('PBI', 0.06519),\n",
       "             ('TGT', 0.06756),\n",
       "             ('TM', 0.07495),\n",
       "             ('UL', 0.07702),\n",
       "             ('WMT', 0.07314)])"
      ]
     },
     "execution_count": 21,
     "metadata": {},
     "output_type": "execute_result"
    }
   ],
   "source": [
    "ef = EfficientFrontier(mu, S, weight_bounds=(0.01, 0.12))\n",
    "ef.nonconvex_objective(deviation_risk_parity, ef.cov_matrix)\n",
    "weights = ef.clean_weights()\n",
    "weights"
   ]
  },
  {
   "cell_type": "markdown",
   "metadata": {},
   "source": [
    "However, let's say we now want to enforce that JD has a weight of 10%. In the convex case, this would be as simple as:\n",
    "\n",
    "```python\n",
    "ef.add_objective(lambda w: w[jd_index] == 0.10)\n",
    "```\n",
    "\n",
    "But unfortunately, scipy does not allow for such intuitive syntax. You will need to rearrange your constraints to make them either `=0` or `<= 0`. \n",
    "\n",
    "```python\n",
    "constraints = [\n",
    "    # First constraint\n",
    "     {\"type\": \"eq\",  # equality constraint,\n",
    "      \"fun\": lambda w: w[1] - 0.2},  # the equality functions are assumed to = 0 \n",
    "      \n",
    "    # Second constraint\n",
    "    {\"type\": \"ineq\",  # inequality constraint\n",
    "     \"fun\": lambda w: w[0] - 0.5}   # inequality functions <= 0\n",
    "]\n",
    "```\n",
    "\n",
    "For more information, you can consult the [scipy docs](https://docs.scipy.org/doc/scipy/reference/generated/scipy.optimize.minimize.html), but they aren't very helpful."
   ]
  },
  {
   "cell_type": "code",
   "execution_count": 22,
   "metadata": {},
   "outputs": [
    {
     "data": {
      "text/plain": [
       "OrderedDict([('AAPL', 0.05548),\n",
       "             ('AMD', 0.02987),\n",
       "             ('BAC', 0.0575),\n",
       "             ('BLK', 0.07362),\n",
       "             ('CVS', 0.06903),\n",
       "             ('DIS', 0.06411),\n",
       "             ('INTU', 0.06758),\n",
       "             ('JD', 0.1),\n",
       "             ('MA', 0.07525),\n",
       "             ('NVDA', 0.06125),\n",
       "             ('PBI', 0.06379),\n",
       "             ('TGT', 0.06592),\n",
       "             ('TM', 0.07212),\n",
       "             ('UL', 0.07384),\n",
       "             ('WMT', 0.07063)])"
      ]
     },
     "execution_count": 22,
     "metadata": {},
     "output_type": "execute_result"
    }
   ],
   "source": [
    "ef = EfficientFrontier(mu, S, weight_bounds=(0.01, 0.12))\n",
    "\n",
    "ef.nonconvex_objective(\n",
    "    deviation_risk_parity,\n",
    "    objective_args=S,\n",
    "    weights_sum_to_one=True,\n",
    "    constraints=[\n",
    "        {\"type\": \"eq\", \"fun\": lambda w: w[jd_index] - 0.10},  \n",
    "    ],\n",
    ")\n",
    "\n",
    "weights = ef.clean_weights()\n",
    "weights"
   ]
  },
  {
   "cell_type": "markdown",
   "metadata": {},
   "source": [
    "## More examples of nonconvex objectives\n",
    "\n",
    "The scipy format is not intuitive and is hard to explain, so here are a bunch of examples (adapted from the tests). Some of these are actually convex, so you should use `convex_objective` instead. "
   ]
  },
  {
   "cell_type": "code",
   "execution_count": 23,
   "metadata": {},
   "outputs": [
    {
     "data": {
      "text/plain": [
       "OrderedDict([('AAPL', 0.04372),\n",
       "             ('AMD', 0.0317),\n",
       "             ('BAC', 0.04326),\n",
       "             ('BLK', 0.07625),\n",
       "             ('CVS', 0.05962),\n",
       "             ('DIS', 0.05116),\n",
       "             ('INTU', 0.0566),\n",
       "             ('JD', 0.16989),\n",
       "             ('MA', 0.10117),\n",
       "             ('NVDA', 0.04727),\n",
       "             ('PBI', 0.05001),\n",
       "             ('TGT', 0.05372),\n",
       "             ('TM', 0.07012),\n",
       "             ('UL', 0.08023),\n",
       "             ('WMT', 0.06528)])"
      ]
     },
     "execution_count": 23,
     "metadata": {},
     "output_type": "execute_result"
    }
   ],
   "source": [
    "# Another example of deviation risk parity\n",
    "def deviation_risk_parity(w, cov_matrix):\n",
    "    n = cov_matrix.shape[0]\n",
    "    rp = (w * (cov_matrix @ w)) / cp.quad_form(w, cov_matrix)\n",
    "    return cp.sum_squares(rp - 1 / n).value\n",
    "\n",
    "ef = EfficientFrontier(mu, S)\n",
    "ef.nonconvex_objective(deviation_risk_parity, ef.cov_matrix)\n",
    "weights = ef.clean_weights()\n",
    "weights"
   ]
  },
  {
   "cell_type": "code",
   "execution_count": 24,
   "metadata": {},
   "outputs": [
    {
     "data": {
      "text/plain": [
       "OrderedDict([('AAPL', 0.1),\n",
       "             ('AMD', 0.03383),\n",
       "             ('BAC', 0.04762),\n",
       "             ('BLK', 0.07623),\n",
       "             ('CVS', 0.06088),\n",
       "             ('DIS', 0.05377),\n",
       "             ('INTU', 0.05729),\n",
       "             ('JD', 0.11067),\n",
       "             ('MA', 0.09265),\n",
       "             ('NVDA', 0.05069),\n",
       "             ('PBI', 0.05398),\n",
       "             ('TGT', 0.05554),\n",
       "             ('TM', 0.06789),\n",
       "             ('UL', 0.07555),\n",
       "             ('WMT', 0.0634)])"
      ]
     },
     "execution_count": 24,
     "metadata": {},
     "output_type": "execute_result"
    }
   ],
   "source": [
    "# Deviation risk parity with weight bound on the first asset\n",
    "ef = EfficientFrontier(mu, S)\n",
    "ef.nonconvex_objective(deviation_risk_parity, \n",
    "                       ef.cov_matrix, \n",
    "                       constraints=[{\"type\":\"eq\", \"fun\":lambda w: w[0] - 0.1}])\n",
    "weights = ef.clean_weights()\n",
    "weights"
   ]
  },
  {
   "cell_type": "code",
   "execution_count": 25,
   "metadata": {},
   "outputs": [
    {
     "data": {
      "text/plain": [
       "OrderedDict([('AAPL', 0.0936),\n",
       "             ('AMD', 0.16477),\n",
       "             ('BAC', 0.00747),\n",
       "             ('BLK', -0.10086),\n",
       "             ('CVS', -0.17555),\n",
       "             ('DIS', 0.22049),\n",
       "             ('INTU', 0.11736),\n",
       "             ('JD', 0.12958),\n",
       "             ('MA', 0.63231),\n",
       "             ('NVDA', 0.42264),\n",
       "             ('PBI', -0.04005),\n",
       "             ('TGT', 0.00419),\n",
       "             ('TM', -0.48107),\n",
       "             ('UL', -0.84266),\n",
       "             ('WMT', -0.15222)])"
      ]
     },
     "execution_count": 25,
     "metadata": {},
     "output_type": "execute_result"
    }
   ],
   "source": [
    "# Market-neutral efficient risk.\n",
    "# Please use ef.efficient_risk() for anything serious.\n",
    "target_risk = 0.19\n",
    "ef = EfficientFrontier(mu, S, weight_bounds=(None, None))\n",
    "\n",
    "# Weights sum to zero\n",
    "weight_constr = {\"type\": \"eq\", \"fun\": lambda w: np.sum(w)}\n",
    "\n",
    "# Portfolio vol less than target vol\n",
    "risk_constr = {\n",
    "    \"type\": \"eq\",\n",
    "    \"fun\": lambda w: target_risk ** 2 - np.dot(w.T, np.dot(ef.cov_matrix, w)),\n",
    "}\n",
    "constraints = [weight_constr, risk_constr]\n",
    "\n",
    "ef.nonconvex_objective(\n",
    "    lambda w, mu: -w.T.dot(mu),  # min negative return i.e max return\n",
    "    objective_args=(ef.expected_returns),\n",
    "    weights_sum_to_one=False,\n",
    "    constraints=constraints,\n",
    ")\n",
    "weights = ef.clean_weights()\n",
    "weights"
   ]
  },
  {
   "cell_type": "code",
   "execution_count": 26,
   "metadata": {},
   "outputs": [
    {
     "data": {
      "text/plain": [
       "OrderedDict([('AAPL', 0.0),\n",
       "             ('AMD', 0.05488),\n",
       "             ('BAC', 0.0),\n",
       "             ('BLK', 0.0),\n",
       "             ('CVS', 0.0),\n",
       "             ('DIS', 0.0),\n",
       "             ('INTU', 0.0),\n",
       "             ('JD', 0.0),\n",
       "             ('MA', 0.0),\n",
       "             ('NVDA', 0.94512),\n",
       "             ('PBI', 0.0),\n",
       "             ('TGT', 0.0),\n",
       "             ('TM', 0.0),\n",
       "             ('UL', 0.0),\n",
       "             ('WMT', 0.0)])"
      ]
     },
     "execution_count": 26,
     "metadata": {},
     "output_type": "execute_result"
    }
   ],
   "source": [
    "# Utility objective - you could actually use ef.max_quadratic_utility\n",
    "ef = EfficientFrontier(mu, S)\n",
    "\n",
    "def utility_obj(weights, mu, cov_matrix, k=1):\n",
    "    return -weights.dot(mu) + k * np.dot(weights.T, np.dot(cov_matrix, weights))\n",
    "\n",
    "ef.nonconvex_objective(\n",
    "    utility_obj,\n",
    "    objective_args=(ef.expected_returns, ef.cov_matrix, 1)\n",
    "    # default is for weights to sum to 1\n",
    ")\n",
    "\n",
    "weights = ef.clean_weights()\n",
    "weights"
   ]
  },
  {
   "cell_type": "code",
   "execution_count": 27,
   "metadata": {},
   "outputs": [
    {
     "data": {
      "text/plain": [
       "1.0000000000000002"
      ]
     },
     "execution_count": 27,
     "metadata": {},
     "output_type": "execute_result"
    }
   ],
   "source": [
    "ef.weights.sum()"
   ]
  },
  {
   "cell_type": "code",
   "execution_count": 28,
   "metadata": {},
   "outputs": [
    {
     "data": {
      "text/plain": [
       "OrderedDict([('AAPL', 0.06667),\n",
       "             ('AMD', 0.06667),\n",
       "             ('BAC', 0.06667),\n",
       "             ('BLK', 0.06667),\n",
       "             ('CVS', 0.06667),\n",
       "             ('DIS', 0.06667),\n",
       "             ('INTU', 0.06667),\n",
       "             ('JD', 0.06667),\n",
       "             ('MA', 0.06667),\n",
       "             ('NVDA', 0.06667),\n",
       "             ('PBI', 0.06667),\n",
       "             ('TGT', 0.06667),\n",
       "             ('TM', 0.06667),\n",
       "             ('UL', 0.06667),\n",
       "             ('WMT', 0.06667)])"
      ]
     },
     "execution_count": 28,
     "metadata": {},
     "output_type": "execute_result"
    }
   ],
   "source": [
    "# Kelly objective with weight bounds on zeroth asset\n",
    "def kelly_objective(w, e_returns, cov_matrix, k=3):\n",
    "    variance = np.dot(w.T, np.dot(cov_matrix, w))\n",
    "    objective = variance * 0.5 * k - np.dot(w, e_returns)\n",
    "    return objective\n",
    "\n",
    "lower_bounds, upper_bounds = 0.01, 0.3\n",
    "ef = EfficientFrontier(mu, S)\n",
    "ef.nonconvex_objective(\n",
    "    kelly_objective,\n",
    "    objective_args=(ef.expected_returns, ef.cov_matrix, 1000),\n",
    "    constraints=[\n",
    "        {\"type\": \"eq\", \"fun\": lambda w: np.sum(w) - 1},\n",
    "        {\"type\": \"ineq\", \"fun\": lambda w: w[0] - lower_bounds},\n",
    "        {\"type\": \"ineq\", \"fun\": lambda w: upper_bounds - w[0]},\n",
    "    ],\n",
    ")\n",
    "\n",
    "weights = ef.clean_weights()\n",
    "weights"
   ]
  },
  {
   "cell_type": "code",
   "execution_count": null,
   "metadata": {},
   "outputs": [],
   "source": []
  }
 ],
 "metadata": {
  "kernelspec": {
   "display_name": "Python 3 (ipykernel)",
   "language": "python",
   "name": "python3"
  },
  "language_info": {
   "codemirror_mode": {
    "name": "ipython",
    "version": 3
   },
   "file_extension": ".py",
   "mimetype": "text/x-python",
   "name": "python",
   "nbconvert_exporter": "python",
   "pygments_lexer": "ipython3",
   "version": "3.8.5"
  }
 },
 "nbformat": 4,
 "nbformat_minor": 4
}
