{
 "cells": [
  {
   "cell_type": "markdown",
   "id": "consolidated-vault",
   "metadata": {},
   "source": [
    "# Hierarchical Risk Parity\n",
    "\n",
    "HRP is a modern portfolio optimization method inspired by machine learning.\n",
    "\n",
    "The idea is that by examining the hierarchical structure of the market, we can better diversify. \n",
    "\n",
    "In this cookbook recipe, we will cover:\n",
    "\n",
    "- Downloading data for HRP\n",
    "- Using HRP to find the minimum variance portfolio\n",
    "- Plotting dendrograms\n",
    "\n"
   ]
  },
  {
   "cell_type": "markdown",
   "id": "saving-safety",
   "metadata": {},
   "source": [
    "## Downloading data\n",
    "\n",
    "HRP only requires historical returns"
   ]
  },
  {
   "cell_type": "code",
   "execution_count": 1,
   "id": "committed-riverside",
   "metadata": {},
   "outputs": [
    {
     "data": {
      "text/plain": [
       "'1.4.2'"
      ]
     },
     "execution_count": 1,
     "metadata": {},
     "output_type": "execute_result"
    }
   ],
   "source": [
    "import numpy as np\n",
    "import pandas as pd\n",
    "import matplotlib.pyplot as plt\n",
    "import yfinance as yf\n",
    "import pypfopt\n",
    "\n",
    "pypfopt.__version__"
   ]
  },
  {
   "cell_type": "code",
   "execution_count": 2,
   "id": "accredited-enterprise",
   "metadata": {},
   "outputs": [
    {
     "name": "stdout",
     "output_type": "stream",
     "text": [
      "[*********************100%***********************]  15 of 15 completed\n"
     ]
    },
    {
     "data": {
      "text/html": [
       "<div>\n",
       "<style scoped>\n",
       "    .dataframe tbody tr th:only-of-type {\n",
       "        vertical-align: middle;\n",
       "    }\n",
       "\n",
       "    .dataframe tbody tr th {\n",
       "        vertical-align: top;\n",
       "    }\n",
       "\n",
       "    .dataframe thead th {\n",
       "        text-align: right;\n",
       "    }\n",
       "</style>\n",
       "<table border=\"1\" class=\"dataframe\">\n",
       "  <thead>\n",
       "    <tr style=\"text-align: right;\">\n",
       "      <th></th>\n",
       "      <th>AAPL</th>\n",
       "      <th>AMD</th>\n",
       "      <th>BAC</th>\n",
       "      <th>BLK</th>\n",
       "      <th>CVS</th>\n",
       "      <th>DIS</th>\n",
       "      <th>INTU</th>\n",
       "      <th>JD</th>\n",
       "      <th>MA</th>\n",
       "      <th>NVDA</th>\n",
       "      <th>PBI</th>\n",
       "      <th>TGT</th>\n",
       "      <th>TM</th>\n",
       "      <th>UL</th>\n",
       "      <th>WMT</th>\n",
       "    </tr>\n",
       "    <tr>\n",
       "      <th>Date</th>\n",
       "      <th></th>\n",
       "      <th></th>\n",
       "      <th></th>\n",
       "      <th></th>\n",
       "      <th></th>\n",
       "      <th></th>\n",
       "      <th></th>\n",
       "      <th></th>\n",
       "      <th></th>\n",
       "      <th></th>\n",
       "      <th></th>\n",
       "      <th></th>\n",
       "      <th></th>\n",
       "      <th></th>\n",
       "      <th></th>\n",
       "    </tr>\n",
       "  </thead>\n",
       "  <tbody>\n",
       "    <tr>\n",
       "      <th>2021-08-05</th>\n",
       "      <td>146.839996</td>\n",
       "      <td>112.349998</td>\n",
       "      <td>39.020000</td>\n",
       "      <td>889.280029</td>\n",
       "      <td>80.050003</td>\n",
       "      <td>176.710007</td>\n",
       "      <td>538.010010</td>\n",
       "      <td>70.739998</td>\n",
       "      <td>371.940002</td>\n",
       "      <td>206.369995</td>\n",
       "      <td>7.72</td>\n",
       "      <td>261.399994</td>\n",
       "      <td>182.860001</td>\n",
       "      <td>57.200001</td>\n",
       "      <td>145.490005</td>\n",
       "    </tr>\n",
       "    <tr>\n",
       "      <th>2021-08-06</th>\n",
       "      <td>146.139999</td>\n",
       "      <td>110.110001</td>\n",
       "      <td>40.150002</td>\n",
       "      <td>896.090027</td>\n",
       "      <td>81.250000</td>\n",
       "      <td>177.130005</td>\n",
       "      <td>534.289978</td>\n",
       "      <td>69.589996</td>\n",
       "      <td>374.529999</td>\n",
       "      <td>203.660004</td>\n",
       "      <td>8.07</td>\n",
       "      <td>260.089996</td>\n",
       "      <td>180.720001</td>\n",
       "      <td>56.790001</td>\n",
       "      <td>145.229996</td>\n",
       "    </tr>\n",
       "    <tr>\n",
       "      <th>2021-08-09</th>\n",
       "      <td>146.089996</td>\n",
       "      <td>107.580002</td>\n",
       "      <td>40.669998</td>\n",
       "      <td>901.969971</td>\n",
       "      <td>81.650002</td>\n",
       "      <td>176.720001</td>\n",
       "      <td>535.229980</td>\n",
       "      <td>71.730003</td>\n",
       "      <td>370.679993</td>\n",
       "      <td>202.949997</td>\n",
       "      <td>8.14</td>\n",
       "      <td>262.410004</td>\n",
       "      <td>180.570007</td>\n",
       "      <td>57.259998</td>\n",
       "      <td>145.580002</td>\n",
       "    </tr>\n",
       "    <tr>\n",
       "      <th>2021-08-10</th>\n",
       "      <td>145.600006</td>\n",
       "      <td>106.480003</td>\n",
       "      <td>41.430000</td>\n",
       "      <td>912.559998</td>\n",
       "      <td>83.239998</td>\n",
       "      <td>177.070007</td>\n",
       "      <td>530.130005</td>\n",
       "      <td>71.760002</td>\n",
       "      <td>367.839996</td>\n",
       "      <td>199.360001</td>\n",
       "      <td>8.11</td>\n",
       "      <td>264.070007</td>\n",
       "      <td>179.899994</td>\n",
       "      <td>57.090000</td>\n",
       "      <td>148.679993</td>\n",
       "    </tr>\n",
       "    <tr>\n",
       "      <th>2021-08-11</th>\n",
       "      <td>145.860001</td>\n",
       "      <td>107.680000</td>\n",
       "      <td>41.950001</td>\n",
       "      <td>917.090027</td>\n",
       "      <td>84.949997</td>\n",
       "      <td>178.089996</td>\n",
       "      <td>532.229980</td>\n",
       "      <td>71.070000</td>\n",
       "      <td>364.239990</td>\n",
       "      <td>196.990005</td>\n",
       "      <td>8.34</td>\n",
       "      <td>263.010010</td>\n",
       "      <td>181.380005</td>\n",
       "      <td>57.340000</td>\n",
       "      <td>150.009995</td>\n",
       "    </tr>\n",
       "  </tbody>\n",
       "</table>\n",
       "</div>"
      ],
      "text/plain": [
       "                  AAPL         AMD        BAC         BLK        CVS  \\\n",
       "Date                                                                   \n",
       "2021-08-05  146.839996  112.349998  39.020000  889.280029  80.050003   \n",
       "2021-08-06  146.139999  110.110001  40.150002  896.090027  81.250000   \n",
       "2021-08-09  146.089996  107.580002  40.669998  901.969971  81.650002   \n",
       "2021-08-10  145.600006  106.480003  41.430000  912.559998  83.239998   \n",
       "2021-08-11  145.860001  107.680000  41.950001  917.090027  84.949997   \n",
       "\n",
       "                   DIS        INTU         JD          MA        NVDA   PBI  \\\n",
       "Date                                                                          \n",
       "2021-08-05  176.710007  538.010010  70.739998  371.940002  206.369995  7.72   \n",
       "2021-08-06  177.130005  534.289978  69.589996  374.529999  203.660004  8.07   \n",
       "2021-08-09  176.720001  535.229980  71.730003  370.679993  202.949997  8.14   \n",
       "2021-08-10  177.070007  530.130005  71.760002  367.839996  199.360001  8.11   \n",
       "2021-08-11  178.089996  532.229980  71.070000  364.239990  196.990005  8.34   \n",
       "\n",
       "                   TGT          TM         UL         WMT  \n",
       "Date                                                       \n",
       "2021-08-05  261.399994  182.860001  57.200001  145.490005  \n",
       "2021-08-06  260.089996  180.720001  56.790001  145.229996  \n",
       "2021-08-09  262.410004  180.570007  57.259998  145.580002  \n",
       "2021-08-10  264.070007  179.899994  57.090000  148.679993  \n",
       "2021-08-11  263.010010  181.380005  57.340000  150.009995  "
      ]
     },
     "execution_count": 2,
     "metadata": {},
     "output_type": "execute_result"
    }
   ],
   "source": [
    "tickers = [\"BLK\", \"BAC\", \"AAPL\", \"TM\", \"WMT\",\n",
    "           \"JD\", \"INTU\", \"MA\", \"UL\", \"CVS\",\n",
    "           \"DIS\", \"AMD\", \"NVDA\", \"PBI\", \"TGT\"]\n",
    "\n",
    "ohlc = yf.download(tickers, period=\"max\")\n",
    "prices = ohlc[\"Adj Close\"]\n",
    "prices.tail()"
   ]
  },
  {
   "cell_type": "code",
   "execution_count": 3,
   "id": "confident-plant",
   "metadata": {},
   "outputs": [
    {
     "data": {
      "text/html": [
       "<div>\n",
       "<style scoped>\n",
       "    .dataframe tbody tr th:only-of-type {\n",
       "        vertical-align: middle;\n",
       "    }\n",
       "\n",
       "    .dataframe tbody tr th {\n",
       "        vertical-align: top;\n",
       "    }\n",
       "\n",
       "    .dataframe thead th {\n",
       "        text-align: right;\n",
       "    }\n",
       "</style>\n",
       "<table border=\"1\" class=\"dataframe\">\n",
       "  <thead>\n",
       "    <tr style=\"text-align: right;\">\n",
       "      <th></th>\n",
       "      <th>AAPL</th>\n",
       "      <th>AMD</th>\n",
       "      <th>BAC</th>\n",
       "      <th>BLK</th>\n",
       "      <th>CVS</th>\n",
       "      <th>DIS</th>\n",
       "      <th>INTU</th>\n",
       "      <th>JD</th>\n",
       "      <th>MA</th>\n",
       "      <th>NVDA</th>\n",
       "      <th>PBI</th>\n",
       "      <th>TGT</th>\n",
       "      <th>TM</th>\n",
       "      <th>UL</th>\n",
       "      <th>WMT</th>\n",
       "    </tr>\n",
       "    <tr>\n",
       "      <th>Date</th>\n",
       "      <th></th>\n",
       "      <th></th>\n",
       "      <th></th>\n",
       "      <th></th>\n",
       "      <th></th>\n",
       "      <th></th>\n",
       "      <th></th>\n",
       "      <th></th>\n",
       "      <th></th>\n",
       "      <th></th>\n",
       "      <th></th>\n",
       "      <th></th>\n",
       "      <th></th>\n",
       "      <th></th>\n",
       "      <th></th>\n",
       "    </tr>\n",
       "  </thead>\n",
       "  <tbody>\n",
       "    <tr>\n",
       "      <th>2021-08-05</th>\n",
       "      <td>0.000749</td>\n",
       "      <td>-0.054054</td>\n",
       "      <td>0.019598</td>\n",
       "      <td>0.008243</td>\n",
       "      <td>-0.018394</td>\n",
       "      <td>0.023931</td>\n",
       "      <td>0.003638</td>\n",
       "      <td>-0.009244</td>\n",
       "      <td>0.010679</td>\n",
       "      <td>0.017905</td>\n",
       "      <td>0.019815</td>\n",
       "      <td>0.003339</td>\n",
       "      <td>0.003733</td>\n",
       "      <td>0.005502</td>\n",
       "      <td>0.018552</td>\n",
       "    </tr>\n",
       "    <tr>\n",
       "      <th>2021-08-06</th>\n",
       "      <td>-0.004767</td>\n",
       "      <td>-0.019938</td>\n",
       "      <td>0.028960</td>\n",
       "      <td>0.007658</td>\n",
       "      <td>0.014991</td>\n",
       "      <td>0.002377</td>\n",
       "      <td>-0.006914</td>\n",
       "      <td>-0.016257</td>\n",
       "      <td>0.006963</td>\n",
       "      <td>-0.013132</td>\n",
       "      <td>0.045337</td>\n",
       "      <td>-0.005011</td>\n",
       "      <td>-0.011703</td>\n",
       "      <td>-0.007168</td>\n",
       "      <td>-0.001787</td>\n",
       "    </tr>\n",
       "    <tr>\n",
       "      <th>2021-08-09</th>\n",
       "      <td>-0.000342</td>\n",
       "      <td>-0.022977</td>\n",
       "      <td>0.012951</td>\n",
       "      <td>0.006562</td>\n",
       "      <td>0.004923</td>\n",
       "      <td>-0.002315</td>\n",
       "      <td>0.001759</td>\n",
       "      <td>0.030752</td>\n",
       "      <td>-0.010280</td>\n",
       "      <td>-0.003486</td>\n",
       "      <td>0.008674</td>\n",
       "      <td>0.008920</td>\n",
       "      <td>-0.000830</td>\n",
       "      <td>0.008276</td>\n",
       "      <td>0.002410</td>\n",
       "    </tr>\n",
       "    <tr>\n",
       "      <th>2021-08-10</th>\n",
       "      <td>-0.003354</td>\n",
       "      <td>-0.010225</td>\n",
       "      <td>0.018687</td>\n",
       "      <td>0.011741</td>\n",
       "      <td>0.019473</td>\n",
       "      <td>0.001981</td>\n",
       "      <td>-0.009529</td>\n",
       "      <td>0.000418</td>\n",
       "      <td>-0.007662</td>\n",
       "      <td>-0.017689</td>\n",
       "      <td>-0.003686</td>\n",
       "      <td>0.006326</td>\n",
       "      <td>-0.003711</td>\n",
       "      <td>-0.002969</td>\n",
       "      <td>0.021294</td>\n",
       "    </tr>\n",
       "    <tr>\n",
       "      <th>2021-08-11</th>\n",
       "      <td>0.001786</td>\n",
       "      <td>0.011270</td>\n",
       "      <td>0.012551</td>\n",
       "      <td>0.004964</td>\n",
       "      <td>0.020543</td>\n",
       "      <td>0.005760</td>\n",
       "      <td>0.003961</td>\n",
       "      <td>-0.009615</td>\n",
       "      <td>-0.009787</td>\n",
       "      <td>-0.011888</td>\n",
       "      <td>0.028360</td>\n",
       "      <td>-0.004014</td>\n",
       "      <td>0.008227</td>\n",
       "      <td>0.004379</td>\n",
       "      <td>0.008945</td>\n",
       "    </tr>\n",
       "  </tbody>\n",
       "</table>\n",
       "</div>"
      ],
      "text/plain": [
       "                AAPL       AMD       BAC       BLK       CVS       DIS  \\\n",
       "Date                                                                     \n",
       "2021-08-05  0.000749 -0.054054  0.019598  0.008243 -0.018394  0.023931   \n",
       "2021-08-06 -0.004767 -0.019938  0.028960  0.007658  0.014991  0.002377   \n",
       "2021-08-09 -0.000342 -0.022977  0.012951  0.006562  0.004923 -0.002315   \n",
       "2021-08-10 -0.003354 -0.010225  0.018687  0.011741  0.019473  0.001981   \n",
       "2021-08-11  0.001786  0.011270  0.012551  0.004964  0.020543  0.005760   \n",
       "\n",
       "                INTU        JD        MA      NVDA       PBI       TGT  \\\n",
       "Date                                                                     \n",
       "2021-08-05  0.003638 -0.009244  0.010679  0.017905  0.019815  0.003339   \n",
       "2021-08-06 -0.006914 -0.016257  0.006963 -0.013132  0.045337 -0.005011   \n",
       "2021-08-09  0.001759  0.030752 -0.010280 -0.003486  0.008674  0.008920   \n",
       "2021-08-10 -0.009529  0.000418 -0.007662 -0.017689 -0.003686  0.006326   \n",
       "2021-08-11  0.003961 -0.009615 -0.009787 -0.011888  0.028360 -0.004014   \n",
       "\n",
       "                  TM        UL       WMT  \n",
       "Date                                      \n",
       "2021-08-05  0.003733  0.005502  0.018552  \n",
       "2021-08-06 -0.011703 -0.007168 -0.001787  \n",
       "2021-08-09 -0.000830  0.008276  0.002410  \n",
       "2021-08-10 -0.003711 -0.002969  0.021294  \n",
       "2021-08-11  0.008227  0.004379  0.008945  "
      ]
     },
     "execution_count": 3,
     "metadata": {},
     "output_type": "execute_result"
    }
   ],
   "source": [
    "from pypfopt import expected_returns\n",
    "\n",
    "rets = expected_returns.returns_from_prices(prices)\n",
    "rets.tail()"
   ]
  },
  {
   "cell_type": "markdown",
   "id": "answering-tamil",
   "metadata": {},
   "source": [
    "## HRP optimization\n",
    "\n",
    "HRP uses a completely different backend, so it is currently not possible to pass constraints or specify an objective function."
   ]
  },
  {
   "cell_type": "code",
   "execution_count": 4,
   "id": "crazy-minority",
   "metadata": {},
   "outputs": [],
   "source": [
    "from pypfopt import HRPOpt"
   ]
  },
  {
   "cell_type": "code",
   "execution_count": 5,
   "id": "determined-license",
   "metadata": {},
   "outputs": [
    {
     "data": {
      "text/plain": [
       "OrderedDict([('AAPL', 0.03464),\n",
       "             ('AMD', 0.01777),\n",
       "             ('BAC', 0.0457),\n",
       "             ('BLK', 0.04886),\n",
       "             ('CVS', 0.0939),\n",
       "             ('DIS', 0.06747),\n",
       "             ('INTU', 0.03233),\n",
       "             ('JD', 0.05223),\n",
       "             ('MA', 0.04961),\n",
       "             ('NVDA', 0.01714),\n",
       "             ('PBI', 0.0823),\n",
       "             ('TGT', 0.08819),\n",
       "             ('TM', 0.11122),\n",
       "             ('UL', 0.15305),\n",
       "             ('WMT', 0.10561)])"
      ]
     },
     "execution_count": 5,
     "metadata": {},
     "output_type": "execute_result"
    }
   ],
   "source": [
    "hrp = HRPOpt(rets)\n",
    "hrp.optimize()\n",
    "weights = hrp.clean_weights()\n",
    "weights"
   ]
  },
  {
   "cell_type": "code",
   "execution_count": 6,
   "id": "existing-memphis",
   "metadata": {},
   "outputs": [
    {
     "data": {
      "image/png": "[encoded data removed]",
      "text/plain": [
       "<Figure size 720x720 with 1 Axes>"
      ]
     },
     "metadata": {},
     "output_type": "display_data"
    }
   ],
   "source": [
    "pd.Series(weights).plot.pie(figsize=(10, 10));"
   ]
  },
  {
   "cell_type": "code",
   "execution_count": 7,
   "id": "dramatic-spyware",
   "metadata": {},
   "outputs": [
    {
     "name": "stdout",
     "output_type": "stream",
     "text": [
      "Expected annual return: 20.1%\n",
      "Annual volatility: 19.0%\n",
      "Sharpe Ratio: 0.95\n"
     ]
    }
   ],
   "source": [
    "hrp.portfolio_performance(verbose=True);"
   ]
  },
  {
   "cell_type": "markdown",
   "id": "occupational-costume",
   "metadata": {},
   "source": [
    "## Plotting\n",
    "\n",
    "It is very simple to plot a dendrogram (tree diagram) based on the hierarchical structure of asset returns"
   ]
  },
  {
   "cell_type": "code",
   "execution_count": 8,
   "id": "upset-meaning",
   "metadata": {},
   "outputs": [
    {
     "data": {
      "image/png": "[encoded data removed]",
      "text/plain": [
       "<Figure size 432x288 with 1 Axes>"
      ]
     },
     "metadata": {
      "needs_background": "light"
     },
     "output_type": "display_data"
    }
   ],
   "source": [
    "from pypfopt import plotting\n",
    "\n",
    "plotting.plot_dendrogram(hrp); "
   ]
  },
  {
   "cell_type": "markdown",
   "id": "brave-shock",
   "metadata": {},
   "source": [
    "If you look at this dendogram closely, you can see that most of the clusters make a lot of sense. For example, AMD and NVDA (both semiconductor manufacturers) are grouped."
   ]
  },
  {
   "cell_type": "code",
   "execution_count": null,
   "id": "macro-found",
   "metadata": {},
   "outputs": [],
   "source": []
  }
 ],
 "metadata": {
  "kernelspec": {
   "display_name": "Python 3 (ipykernel)",
   "language": "python",
   "name": "python3"
  },
  "language_info": {
   "codemirror_mode": {
    "name": "ipython",
    "version": 3
   },
   "file_extension": ".py",
   "mimetype": "text/x-python",
   "name": "python",
   "nbconvert_exporter": "python",
   "pygments_lexer": "ipython3",
   "version": "3.8.5"
  }
 },
 "nbformat": 4,
 "nbformat_minor": 5
}
