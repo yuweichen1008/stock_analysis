{
 "cells": [
  {
   "cell_type": "markdown",
   "id": "consolidated-vault",
   "metadata": {},
   "source": [
    "# Hierarchical Risk Parity\n",
    "\n",
    "HRP is a modern portfolio optimization method inspired by machine learning.\n",
    "\n",
    "The idea is that by examining the hierarchical structure of the market, we can better diversify. \n",
    "\n",
    "In this cookbook recipe, we will cover:\n",
    "\n",
    "- Downloading data for HRP\n",
    "- Using HRP to find the minimum variance portfolio\n",
    "- Plotting dendrograms\n",
    "\n"
   ]
  },
  {
   "cell_type": "markdown",
   "id": "saving-safety",
   "metadata": {},
   "source": [
    "## Downloading data\n",
    "\n",
    "HRP only requires historical returns"
   ]
  },
  {
   "cell_type": "code",
   "execution_count": 1,
   "id": "committed-riverside",
   "metadata": {},
   "outputs": [
    {
     "data": {
      "text/plain": [
       "'1.4.2'"
      ]
     },
     "execution_count": 1,
     "metadata": {},
     "output_type": "execute_result"
    }
   ],
   "source": [
    "import numpy as np\n",
    "import pandas as pd\n",
    "import matplotlib.pyplot as plt\n",
    "import yfinance as yf\n",
    "import pypfopt\n",
    "\n",
    "pypfopt.__version__"
   ]
  },
  {
   "cell_type": "code",
   "execution_count": 2,
   "id": "accredited-enterprise",
   "metadata": {},
   "outputs": [
    {
     "name": "stdout",
     "output_type": "stream",
     "text": [
      "[*********************100%***********************]  15 of 15 completed\n"
     ]
    },
    {
     "data": {
      "text/html": [
       "<div>\n",
       "<style scoped>\n",
       "    .dataframe tbody tr th:only-of-type {\n",
       "        vertical-align: middle;\n",
       "    }\n",
       "\n",
       "    .dataframe tbody tr th {\n",
       "        vertical-align: top;\n",
       "    }\n",
       "\n",
       "    .dataframe thead th {\n",
       "        text-align: right;\n",
       "    }\n",
       "</style>\n",
       "<table border=\"1\" class=\"dataframe\">\n",
       "  <thead>\n",
       "    <tr style=\"text-align: right;\">\n",
       "      <th></th>\n",
       "      <th>AAPL</th>\n",
       "      <th>AMD</th>\n",
       "      <th>BAC</th>\n",
       "      <th>BLK</th>\n",
       "      <th>CVS</th>\n",
       "      <th>DIS</th>\n",
       "      <th>INTU</th>\n",
       "      <th>JD</th>\n",
       "      <th>MA</th>\n",
       "      <th>NVDA</th>\n",
       "      <th>PBI</th>\n",
       "      <th>TGT</th>\n",
       "      <th>TM</th>\n",
       "      <th>UL</th>\n",
       "      <th>WMT</th>\n",
       "    </tr>\n",
       "    <tr>\n",
       "      <th>Date</th>\n",
       "      <th></th>\n",
       "      <th></th>\n",
       "      <th></th>\n",
       "      <th></th>\n",
       "      <th></th>\n",
       "      <th></th>\n",
       "      <th></th>\n",
       "      <th></th>\n",
       "      <th></th>\n",
       "      <th></th>\n",
       "      <th></th>\n",
       "      <th></th>\n",
       "      <th></th>\n",
       "      <th></th>\n",
       "      <th></th>\n",
       "    </tr>\n",
       "  </thead>\n",
       "  <tbody>\n",
       "    <tr>\n",
       "      <th>2021-12-06</th>\n",
       "      <td>165.320007</td>\n",
       "      <td>139.059998</td>\n",
       "      <td>44.150002</td>\n",
       "      <td>896.700012</td>\n",
       "      <td>92.650002</td>\n",
       "      <td>150.369995</td>\n",
       "      <td>645.340027</td>\n",
       "      <td>75.190002</td>\n",
       "      <td>333.329987</td>\n",
       "      <td>300.369995</td>\n",
       "      <td>6.74</td>\n",
       "      <td>242.970001</td>\n",
       "      <td>184.589996</td>\n",
       "      <td>52.619999</td>\n",
       "      <td>139.000000</td>\n",
       "    </tr>\n",
       "    <tr>\n",
       "      <th>2021-12-07</th>\n",
       "      <td>171.179993</td>\n",
       "      <td>144.850006</td>\n",
       "      <td>44.709999</td>\n",
       "      <td>920.919983</td>\n",
       "      <td>92.930000</td>\n",
       "      <td>150.809998</td>\n",
       "      <td>673.299988</td>\n",
       "      <td>78.089996</td>\n",
       "      <td>339.510010</td>\n",
       "      <td>324.269989</td>\n",
       "      <td>6.83</td>\n",
       "      <td>245.630005</td>\n",
       "      <td>187.440002</td>\n",
       "      <td>52.349998</td>\n",
       "      <td>138.550003</td>\n",
       "    </tr>\n",
       "    <tr>\n",
       "      <th>2021-12-08</th>\n",
       "      <td>175.080002</td>\n",
       "      <td>145.240005</td>\n",
       "      <td>44.160000</td>\n",
       "      <td>923.859985</td>\n",
       "      <td>93.099998</td>\n",
       "      <td>153.339996</td>\n",
       "      <td>673.059998</td>\n",
       "      <td>78.290001</td>\n",
       "      <td>342.339996</td>\n",
       "      <td>318.260010</td>\n",
       "      <td>6.95</td>\n",
       "      <td>239.600006</td>\n",
       "      <td>182.479996</td>\n",
       "      <td>52.980000</td>\n",
       "      <td>137.149994</td>\n",
       "    </tr>\n",
       "    <tr>\n",
       "      <th>2021-12-09</th>\n",
       "      <td>174.559998</td>\n",
       "      <td>138.100006</td>\n",
       "      <td>44.490002</td>\n",
       "      <td>919.080017</td>\n",
       "      <td>97.309998</td>\n",
       "      <td>152.940002</td>\n",
       "      <td>665.510010</td>\n",
       "      <td>79.570000</td>\n",
       "      <td>344.519989</td>\n",
       "      <td>304.899994</td>\n",
       "      <td>6.77</td>\n",
       "      <td>237.559998</td>\n",
       "      <td>180.770004</td>\n",
       "      <td>52.900002</td>\n",
       "      <td>138.500000</td>\n",
       "    </tr>\n",
       "    <tr>\n",
       "      <th>2021-12-10</th>\n",
       "      <td>179.449997</td>\n",
       "      <td>138.550003</td>\n",
       "      <td>44.520000</td>\n",
       "      <td>925.159973</td>\n",
       "      <td>98.860001</td>\n",
       "      <td>152.710007</td>\n",
       "      <td>677.950012</td>\n",
       "      <td>79.709999</td>\n",
       "      <td>349.920013</td>\n",
       "      <td>301.980011</td>\n",
       "      <td>6.70</td>\n",
       "      <td>238.179993</td>\n",
       "      <td>182.350006</td>\n",
       "      <td>53.250000</td>\n",
       "      <td>141.029999</td>\n",
       "    </tr>\n",
       "  </tbody>\n",
       "</table>\n",
       "</div>"
      ],
      "text/plain": [
       "                  AAPL         AMD        BAC         BLK        CVS  \\\n",
       "Date                                                                   \n",
       "2021-12-06  165.320007  139.059998  44.150002  896.700012  92.650002   \n",
       "2021-12-07  171.179993  144.850006  44.709999  920.919983  92.930000   \n",
       "2021-12-08  175.080002  145.240005  44.160000  923.859985  93.099998   \n",
       "2021-12-09  174.559998  138.100006  44.490002  919.080017  97.309998   \n",
       "2021-12-10  179.449997  138.550003  44.520000  925.159973  98.860001   \n",
       "\n",
       "                   DIS        INTU         JD          MA        NVDA   PBI  \\\n",
       "Date                                                                          \n",
       "2021-12-06  150.369995  645.340027  75.190002  333.329987  300.369995  6.74   \n",
       "2021-12-07  150.809998  673.299988  78.089996  339.510010  324.269989  6.83   \n",
       "2021-12-08  153.339996  673.059998  78.290001  342.339996  318.260010  6.95   \n",
       "2021-12-09  152.940002  665.510010  79.570000  344.519989  304.899994  6.77   \n",
       "2021-12-10  152.710007  677.950012  79.709999  349.920013  301.980011  6.70   \n",
       "\n",
       "                   TGT          TM         UL         WMT  \n",
       "Date                                                       \n",
       "2021-12-06  242.970001  184.589996  52.619999  139.000000  \n",
       "2021-12-07  245.630005  187.440002  52.349998  138.550003  \n",
       "2021-12-08  239.600006  182.479996  52.980000  137.149994  \n",
       "2021-12-09  237.559998  180.770004  52.900002  138.500000  \n",
       "2021-12-10  238.179993  182.350006  53.250000  141.029999  "
      ]
     },
     "execution_count": 2,
     "metadata": {},
     "output_type": "execute_result"
    }
   ],
   "source": [
    "tickers = [\"BLK\", \"BAC\", \"AAPL\", \"TM\", \"WMT\",\n",
    "           \"JD\", \"INTU\", \"MA\", \"UL\", \"CVS\",\n",
    "           \"DIS\", \"AMD\", \"NVDA\", \"PBI\", \"TGT\"]\n",
    "\n",
    "ohlc = yf.download(tickers, period=\"max\")\n",
    "prices = ohlc[\"Adj Close\"]\n",
    "prices.tail()"
   ]
  },
  {
   "cell_type": "code",
   "execution_count": 3,
   "id": "confident-plant",
   "metadata": {},
   "outputs": [
    {
     "data": {
      "text/html": [
       "<div>\n",
       "<style scoped>\n",
       "    .dataframe tbody tr th:only-of-type {\n",
       "        vertical-align: middle;\n",
       "    }\n",
       "\n",
       "    .dataframe tbody tr th {\n",
       "        vertical-align: top;\n",
       "    }\n",
       "\n",
       "    .dataframe thead th {\n",
       "        text-align: right;\n",
       "    }\n",
       "</style>\n",
       "<table border=\"1\" class=\"dataframe\">\n",
       "  <thead>\n",
       "    <tr style=\"text-align: right;\">\n",
       "      <th></th>\n",
       "      <th>AAPL</th>\n",
       "      <th>AMD</th>\n",
       "      <th>BAC</th>\n",
       "      <th>BLK</th>\n",
       "      <th>CVS</th>\n",
       "      <th>DIS</th>\n",
       "      <th>INTU</th>\n",
       "      <th>JD</th>\n",
       "      <th>MA</th>\n",
       "      <th>NVDA</th>\n",
       "      <th>PBI</th>\n",
       "      <th>TGT</th>\n",
       "      <th>TM</th>\n",
       "      <th>UL</th>\n",
       "      <th>WMT</th>\n",
       "    </tr>\n",
       "    <tr>\n",
       "      <th>Date</th>\n",
       "      <th></th>\n",
       "      <th></th>\n",
       "      <th></th>\n",
       "      <th></th>\n",
       "      <th></th>\n",
       "      <th></th>\n",
       "      <th></th>\n",
       "      <th></th>\n",
       "      <th></th>\n",
       "      <th></th>\n",
       "      <th></th>\n",
       "      <th></th>\n",
       "      <th></th>\n",
       "      <th></th>\n",
       "      <th></th>\n",
       "    </tr>\n",
       "  </thead>\n",
       "  <tbody>\n",
       "    <tr>\n",
       "      <th>2021-12-06</th>\n",
       "      <td>0.021503</td>\n",
       "      <td>-0.034373</td>\n",
       "      <td>0.006383</td>\n",
       "      <td>0.001407</td>\n",
       "      <td>0.019588</td>\n",
       "      <td>0.028382</td>\n",
       "      <td>-0.004043</td>\n",
       "      <td>-0.035407</td>\n",
       "      <td>0.034833</td>\n",
       "      <td>-0.021373</td>\n",
       "      <td>0.018127</td>\n",
       "      <td>-0.018581</td>\n",
       "      <td>0.011674</td>\n",
       "      <td>0.025931</td>\n",
       "      <td>0.010836</td>\n",
       "    </tr>\n",
       "    <tr>\n",
       "      <th>2021-12-07</th>\n",
       "      <td>0.035446</td>\n",
       "      <td>0.041637</td>\n",
       "      <td>0.012684</td>\n",
       "      <td>0.027010</td>\n",
       "      <td>0.003022</td>\n",
       "      <td>0.002926</td>\n",
       "      <td>0.043326</td>\n",
       "      <td>0.038569</td>\n",
       "      <td>0.018540</td>\n",
       "      <td>0.079569</td>\n",
       "      <td>0.013353</td>\n",
       "      <td>0.010948</td>\n",
       "      <td>0.015440</td>\n",
       "      <td>-0.005131</td>\n",
       "      <td>-0.003237</td>\n",
       "    </tr>\n",
       "    <tr>\n",
       "      <th>2021-12-08</th>\n",
       "      <td>0.022783</td>\n",
       "      <td>0.002692</td>\n",
       "      <td>-0.012301</td>\n",
       "      <td>0.003192</td>\n",
       "      <td>0.001829</td>\n",
       "      <td>0.016776</td>\n",
       "      <td>-0.000356</td>\n",
       "      <td>0.002561</td>\n",
       "      <td>0.008336</td>\n",
       "      <td>-0.018534</td>\n",
       "      <td>0.017570</td>\n",
       "      <td>-0.024549</td>\n",
       "      <td>-0.026462</td>\n",
       "      <td>0.012034</td>\n",
       "      <td>-0.010105</td>\n",
       "    </tr>\n",
       "    <tr>\n",
       "      <th>2021-12-09</th>\n",
       "      <td>-0.002970</td>\n",
       "      <td>-0.049160</td>\n",
       "      <td>0.007473</td>\n",
       "      <td>-0.005174</td>\n",
       "      <td>0.045220</td>\n",
       "      <td>-0.002609</td>\n",
       "      <td>-0.011217</td>\n",
       "      <td>0.016349</td>\n",
       "      <td>0.006368</td>\n",
       "      <td>-0.041978</td>\n",
       "      <td>-0.025899</td>\n",
       "      <td>-0.008514</td>\n",
       "      <td>-0.009371</td>\n",
       "      <td>-0.001510</td>\n",
       "      <td>0.009843</td>\n",
       "    </tr>\n",
       "    <tr>\n",
       "      <th>2021-12-10</th>\n",
       "      <td>0.028013</td>\n",
       "      <td>0.003258</td>\n",
       "      <td>0.000674</td>\n",
       "      <td>0.006615</td>\n",
       "      <td>0.015929</td>\n",
       "      <td>-0.001504</td>\n",
       "      <td>0.018692</td>\n",
       "      <td>0.001759</td>\n",
       "      <td>0.015674</td>\n",
       "      <td>-0.009577</td>\n",
       "      <td>-0.010340</td>\n",
       "      <td>0.002610</td>\n",
       "      <td>0.008740</td>\n",
       "      <td>0.006616</td>\n",
       "      <td>0.018267</td>\n",
       "    </tr>\n",
       "  </tbody>\n",
       "</table>\n",
       "</div>"
      ],
      "text/plain": [
       "                AAPL       AMD       BAC       BLK       CVS       DIS  \\\n",
       "Date                                                                     \n",
       "2021-12-06  0.021503 -0.034373  0.006383  0.001407  0.019588  0.028382   \n",
       "2021-12-07  0.035446  0.041637  0.012684  0.027010  0.003022  0.002926   \n",
       "2021-12-08  0.022783  0.002692 -0.012301  0.003192  0.001829  0.016776   \n",
       "2021-12-09 -0.002970 -0.049160  0.007473 -0.005174  0.045220 -0.002609   \n",
       "2021-12-10  0.028013  0.003258  0.000674  0.006615  0.015929 -0.001504   \n",
       "\n",
       "                INTU        JD        MA      NVDA       PBI       TGT  \\\n",
       "Date                                                                     \n",
       "2021-12-06 -0.004043 -0.035407  0.034833 -0.021373  0.018127 -0.018581   \n",
       "2021-12-07  0.043326  0.038569  0.018540  0.079569  0.013353  0.010948   \n",
       "2021-12-08 -0.000356  0.002561  0.008336 -0.018534  0.017570 -0.024549   \n",
       "2021-12-09 -0.011217  0.016349  0.006368 -0.041978 -0.025899 -0.008514   \n",
       "2021-12-10  0.018692  0.001759  0.015674 -0.009577 -0.010340  0.002610   \n",
       "\n",
       "                  TM        UL       WMT  \n",
       "Date                                      \n",
       "2021-12-06  0.011674  0.025931  0.010836  \n",
       "2021-12-07  0.015440 -0.005131 -0.003237  \n",
       "2021-12-08 -0.026462  0.012034 -0.010105  \n",
       "2021-12-09 -0.009371 -0.001510  0.009843  \n",
       "2021-12-10  0.008740  0.006616  0.018267  "
      ]
     },
     "execution_count": 3,
     "metadata": {},
     "output_type": "execute_result"
    }
   ],
   "source": [
    "from pypfopt import expected_returns\n",
    "\n",
    "rets = expected_returns.returns_from_prices(prices)\n",
    "rets.tail()"
   ]
  },
  {
   "cell_type": "markdown",
   "id": "answering-tamil",
   "metadata": {},
   "source": [
    "## HRP optimization\n",
    "\n",
    "HRP uses a completely different backend, so it is currently not possible to pass constraints or specify an objective function."
   ]
  },
  {
   "cell_type": "code",
   "execution_count": 4,
   "id": "crazy-minority",
   "metadata": {},
   "outputs": [],
   "source": [
    "from pypfopt import HRPOpt"
   ]
  },
  {
   "cell_type": "code",
   "execution_count": 5,
   "id": "determined-license",
   "metadata": {},
   "outputs": [
    {
     "data": {
      "text/plain": [
       "OrderedDict([('AAPL', 0.04426),\n",
       "             ('AMD', 0.02047),\n",
       "             ('BAC', 0.04221),\n",
       "             ('BLK', 0.04432),\n",
       "             ('CVS', 0.09399),\n",
       "             ('DIS', 0.06213),\n",
       "             ('INTU', 0.04173),\n",
       "             ('JD', 0.05279),\n",
       "             ('MA', 0.04472),\n",
       "             ('NVDA', 0.01978),\n",
       "             ('PBI', 0.08198),\n",
       "             ('TGT', 0.0882),\n",
       "             ('TM', 0.09436),\n",
       "             ('UL', 0.15796),\n",
       "             ('WMT', 0.1111)])"
      ]
     },
     "execution_count": 5,
     "metadata": {},
     "output_type": "execute_result"
    }
   ],
   "source": [
    "hrp = HRPOpt(rets)\n",
    "hrp.optimize()\n",
    "weights = hrp.clean_weights()\n",
    "weights"
   ]
  },
  {
   "cell_type": "code",
   "execution_count": 6,
   "id": "existing-memphis",
   "metadata": {},
   "outputs": [
    {
     "data": {
      "image/png": "[encoded data removed]",
      "text/plain": [
       "<Figure size 720x720 with 1 Axes>"
      ]
     },
     "metadata": {},
     "output_type": "display_data"
    }
   ],
   "source": [
    "pd.Series(weights).plot.pie(figsize=(10, 10));"
   ]
  },
  {
   "cell_type": "code",
   "execution_count": 7,
   "id": "dramatic-spyware",
   "metadata": {},
   "outputs": [
    {
     "name": "stdout",
     "output_type": "stream",
     "text": [
      "Expected annual return: 19.9%\n",
      "Annual volatility: 19.0%\n",
      "Sharpe Ratio: 0.95\n"
     ]
    }
   ],
   "source": [
    "hrp.portfolio_performance(verbose=True);"
   ]
  },
  {
   "cell_type": "markdown",
   "id": "occupational-costume",
   "metadata": {},
   "source": [
    "## Plotting\n",
    "\n",
    "It is very simple to plot a dendrogram (tree diagram) based on the hierarchical structure of asset returns"
   ]
  },
  {
   "cell_type": "code",
   "execution_count": 8,
   "id": "upset-meaning",
   "metadata": {},
   "outputs": [
    {
     "data": {
      "image/png": "[encoded data removed]",
      "text/plain": [
       "<Figure size 432x288 with 1 Axes>"
      ]
     },
     "metadata": {
      "needs_background": "light"
     },
     "output_type": "display_data"
    }
   ],
   "source": [
    "from pypfopt import plotting\n",
    "\n",
    "plotting.plot_dendrogram(hrp); "
   ]
  },
  {
   "cell_type": "markdown",
   "id": "brave-shock",
   "metadata": {},
   "source": [
    "If you look at this dendogram closely, you can see that most of the clusters make a lot of sense. For example, AMD and NVDA (both semiconductor manufacturers) are grouped."
   ]
  },
  {
   "cell_type": "code",
   "execution_count": null,
   "id": "macro-found",
   "metadata": {},
   "outputs": [],
   "source": []
  }
 ],
 "metadata": {
  "kernelspec": {
   "display_name": "Python 3 (ipykernel)",
   "language": "python",
   "name": "python3"
  },
  "language_info": {
   "codemirror_mode": {
    "name": "ipython",
    "version": 3
   },
   "file_extension": ".py",
   "mimetype": "text/x-python",
   "name": "python",
   "nbconvert_exporter": "python",
   "pygments_lexer": "ipython3",
   "version": "3.8.10"
  }
 },
 "nbformat": 4,
 "nbformat_minor": 5
}
