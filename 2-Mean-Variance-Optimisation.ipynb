{
 "cells": [
  {
   "cell_type": "markdown",
   "metadata": {},
   "source": [
    "# Mean-variance optimization\n",
    "\n",
    "In this cookbook recipe, we work on several examples demonstrating PyPortfolioOpt's mean-variance capabilities. I will discuss what I think should be your \"default\" options, based on my experience in optimising portfolios.\n",
    "\n",
    "To start, you need a list of tickers. Some people just provide the whole universe of stocks, but I don't think this is a good idea - portfolio optimization is quite different from asset selection. I would suggest anywhere from 10-50 stocks as a starting point.\n",
    "\n",
    "Some of the things we cover:\n",
    "\n",
    "- Downloading data and getting it into PyPortfolioOpt\n",
    "- Calculating and visualising the covariance matrix\n",
    "- Optimising a long/short portfolio to minimise total variance\n",
    "- Optimising a portfolio to maximise the Sharpe ratio, subject to sector constraints\n",
    "- Optimising a portfolio to maximise return for a given risk, subject to sector constraints, with an L2 regularisation objective\n",
    "- Optimising a market-neutral portfolio to minimise risk for a given level of return\n",
    "- Optimising along the mean-semivariance frontier\n",
    "- Optimising along the mean-CVaR frontier\n",
    "- Plotting the efficient frontier:\n",
    "    - Simple (using CLA)\n",
    "    - Constrained\n",
    "    - Complex plots\n",
    "\n",
    "Please consult the [docs](https://pyportfolioopt.readthedocs.io/) for more info.\n",
    "\n",
    "## Downloading data\n",
    "\n",
    "To download data, we will use `yfinance`, an excellent library that provides free price data from Yahoo Finance, no API key needed."
   ]
  },
  {
   "cell_type": "code",
   "execution_count": 2,
   "metadata": {},
   "outputs": [],
   "source": [
    "import yfinance as yf\n",
    "import matplotlib.pyplot as plt\n",
    "import pandas as pd\n",
    "import numpy as np"
   ]
  },
  {
   "cell_type": "code",
   "execution_count": 3,
   "metadata": {},
   "outputs": [],
   "source": [
    "tickers = [\"MSFT\", \"AMZN\", \"KO\", \"MA\", \"COST\", \n",
    "           \"LUV\", \"XOM\", \"PFE\", \"JPM\", \"UNH\", \n",
    "           \"ACN\", \"DIS\", \"GILD\", \"F\", \"TSLA\"] "
   ]
  },
  {
   "cell_type": "code",
   "execution_count": 4,
   "metadata": {},
   "outputs": [
    {
     "name": "stdout",
     "output_type": "stream",
     "text": [
      "[*********************100%***********************]  15 of 15 completed\n"
     ]
    }
   ],
   "source": [
    "ohlc = yf.download(tickers, period=\"max\")"
   ]
  },
  {
   "cell_type": "markdown",
   "metadata": {},
   "source": [
    "# Download Data"
   ]
  },
  {
   "cell_type": "code",
   "execution_count": 5,
   "metadata": {},
   "outputs": [
    {
     "name": "stdout",
     "output_type": "stream",
     "text": [
      "[*********************100%***********************]  1 of 1 completed\n",
      "[*********************100%***********************]  1 of 1 completed\n"
     ]
    }
   ],
   "source": [
    "tickerStrings = ['AAPL', 'MSFT']\n",
    "for ticker in tickerStrings:\n",
    "    data = yf.download(ticker, group_by=\"Ticker\", period=\"6mo\")\n",
    "    data['ticker'] = ticker  # add this column becasue the dataframe doesn't contain a column with the ticker\n",
    "    data.to_csv(f'data/ticker_{ticker}.csv')  # ticker_AAPL.csv for example"
   ]
  },
  {
   "cell_type": "code",
   "execution_count": 6,
   "metadata": {},
   "outputs": [],
   "source": [
    "df = pd.read_csv('data/ticker_AAPL.csv')"
   ]
  },
  {
   "cell_type": "code",
   "execution_count": 7,
   "metadata": {},
   "outputs": [
    {
     "data": {
      "text/html": [
       "<div>\n",
       "<style scoped>\n",
       "    .dataframe tbody tr th:only-of-type {\n",
       "        vertical-align: middle;\n",
       "    }\n",
       "\n",
       "    .dataframe tbody tr th {\n",
       "        vertical-align: top;\n",
       "    }\n",
       "\n",
       "    .dataframe thead th {\n",
       "        text-align: right;\n",
       "    }\n",
       "</style>\n",
       "<table border=\"1\" class=\"dataframe\">\n",
       "  <thead>\n",
       "    <tr style=\"text-align: right;\">\n",
       "      <th></th>\n",
       "      <th>ACN</th>\n",
       "      <th>AMZN</th>\n",
       "      <th>COST</th>\n",
       "      <th>DIS</th>\n",
       "      <th>F</th>\n",
       "      <th>GILD</th>\n",
       "      <th>JPM</th>\n",
       "      <th>KO</th>\n",
       "      <th>LUV</th>\n",
       "      <th>MA</th>\n",
       "      <th>MSFT</th>\n",
       "      <th>PFE</th>\n",
       "      <th>TSLA</th>\n",
       "      <th>UNH</th>\n",
       "      <th>XOM</th>\n",
       "    </tr>\n",
       "    <tr>\n",
       "      <th>Date</th>\n",
       "      <th></th>\n",
       "      <th></th>\n",
       "      <th></th>\n",
       "      <th></th>\n",
       "      <th></th>\n",
       "      <th></th>\n",
       "      <th></th>\n",
       "      <th></th>\n",
       "      <th></th>\n",
       "      <th></th>\n",
       "      <th></th>\n",
       "      <th></th>\n",
       "      <th></th>\n",
       "      <th></th>\n",
       "      <th></th>\n",
       "    </tr>\n",
       "  </thead>\n",
       "  <tbody>\n",
       "    <tr>\n",
       "      <th>2021-12-06</th>\n",
       "      <td>362.230011</td>\n",
       "      <td>3427.370117</td>\n",
       "      <td>533.200012</td>\n",
       "      <td>150.369995</td>\n",
       "      <td>19.219999</td>\n",
       "      <td>69.500000</td>\n",
       "      <td>160.160004</td>\n",
       "      <td>54.910000</td>\n",
       "      <td>45.560001</td>\n",
       "      <td>333.329987</td>\n",
       "      <td>326.190002</td>\n",
       "      <td>51.480000</td>\n",
       "      <td>1009.010010</td>\n",
       "      <td>460.109985</td>\n",
       "      <td>61.580002</td>\n",
       "    </tr>\n",
       "    <tr>\n",
       "      <th>2021-12-07</th>\n",
       "      <td>371.339996</td>\n",
       "      <td>3523.290039</td>\n",
       "      <td>542.020020</td>\n",
       "      <td>150.809998</td>\n",
       "      <td>19.959999</td>\n",
       "      <td>69.650002</td>\n",
       "      <td>162.570007</td>\n",
       "      <td>55.209999</td>\n",
       "      <td>45.209999</td>\n",
       "      <td>339.510010</td>\n",
       "      <td>334.920013</td>\n",
       "      <td>51.720001</td>\n",
       "      <td>1051.750000</td>\n",
       "      <td>464.730011</td>\n",
       "      <td>62.270000</td>\n",
       "    </tr>\n",
       "    <tr>\n",
       "      <th>2021-12-08</th>\n",
       "      <td>374.529999</td>\n",
       "      <td>3523.159912</td>\n",
       "      <td>530.109985</td>\n",
       "      <td>153.339996</td>\n",
       "      <td>19.809999</td>\n",
       "      <td>69.709999</td>\n",
       "      <td>160.710007</td>\n",
       "      <td>55.000000</td>\n",
       "      <td>45.270000</td>\n",
       "      <td>342.339996</td>\n",
       "      <td>334.970001</td>\n",
       "      <td>51.400002</td>\n",
       "      <td>1068.959961</td>\n",
       "      <td>468.859985</td>\n",
       "      <td>62.450001</td>\n",
       "    </tr>\n",
       "    <tr>\n",
       "      <th>2021-12-09</th>\n",
       "      <td>371.450012</td>\n",
       "      <td>3483.419922</td>\n",
       "      <td>524.330017</td>\n",
       "      <td>152.940002</td>\n",
       "      <td>19.570000</td>\n",
       "      <td>70.300003</td>\n",
       "      <td>160.460007</td>\n",
       "      <td>54.860001</td>\n",
       "      <td>43.610001</td>\n",
       "      <td>344.519989</td>\n",
       "      <td>333.100006</td>\n",
       "      <td>52.080002</td>\n",
       "      <td>1003.799988</td>\n",
       "      <td>473.320007</td>\n",
       "      <td>62.610001</td>\n",
       "    </tr>\n",
       "    <tr>\n",
       "      <th>2021-12-10</th>\n",
       "      <td>379.440002</td>\n",
       "      <td>3444.239990</td>\n",
       "      <td>558.820007</td>\n",
       "      <td>152.710007</td>\n",
       "      <td>21.450001</td>\n",
       "      <td>70.250000</td>\n",
       "      <td>159.820007</td>\n",
       "      <td>56.279999</td>\n",
       "      <td>41.970001</td>\n",
       "      <td>349.920013</td>\n",
       "      <td>342.540009</td>\n",
       "      <td>52.779999</td>\n",
       "      <td>1017.030029</td>\n",
       "      <td>478.230011</td>\n",
       "      <td>63.009998</td>\n",
       "    </tr>\n",
       "  </tbody>\n",
       "</table>\n",
       "</div>"
      ],
      "text/plain": [
       "                   ACN         AMZN        COST         DIS          F  \\\n",
       "Date                                                                     \n",
       "2021-12-06  362.230011  3427.370117  533.200012  150.369995  19.219999   \n",
       "2021-12-07  371.339996  3523.290039  542.020020  150.809998  19.959999   \n",
       "2021-12-08  374.529999  3523.159912  530.109985  153.339996  19.809999   \n",
       "2021-12-09  371.450012  3483.419922  524.330017  152.940002  19.570000   \n",
       "2021-12-10  379.440002  3444.239990  558.820007  152.710007  21.450001   \n",
       "\n",
       "                 GILD         JPM         KO        LUV          MA  \\\n",
       "Date                                                                  \n",
       "2021-12-06  69.500000  160.160004  54.910000  45.560001  333.329987   \n",
       "2021-12-07  69.650002  162.570007  55.209999  45.209999  339.510010   \n",
       "2021-12-08  69.709999  160.710007  55.000000  45.270000  342.339996   \n",
       "2021-12-09  70.300003  160.460007  54.860001  43.610001  344.519989   \n",
       "2021-12-10  70.250000  159.820007  56.279999  41.970001  349.920013   \n",
       "\n",
       "                  MSFT        PFE         TSLA         UNH        XOM  \n",
       "Date                                                                   \n",
       "2021-12-06  326.190002  51.480000  1009.010010  460.109985  61.580002  \n",
       "2021-12-07  334.920013  51.720001  1051.750000  464.730011  62.270000  \n",
       "2021-12-08  334.970001  51.400002  1068.959961  468.859985  62.450001  \n",
       "2021-12-09  333.100006  52.080002  1003.799988  473.320007  62.610001  \n",
       "2021-12-10  342.540009  52.779999  1017.030029  478.230011  63.009998  "
      ]
     },
     "execution_count": 7,
     "metadata": {},
     "output_type": "execute_result"
    }
   ],
   "source": [
    "prices = ohlc[\"Adj Close\"].dropna(how=\"all\")\n",
    "prices.tail()"
   ]
  },
  {
   "cell_type": "code",
   "execution_count": 8,
   "metadata": {},
   "outputs": [
    {
     "data": {
      "image/png": "[encoded data removed]",
      "text/plain": [
       "<Figure size 1080x720 with 1 Axes>"
      ]
     },
     "metadata": {
      "needs_background": "light"
     },
     "output_type": "display_data"
    }
   ],
   "source": [
    "prices[prices.index >= \"2008-01-01\"].plot(figsize=(15,10));"
   ]
  },
  {
   "cell_type": "markdown",
   "metadata": {},
   "source": [
    "## Calculating the covariance matrix"
   ]
  },
  {
   "cell_type": "code",
   "execution_count": 9,
   "metadata": {},
   "outputs": [
    {
     "data": {
      "text/plain": [
       "'1.4.2'"
      ]
     },
     "execution_count": 9,
     "metadata": {},
     "output_type": "execute_result"
    }
   ],
   "source": [
    "import pypfopt\n",
    "pypfopt.__version__"
   ]
  },
  {
   "cell_type": "code",
   "execution_count": 10,
   "metadata": {},
   "outputs": [
    {
     "data": {
      "text/html": [
       "<div>\n",
       "<style scoped>\n",
       "    .dataframe tbody tr th:only-of-type {\n",
       "        vertical-align: middle;\n",
       "    }\n",
       "\n",
       "    .dataframe tbody tr th {\n",
       "        vertical-align: top;\n",
       "    }\n",
       "\n",
       "    .dataframe thead th {\n",
       "        text-align: right;\n",
       "    }\n",
       "</style>\n",
       "<table border=\"1\" class=\"dataframe\">\n",
       "  <thead>\n",
       "    <tr style=\"text-align: right;\">\n",
       "      <th></th>\n",
       "      <th>ACN</th>\n",
       "      <th>AMZN</th>\n",
       "      <th>COST</th>\n",
       "      <th>DIS</th>\n",
       "      <th>F</th>\n",
       "      <th>GILD</th>\n",
       "      <th>JPM</th>\n",
       "      <th>KO</th>\n",
       "      <th>LUV</th>\n",
       "      <th>MA</th>\n",
       "      <th>MSFT</th>\n",
       "      <th>PFE</th>\n",
       "      <th>TSLA</th>\n",
       "      <th>UNH</th>\n",
       "      <th>XOM</th>\n",
       "    </tr>\n",
       "  </thead>\n",
       "  <tbody>\n",
       "    <tr>\n",
       "      <th>ACN</th>\n",
       "      <td>0.090140</td>\n",
       "      <td>0.043871</td>\n",
       "      <td>0.026968</td>\n",
       "      <td>0.039909</td>\n",
       "      <td>0.042144</td>\n",
       "      <td>0.028836</td>\n",
       "      <td>0.045921</td>\n",
       "      <td>0.020206</td>\n",
       "      <td>0.035977</td>\n",
       "      <td>0.044771</td>\n",
       "      <td>0.039967</td>\n",
       "      <td>0.025291</td>\n",
       "      <td>0.037648</td>\n",
       "      <td>0.029935</td>\n",
       "      <td>0.030565</td>\n",
       "    </tr>\n",
       "    <tr>\n",
       "      <th>AMZN</th>\n",
       "      <td>0.043871</td>\n",
       "      <td>0.331254</td>\n",
       "      <td>0.046609</td>\n",
       "      <td>0.053720</td>\n",
       "      <td>0.050949</td>\n",
       "      <td>0.059158</td>\n",
       "      <td>0.065430</td>\n",
       "      <td>0.019745</td>\n",
       "      <td>0.046072</td>\n",
       "      <td>0.055144</td>\n",
       "      <td>0.071188</td>\n",
       "      <td>0.030294</td>\n",
       "      <td>0.054057</td>\n",
       "      <td>0.033913</td>\n",
       "      <td>0.026092</td>\n",
       "    </tr>\n",
       "    <tr>\n",
       "      <th>COST</th>\n",
       "      <td>0.026968</td>\n",
       "      <td>0.046609</td>\n",
       "      <td>0.101462</td>\n",
       "      <td>0.031524</td>\n",
       "      <td>0.030540</td>\n",
       "      <td>0.027178</td>\n",
       "      <td>0.037904</td>\n",
       "      <td>0.021058</td>\n",
       "      <td>0.030589</td>\n",
       "      <td>0.031612</td>\n",
       "      <td>0.036395</td>\n",
       "      <td>0.024564</td>\n",
       "      <td>0.022396</td>\n",
       "      <td>0.026610</td>\n",
       "      <td>0.020405</td>\n",
       "    </tr>\n",
       "    <tr>\n",
       "      <th>DIS</th>\n",
       "      <td>0.039909</td>\n",
       "      <td>0.053720</td>\n",
       "      <td>0.031524</td>\n",
       "      <td>0.099324</td>\n",
       "      <td>0.039579</td>\n",
       "      <td>0.031901</td>\n",
       "      <td>0.042007</td>\n",
       "      <td>0.028874</td>\n",
       "      <td>0.038917</td>\n",
       "      <td>0.049679</td>\n",
       "      <td>0.041683</td>\n",
       "      <td>0.028210</td>\n",
       "      <td>0.036019</td>\n",
       "      <td>0.031728</td>\n",
       "      <td>0.025581</td>\n",
       "    </tr>\n",
       "    <tr>\n",
       "      <th>F</th>\n",
       "      <td>0.042144</td>\n",
       "      <td>0.050949</td>\n",
       "      <td>0.030540</td>\n",
       "      <td>0.039579</td>\n",
       "      <td>0.127191</td>\n",
       "      <td>0.029525</td>\n",
       "      <td>0.047095</td>\n",
       "      <td>0.026375</td>\n",
       "      <td>0.045340</td>\n",
       "      <td>0.060933</td>\n",
       "      <td>0.039656</td>\n",
       "      <td>0.026239</td>\n",
       "      <td>0.049384</td>\n",
       "      <td>0.028950</td>\n",
       "      <td>0.027627</td>\n",
       "    </tr>\n",
       "    <tr>\n",
       "      <th>GILD</th>\n",
       "      <td>0.028836</td>\n",
       "      <td>0.059158</td>\n",
       "      <td>0.027178</td>\n",
       "      <td>0.031901</td>\n",
       "      <td>0.029525</td>\n",
       "      <td>0.235949</td>\n",
       "      <td>0.042199</td>\n",
       "      <td>0.016786</td>\n",
       "      <td>0.030655</td>\n",
       "      <td>0.032698</td>\n",
       "      <td>0.035274</td>\n",
       "      <td>0.031337</td>\n",
       "      <td>0.032809</td>\n",
       "      <td>0.034076</td>\n",
       "      <td>0.021652</td>\n",
       "    </tr>\n",
       "    <tr>\n",
       "      <th>JPM</th>\n",
       "      <td>0.045921</td>\n",
       "      <td>0.065430</td>\n",
       "      <td>0.037904</td>\n",
       "      <td>0.042007</td>\n",
       "      <td>0.047095</td>\n",
       "      <td>0.042199</td>\n",
       "      <td>0.119222</td>\n",
       "      <td>0.025740</td>\n",
       "      <td>0.047607</td>\n",
       "      <td>0.069914</td>\n",
       "      <td>0.047712</td>\n",
       "      <td>0.028933</td>\n",
       "      <td>0.039364</td>\n",
       "      <td>0.038285</td>\n",
       "      <td>0.029663</td>\n",
       "    </tr>\n",
       "    <tr>\n",
       "      <th>KO</th>\n",
       "      <td>0.020206</td>\n",
       "      <td>0.019745</td>\n",
       "      <td>0.021058</td>\n",
       "      <td>0.028874</td>\n",
       "      <td>0.026375</td>\n",
       "      <td>0.016786</td>\n",
       "      <td>0.025740</td>\n",
       "      <td>0.057469</td>\n",
       "      <td>0.023012</td>\n",
       "      <td>0.026116</td>\n",
       "      <td>0.027306</td>\n",
       "      <td>0.024981</td>\n",
       "      <td>0.018833</td>\n",
       "      <td>0.022667</td>\n",
       "      <td>0.023237</td>\n",
       "    </tr>\n",
       "    <tr>\n",
       "      <th>LUV</th>\n",
       "      <td>0.035977</td>\n",
       "      <td>0.046072</td>\n",
       "      <td>0.030589</td>\n",
       "      <td>0.038917</td>\n",
       "      <td>0.045340</td>\n",
       "      <td>0.030655</td>\n",
       "      <td>0.047607</td>\n",
       "      <td>0.023012</td>\n",
       "      <td>0.138759</td>\n",
       "      <td>0.047336</td>\n",
       "      <td>0.036385</td>\n",
       "      <td>0.025299</td>\n",
       "      <td>0.035565</td>\n",
       "      <td>0.032692</td>\n",
       "      <td>0.023631</td>\n",
       "    </tr>\n",
       "    <tr>\n",
       "      <th>MA</th>\n",
       "      <td>0.044771</td>\n",
       "      <td>0.055144</td>\n",
       "      <td>0.031612</td>\n",
       "      <td>0.049679</td>\n",
       "      <td>0.060933</td>\n",
       "      <td>0.032698</td>\n",
       "      <td>0.069914</td>\n",
       "      <td>0.026116</td>\n",
       "      <td>0.047336</td>\n",
       "      <td>0.119004</td>\n",
       "      <td>0.048245</td>\n",
       "      <td>0.032415</td>\n",
       "      <td>0.045318</td>\n",
       "      <td>0.043298</td>\n",
       "      <td>0.042616</td>\n",
       "    </tr>\n",
       "    <tr>\n",
       "      <th>MSFT</th>\n",
       "      <td>0.039967</td>\n",
       "      <td>0.071188</td>\n",
       "      <td>0.036395</td>\n",
       "      <td>0.041683</td>\n",
       "      <td>0.039656</td>\n",
       "      <td>0.035274</td>\n",
       "      <td>0.047712</td>\n",
       "      <td>0.027306</td>\n",
       "      <td>0.036385</td>\n",
       "      <td>0.048245</td>\n",
       "      <td>0.114293</td>\n",
       "      <td>0.029166</td>\n",
       "      <td>0.044899</td>\n",
       "      <td>0.033919</td>\n",
       "      <td>0.028862</td>\n",
       "    </tr>\n",
       "    <tr>\n",
       "      <th>PFE</th>\n",
       "      <td>0.025291</td>\n",
       "      <td>0.030294</td>\n",
       "      <td>0.024564</td>\n",
       "      <td>0.028210</td>\n",
       "      <td>0.026239</td>\n",
       "      <td>0.031337</td>\n",
       "      <td>0.028933</td>\n",
       "      <td>0.024981</td>\n",
       "      <td>0.025299</td>\n",
       "      <td>0.032415</td>\n",
       "      <td>0.029166</td>\n",
       "      <td>0.077038</td>\n",
       "      <td>0.023190</td>\n",
       "      <td>0.027656</td>\n",
       "      <td>0.022578</td>\n",
       "    </tr>\n",
       "    <tr>\n",
       "      <th>TSLA</th>\n",
       "      <td>0.037648</td>\n",
       "      <td>0.054057</td>\n",
       "      <td>0.022396</td>\n",
       "      <td>0.036019</td>\n",
       "      <td>0.049384</td>\n",
       "      <td>0.032809</td>\n",
       "      <td>0.039364</td>\n",
       "      <td>0.018833</td>\n",
       "      <td>0.035565</td>\n",
       "      <td>0.045318</td>\n",
       "      <td>0.044899</td>\n",
       "      <td>0.023190</td>\n",
       "      <td>0.369407</td>\n",
       "      <td>0.029263</td>\n",
       "      <td>0.029929</td>\n",
       "    </tr>\n",
       "    <tr>\n",
       "      <th>UNH</th>\n",
       "      <td>0.029935</td>\n",
       "      <td>0.033913</td>\n",
       "      <td>0.026610</td>\n",
       "      <td>0.031728</td>\n",
       "      <td>0.028950</td>\n",
       "      <td>0.034076</td>\n",
       "      <td>0.038285</td>\n",
       "      <td>0.022667</td>\n",
       "      <td>0.032692</td>\n",
       "      <td>0.043298</td>\n",
       "      <td>0.033919</td>\n",
       "      <td>0.027656</td>\n",
       "      <td>0.029263</td>\n",
       "      <td>0.165170</td>\n",
       "      <td>0.022483</td>\n",
       "    </tr>\n",
       "    <tr>\n",
       "      <th>XOM</th>\n",
       "      <td>0.030565</td>\n",
       "      <td>0.026092</td>\n",
       "      <td>0.020405</td>\n",
       "      <td>0.025581</td>\n",
       "      <td>0.027627</td>\n",
       "      <td>0.021652</td>\n",
       "      <td>0.029663</td>\n",
       "      <td>0.023237</td>\n",
       "      <td>0.023631</td>\n",
       "      <td>0.042616</td>\n",
       "      <td>0.028862</td>\n",
       "      <td>0.022578</td>\n",
       "      <td>0.029929</td>\n",
       "      <td>0.022483</td>\n",
       "      <td>0.051547</td>\n",
       "    </tr>\n",
       "  </tbody>\n",
       "</table>\n",
       "</div>"
      ],
      "text/plain": [
       "           ACN      AMZN      COST       DIS         F      GILD       JPM  \\\n",
       "ACN   0.090140  0.043871  0.026968  0.039909  0.042144  0.028836  0.045921   \n",
       "AMZN  0.043871  0.331254  0.046609  0.053720  0.050949  0.059158  0.065430   \n",
       "COST  0.026968  0.046609  0.101462  0.031524  0.030540  0.027178  0.037904   \n",
       "DIS   0.039909  0.053720  0.031524  0.099324  0.039579  0.031901  0.042007   \n",
       "F     0.042144  0.050949  0.030540  0.039579  0.127191  0.029525  0.047095   \n",
       "GILD  0.028836  0.059158  0.027178  0.031901  0.029525  0.235949  0.042199   \n",
       "JPM   0.045921  0.065430  0.037904  0.042007  0.047095  0.042199  0.119222   \n",
       "KO    0.020206  0.019745  0.021058  0.028874  0.026375  0.016786  0.025740   \n",
       "LUV   0.035977  0.046072  0.030589  0.038917  0.045340  0.030655  0.047607   \n",
       "MA    0.044771  0.055144  0.031612  0.049679  0.060933  0.032698  0.069914   \n",
       "MSFT  0.039967  0.071188  0.036395  0.041683  0.039656  0.035274  0.047712   \n",
       "PFE   0.025291  0.030294  0.024564  0.028210  0.026239  0.031337  0.028933   \n",
       "TSLA  0.037648  0.054057  0.022396  0.036019  0.049384  0.032809  0.039364   \n",
       "UNH   0.029935  0.033913  0.026610  0.031728  0.028950  0.034076  0.038285   \n",
       "XOM   0.030565  0.026092  0.020405  0.025581  0.027627  0.021652  0.029663   \n",
       "\n",
       "            KO       LUV        MA      MSFT       PFE      TSLA       UNH  \\\n",
       "ACN   0.020206  0.035977  0.044771  0.039967  0.025291  0.037648  0.029935   \n",
       "AMZN  0.019745  0.046072  0.055144  0.071188  0.030294  0.054057  0.033913   \n",
       "COST  0.021058  0.030589  0.031612  0.036395  0.024564  0.022396  0.026610   \n",
       "DIS   0.028874  0.038917  0.049679  0.041683  0.028210  0.036019  0.031728   \n",
       "F     0.026375  0.045340  0.060933  0.039656  0.026239  0.049384  0.028950   \n",
       "GILD  0.016786  0.030655  0.032698  0.035274  0.031337  0.032809  0.034076   \n",
       "JPM   0.025740  0.047607  0.069914  0.047712  0.028933  0.039364  0.038285   \n",
       "KO    0.057469  0.023012  0.026116  0.027306  0.024981  0.018833  0.022667   \n",
       "LUV   0.023012  0.138759  0.047336  0.036385  0.025299  0.035565  0.032692   \n",
       "MA    0.026116  0.047336  0.119004  0.048245  0.032415  0.045318  0.043298   \n",
       "MSFT  0.027306  0.036385  0.048245  0.114293  0.029166  0.044899  0.033919   \n",
       "PFE   0.024981  0.025299  0.032415  0.029166  0.077038  0.023190  0.027656   \n",
       "TSLA  0.018833  0.035565  0.045318  0.044899  0.023190  0.369407  0.029263   \n",
       "UNH   0.022667  0.032692  0.043298  0.033919  0.027656  0.029263  0.165170   \n",
       "XOM   0.023237  0.023631  0.042616  0.028862  0.022578  0.029929  0.022483   \n",
       "\n",
       "           XOM  \n",
       "ACN   0.030565  \n",
       "AMZN  0.026092  \n",
       "COST  0.020405  \n",
       "DIS   0.025581  \n",
       "F     0.027627  \n",
       "GILD  0.021652  \n",
       "JPM   0.029663  \n",
       "KO    0.023237  \n",
       "LUV   0.023631  \n",
       "MA    0.042616  \n",
       "MSFT  0.028862  \n",
       "PFE   0.022578  \n",
       "TSLA  0.029929  \n",
       "UNH   0.022483  \n",
       "XOM   0.051547  "
      ]
     },
     "execution_count": 10,
     "metadata": {},
     "output_type": "execute_result"
    }
   ],
   "source": [
    "from pypfopt import risk_models\n",
    "from pypfopt import plotting\n",
    "\n",
    "sample_cov = risk_models.sample_cov(prices, frequency=252)\n",
    "sample_cov"
   ]
  },
  {
   "cell_type": "code",
   "execution_count": 11,
   "metadata": {},
   "outputs": [
    {
     "data": {
      "image/png": "[encoded data removed]",
      "text/plain": [
       "<Figure size 432x288 with 2 Axes>"
      ]
     },
     "metadata": {
      "needs_background": "light"
     },
     "output_type": "display_data"
    }
   ],
   "source": [
    "plotting.plot_covariance(sample_cov, plot_correlation=True);"
   ]
  },
  {
   "cell_type": "markdown",
   "metadata": {},
   "source": [
    "For reasons discussed in the docs, the sample covariance matrix should not be your default choice. I think a better option is Ledoit-Wolf shrinkage, which reduces the extreme values in the covariance matrix. In the image below, we can see that there are fewer bright spots outside the diagonal:"
   ]
  },
  {
   "cell_type": "code",
   "execution_count": 12,
   "metadata": {},
   "outputs": [
    {
     "data": {
      "image/png": "[encoded data removed]",
      "text/plain": [
       "<Figure size 432x288 with 2 Axes>"
      ]
     },
     "metadata": {
      "needs_background": "light"
     },
     "output_type": "display_data"
    }
   ],
   "source": [
    "S = risk_models.CovarianceShrinkage(prices).ledoit_wolf()\n",
    "plotting.plot_covariance(S, plot_correlation=True);"
   ]
  },
  {
   "cell_type": "markdown",
   "metadata": {},
   "source": [
    "## Return estimation\n",
    "\n",
    "As discussed in the docs, it is often a bad idea to provide returns using a simple estimate like the mean of past returns. Unless you have a proprietary method for estimating returns, research suggests that you may be better off not providing expected returns – you can then just find the `min_volatility()` portfolio or use `HRP`. \n",
    "\n",
    "However, in this example we will use the CAPM returns, which aims to be slightly more stable than the default mean historical return. Please see the notebook `1-RiskReturnModels.ipynb` for more information."
   ]
  },
  {
   "cell_type": "code",
   "execution_count": 13,
   "metadata": {},
   "outputs": [
    {
     "data": {
      "text/plain": [
       "ACN     0.196380\n",
       "AMZN    0.335825\n",
       "COST    0.183917\n",
       "DIS     0.220483\n",
       "F       0.210977\n",
       "GILD    0.242023\n",
       "JPM     0.220035\n",
       "KO      0.145658\n",
       "LUV     0.215553\n",
       "MA      0.248391\n",
       "MSFT    0.224820\n",
       "PFE     0.164279\n",
       "TSLA    0.280867\n",
       "UNH     0.210110\n",
       "XOM     0.136938\n",
       "Name: mkt, dtype: float64"
      ]
     },
     "execution_count": 13,
     "metadata": {},
     "output_type": "execute_result"
    }
   ],
   "source": [
    "from pypfopt import expected_returns\n",
    "\n",
    "mu = expected_returns.capm_return(prices)\n",
    "mu"
   ]
  },
  {
   "cell_type": "code",
   "execution_count": 14,
   "metadata": {},
   "outputs": [
    {
     "data": {
      "image/png": "[encoded data removed]",
      "text/plain": [
       "<Figure size 720x432 with 1 Axes>"
      ]
     },
     "metadata": {
      "needs_background": "light"
     },
     "output_type": "display_data"
    }
   ],
   "source": [
    "mu.plot.barh(figsize=(10,6));"
   ]
  },
  {
   "cell_type": "markdown",
   "metadata": {},
   "source": [
    "## Long/short min variance\n",
    "\n",
    "In this section, we construct a long/short portfolio with the objective of minimising variance. There is a good deal of research that demonstrates that these global-minimum variance (GMV) portfolios outperform mean-variance optimized portfolios."
   ]
  },
  {
   "cell_type": "code",
   "execution_count": 15,
   "metadata": {},
   "outputs": [],
   "source": [
    "from pypfopt import EfficientFrontier"
   ]
  },
  {
   "cell_type": "code",
   "execution_count": 16,
   "metadata": {},
   "outputs": [
    {
     "data": {
      "text/plain": [
       "OrderedDict([('ACN', 0.23531),\n",
       "             ('AMZN', 0.0106),\n",
       "             ('COST', 0.09704),\n",
       "             ('DIS', -0.01442),\n",
       "             ('F', -0.01754),\n",
       "             ('GILD', 0.04361),\n",
       "             ('JPM', -0.04863),\n",
       "             ('KO', 0.14819),\n",
       "             ('LUV', 0.02233),\n",
       "             ('MA', 0.23545),\n",
       "             ('MSFT', 0.00173),\n",
       "             ('PFE', 0.06061),\n",
       "             ('TSLA', 0.12153),\n",
       "             ('UNH', 0.03038),\n",
       "             ('XOM', 0.07381)])"
      ]
     },
     "execution_count": 16,
     "metadata": {},
     "output_type": "execute_result"
    }
   ],
   "source": [
    "S = risk_models.CovarianceShrinkage(prices).ledoit_wolf()\n",
    "\n",
    "# You don't have to provide expected returns in this case\n",
    "ef = EfficientFrontier(None, S, weight_bounds=(None, None))\n",
    "ef.min_volatility()\n",
    "weights = ef.clean_weights()\n",
    "weights"
   ]
  },
  {
   "cell_type": "code",
   "execution_count": 17,
   "metadata": {},
   "outputs": [
    {
     "data": {
      "image/png": "[encoded data removed]",
      "text/plain": [
       "<Figure size 432x288 with 1 Axes>"
      ]
     },
     "metadata": {
      "needs_background": "light"
     },
     "output_type": "display_data"
    }
   ],
   "source": [
    "pd.Series(weights).plot.barh();"
   ]
  },
  {
   "cell_type": "markdown",
   "metadata": {},
   "source": [
    "We can get a quick indication of the portfolio performance as follows. Note that this is an in sample estimate and may have very little resemblance to how the portfolio actually performs!"
   ]
  },
  {
   "cell_type": "code",
   "execution_count": 18,
   "metadata": {},
   "outputs": [
    {
     "name": "stdout",
     "output_type": "stream",
     "text": [
      "Annual volatility: 11.9%\n"
     ]
    }
   ],
   "source": [
    "ef.portfolio_performance(verbose=True);"
   ]
  },
  {
   "cell_type": "code",
   "execution_count": 19,
   "metadata": {},
   "outputs": [
    {
     "data": {
      "text/html": [
       "<div>\n",
       "<style scoped>\n",
       "    .dataframe tbody tr th:only-of-type {\n",
       "        vertical-align: middle;\n",
       "    }\n",
       "\n",
       "    .dataframe tbody tr th {\n",
       "        vertical-align: top;\n",
       "    }\n",
       "\n",
       "    .dataframe thead th {\n",
       "        text-align: right;\n",
       "    }\n",
       "</style>\n",
       "<table border=\"1\" class=\"dataframe\">\n",
       "  <thead>\n",
       "    <tr style=\"text-align: right;\">\n",
       "      <th></th>\n",
       "      <th>ACN</th>\n",
       "      <th>AMZN</th>\n",
       "      <th>COST</th>\n",
       "      <th>DIS</th>\n",
       "      <th>F</th>\n",
       "      <th>GILD</th>\n",
       "      <th>JPM</th>\n",
       "      <th>KO</th>\n",
       "      <th>LUV</th>\n",
       "      <th>MA</th>\n",
       "      <th>MSFT</th>\n",
       "      <th>PFE</th>\n",
       "      <th>TSLA</th>\n",
       "      <th>UNH</th>\n",
       "      <th>XOM</th>\n",
       "    </tr>\n",
       "    <tr>\n",
       "      <th>Date</th>\n",
       "      <th></th>\n",
       "      <th></th>\n",
       "      <th></th>\n",
       "      <th></th>\n",
       "      <th></th>\n",
       "      <th></th>\n",
       "      <th></th>\n",
       "      <th></th>\n",
       "      <th></th>\n",
       "      <th></th>\n",
       "      <th></th>\n",
       "      <th></th>\n",
       "      <th></th>\n",
       "      <th></th>\n",
       "      <th></th>\n",
       "    </tr>\n",
       "  </thead>\n",
       "  <tbody>\n",
       "    <tr>\n",
       "      <th>1962-01-02</th>\n",
       "      <td>NaN</td>\n",
       "      <td>NaN</td>\n",
       "      <td>NaN</td>\n",
       "      <td>0.058398</td>\n",
       "      <td>NaN</td>\n",
       "      <td>NaN</td>\n",
       "      <td>NaN</td>\n",
       "      <td>NaN</td>\n",
       "      <td>NaN</td>\n",
       "      <td>NaN</td>\n",
       "      <td>NaN</td>\n",
       "      <td>NaN</td>\n",
       "      <td>NaN</td>\n",
       "      <td>NaN</td>\n",
       "      <td>0.102984</td>\n",
       "    </tr>\n",
       "    <tr>\n",
       "      <th>1962-01-03</th>\n",
       "      <td>NaN</td>\n",
       "      <td>NaN</td>\n",
       "      <td>NaN</td>\n",
       "      <td>0.059182</td>\n",
       "      <td>NaN</td>\n",
       "      <td>NaN</td>\n",
       "      <td>NaN</td>\n",
       "      <td>NaN</td>\n",
       "      <td>NaN</td>\n",
       "      <td>NaN</td>\n",
       "      <td>NaN</td>\n",
       "      <td>NaN</td>\n",
       "      <td>NaN</td>\n",
       "      <td>NaN</td>\n",
       "      <td>0.104513</td>\n",
       "    </tr>\n",
       "    <tr>\n",
       "      <th>1962-01-04</th>\n",
       "      <td>NaN</td>\n",
       "      <td>NaN</td>\n",
       "      <td>NaN</td>\n",
       "      <td>0.059182</td>\n",
       "      <td>NaN</td>\n",
       "      <td>NaN</td>\n",
       "      <td>NaN</td>\n",
       "      <td>NaN</td>\n",
       "      <td>NaN</td>\n",
       "      <td>NaN</td>\n",
       "      <td>NaN</td>\n",
       "      <td>NaN</td>\n",
       "      <td>NaN</td>\n",
       "      <td>NaN</td>\n",
       "      <td>0.104768</td>\n",
       "    </tr>\n",
       "    <tr>\n",
       "      <th>1962-01-05</th>\n",
       "      <td>NaN</td>\n",
       "      <td>NaN</td>\n",
       "      <td>NaN</td>\n",
       "      <td>0.059378</td>\n",
       "      <td>NaN</td>\n",
       "      <td>NaN</td>\n",
       "      <td>NaN</td>\n",
       "      <td>NaN</td>\n",
       "      <td>NaN</td>\n",
       "      <td>NaN</td>\n",
       "      <td>NaN</td>\n",
       "      <td>NaN</td>\n",
       "      <td>NaN</td>\n",
       "      <td>NaN</td>\n",
       "      <td>0.102474</td>\n",
       "    </tr>\n",
       "    <tr>\n",
       "      <th>1962-01-08</th>\n",
       "      <td>NaN</td>\n",
       "      <td>NaN</td>\n",
       "      <td>NaN</td>\n",
       "      <td>0.059182</td>\n",
       "      <td>NaN</td>\n",
       "      <td>NaN</td>\n",
       "      <td>NaN</td>\n",
       "      <td>NaN</td>\n",
       "      <td>NaN</td>\n",
       "      <td>NaN</td>\n",
       "      <td>NaN</td>\n",
       "      <td>NaN</td>\n",
       "      <td>NaN</td>\n",
       "      <td>NaN</td>\n",
       "      <td>0.102219</td>\n",
       "    </tr>\n",
       "    <tr>\n",
       "      <th>...</th>\n",
       "      <td>...</td>\n",
       "      <td>...</td>\n",
       "      <td>...</td>\n",
       "      <td>...</td>\n",
       "      <td>...</td>\n",
       "      <td>...</td>\n",
       "      <td>...</td>\n",
       "      <td>...</td>\n",
       "      <td>...</td>\n",
       "      <td>...</td>\n",
       "      <td>...</td>\n",
       "      <td>...</td>\n",
       "      <td>...</td>\n",
       "      <td>...</td>\n",
       "      <td>...</td>\n",
       "    </tr>\n",
       "    <tr>\n",
       "      <th>2021-12-06</th>\n",
       "      <td>362.230011</td>\n",
       "      <td>3427.370117</td>\n",
       "      <td>533.200012</td>\n",
       "      <td>150.369995</td>\n",
       "      <td>19.219999</td>\n",
       "      <td>69.500000</td>\n",
       "      <td>160.160004</td>\n",
       "      <td>54.910000</td>\n",
       "      <td>45.560001</td>\n",
       "      <td>333.329987</td>\n",
       "      <td>326.190002</td>\n",
       "      <td>51.480000</td>\n",
       "      <td>1009.010010</td>\n",
       "      <td>460.109985</td>\n",
       "      <td>61.580002</td>\n",
       "    </tr>\n",
       "    <tr>\n",
       "      <th>2021-12-07</th>\n",
       "      <td>371.339996</td>\n",
       "      <td>3523.290039</td>\n",
       "      <td>542.020020</td>\n",
       "      <td>150.809998</td>\n",
       "      <td>19.959999</td>\n",
       "      <td>69.650002</td>\n",
       "      <td>162.570007</td>\n",
       "      <td>55.209999</td>\n",
       "      <td>45.209999</td>\n",
       "      <td>339.510010</td>\n",
       "      <td>334.920013</td>\n",
       "      <td>51.720001</td>\n",
       "      <td>1051.750000</td>\n",
       "      <td>464.730011</td>\n",
       "      <td>62.270000</td>\n",
       "    </tr>\n",
       "    <tr>\n",
       "      <th>2021-12-08</th>\n",
       "      <td>374.529999</td>\n",
       "      <td>3523.159912</td>\n",
       "      <td>530.109985</td>\n",
       "      <td>153.339996</td>\n",
       "      <td>19.809999</td>\n",
       "      <td>69.709999</td>\n",
       "      <td>160.710007</td>\n",
       "      <td>55.000000</td>\n",
       "      <td>45.270000</td>\n",
       "      <td>342.339996</td>\n",
       "      <td>334.970001</td>\n",
       "      <td>51.400002</td>\n",
       "      <td>1068.959961</td>\n",
       "      <td>468.859985</td>\n",
       "      <td>62.450001</td>\n",
       "    </tr>\n",
       "    <tr>\n",
       "      <th>2021-12-09</th>\n",
       "      <td>371.450012</td>\n",
       "      <td>3483.419922</td>\n",
       "      <td>524.330017</td>\n",
       "      <td>152.940002</td>\n",
       "      <td>19.570000</td>\n",
       "      <td>70.300003</td>\n",
       "      <td>160.460007</td>\n",
       "      <td>54.860001</td>\n",
       "      <td>43.610001</td>\n",
       "      <td>344.519989</td>\n",
       "      <td>333.100006</td>\n",
       "      <td>52.080002</td>\n",
       "      <td>1003.799988</td>\n",
       "      <td>473.320007</td>\n",
       "      <td>62.610001</td>\n",
       "    </tr>\n",
       "    <tr>\n",
       "      <th>2021-12-10</th>\n",
       "      <td>379.440002</td>\n",
       "      <td>3444.239990</td>\n",
       "      <td>558.820007</td>\n",
       "      <td>152.710007</td>\n",
       "      <td>21.450001</td>\n",
       "      <td>70.250000</td>\n",
       "      <td>159.820007</td>\n",
       "      <td>56.279999</td>\n",
       "      <td>41.970001</td>\n",
       "      <td>349.920013</td>\n",
       "      <td>342.540009</td>\n",
       "      <td>52.779999</td>\n",
       "      <td>1017.030029</td>\n",
       "      <td>478.230011</td>\n",
       "      <td>63.009998</td>\n",
       "    </tr>\n",
       "  </tbody>\n",
       "</table>\n",
       "<p>15091 rows × 15 columns</p>\n",
       "</div>"
      ],
      "text/plain": [
       "                   ACN         AMZN        COST         DIS          F  \\\n",
       "Date                                                                     \n",
       "1962-01-02         NaN          NaN         NaN    0.058398        NaN   \n",
       "1962-01-03         NaN          NaN         NaN    0.059182        NaN   \n",
       "1962-01-04         NaN          NaN         NaN    0.059182        NaN   \n",
       "1962-01-05         NaN          NaN         NaN    0.059378        NaN   \n",
       "1962-01-08         NaN          NaN         NaN    0.059182        NaN   \n",
       "...                ...          ...         ...         ...        ...   \n",
       "2021-12-06  362.230011  3427.370117  533.200012  150.369995  19.219999   \n",
       "2021-12-07  371.339996  3523.290039  542.020020  150.809998  19.959999   \n",
       "2021-12-08  374.529999  3523.159912  530.109985  153.339996  19.809999   \n",
       "2021-12-09  371.450012  3483.419922  524.330017  152.940002  19.570000   \n",
       "2021-12-10  379.440002  3444.239990  558.820007  152.710007  21.450001   \n",
       "\n",
       "                 GILD         JPM         KO        LUV          MA  \\\n",
       "Date                                                                  \n",
       "1962-01-02        NaN         NaN        NaN        NaN         NaN   \n",
       "1962-01-03        NaN         NaN        NaN        NaN         NaN   \n",
       "1962-01-04        NaN         NaN        NaN        NaN         NaN   \n",
       "1962-01-05        NaN         NaN        NaN        NaN         NaN   \n",
       "1962-01-08        NaN         NaN        NaN        NaN         NaN   \n",
       "...               ...         ...        ...        ...         ...   \n",
       "2021-12-06  69.500000  160.160004  54.910000  45.560001  333.329987   \n",
       "2021-12-07  69.650002  162.570007  55.209999  45.209999  339.510010   \n",
       "2021-12-08  69.709999  160.710007  55.000000  45.270000  342.339996   \n",
       "2021-12-09  70.300003  160.460007  54.860001  43.610001  344.519989   \n",
       "2021-12-10  70.250000  159.820007  56.279999  41.970001  349.920013   \n",
       "\n",
       "                  MSFT        PFE         TSLA         UNH        XOM  \n",
       "Date                                                                   \n",
       "1962-01-02         NaN        NaN          NaN         NaN   0.102984  \n",
       "1962-01-03         NaN        NaN          NaN         NaN   0.104513  \n",
       "1962-01-04         NaN        NaN          NaN         NaN   0.104768  \n",
       "1962-01-05         NaN        NaN          NaN         NaN   0.102474  \n",
       "1962-01-08         NaN        NaN          NaN         NaN   0.102219  \n",
       "...                ...        ...          ...         ...        ...  \n",
       "2021-12-06  326.190002  51.480000  1009.010010  460.109985  61.580002  \n",
       "2021-12-07  334.920013  51.720001  1051.750000  464.730011  62.270000  \n",
       "2021-12-08  334.970001  51.400002  1068.959961  468.859985  62.450001  \n",
       "2021-12-09  333.100006  52.080002  1003.799988  473.320007  62.610001  \n",
       "2021-12-10  342.540009  52.779999  1017.030029  478.230011  63.009998  \n",
       "\n",
       "[15091 rows x 15 columns]"
      ]
     },
     "execution_count": 19,
     "metadata": {},
     "output_type": "execute_result"
    }
   ],
   "source": [
    "prices"
   ]
  },
  {
   "cell_type": "markdown",
   "metadata": {},
   "source": [
    "Let's say we were happy with this portfolio and wanted to actually go out and buy the shares.  To do this, we would need to construct a **discrete allocation** (unless your broker supports fractional shares!)\n",
    "\n",
    "If we had \\$20,0000 to invest and would like our portfolio to be 130/30 long/short, we can construct the actual allocation as follows:"
   ]
  },
  {
   "cell_type": "code",
   "execution_count": 20,
   "metadata": {},
   "outputs": [
    {
     "ename": "NameError",
     "evalue": "Solver GLPK_MI is not installed. ",
     "output_type": "error",
     "traceback": [
      "\u001b[0;31m---------------------------------------------------------------------------\u001b[0m",
      "\u001b[0;31mNameError\u001b[0m                                 Traceback (most recent call last)",
      "\u001b[0;32m/tmp/ipykernel_2857/3999418467.py\u001b[0m in \u001b[0;36m<module>\u001b[0;34m\u001b[0m\n\u001b[1;32m      3\u001b[0m \u001b[0mlatest_prices\u001b[0m \u001b[0;34m=\u001b[0m \u001b[0mprices\u001b[0m\u001b[0;34m.\u001b[0m\u001b[0miloc\u001b[0m\u001b[0;34m[\u001b[0m\u001b[0;34m-\u001b[0m\u001b[0;36m1\u001b[0m\u001b[0;34m]\u001b[0m  \u001b[0;31m# prices as of the day you are allocating\u001b[0m\u001b[0;34m\u001b[0m\u001b[0;34m\u001b[0m\u001b[0m\n\u001b[1;32m      4\u001b[0m \u001b[0mda\u001b[0m \u001b[0;34m=\u001b[0m \u001b[0mDiscreteAllocation\u001b[0m\u001b[0;34m(\u001b[0m\u001b[0mweights\u001b[0m\u001b[0;34m,\u001b[0m \u001b[0mlatest_prices\u001b[0m\u001b[0;34m,\u001b[0m \u001b[0mtotal_portfolio_value\u001b[0m\u001b[0;34m=\u001b[0m\u001b[0;36m20000\u001b[0m\u001b[0;34m,\u001b[0m \u001b[0mshort_ratio\u001b[0m\u001b[0;34m=\u001b[0m\u001b[0;36m0.3\u001b[0m\u001b[0;34m)\u001b[0m\u001b[0;34m\u001b[0m\u001b[0;34m\u001b[0m\u001b[0m\n\u001b[0;32m----> 5\u001b[0;31m \u001b[0malloc\u001b[0m\u001b[0;34m,\u001b[0m \u001b[0mleftover\u001b[0m \u001b[0;34m=\u001b[0m \u001b[0mda\u001b[0m\u001b[0;34m.\u001b[0m\u001b[0mlp_portfolio\u001b[0m\u001b[0;34m(\u001b[0m\u001b[0;34m)\u001b[0m\u001b[0;34m\u001b[0m\u001b[0;34m\u001b[0m\u001b[0m\n\u001b[0m\u001b[1;32m      6\u001b[0m \u001b[0mprint\u001b[0m\u001b[0;34m(\u001b[0m\u001b[0;34mf\"Discrete allocation performed with ${leftover:.2f} leftover\"\u001b[0m\u001b[0;34m)\u001b[0m\u001b[0;34m\u001b[0m\u001b[0;34m\u001b[0m\u001b[0m\n\u001b[1;32m      7\u001b[0m \u001b[0malloc\u001b[0m\u001b[0;34m\u001b[0m\u001b[0;34m\u001b[0m\u001b[0m\n",
      "\u001b[0;32m~/stock_analysis/pypfopt/discrete_allocation.py\u001b[0m in \u001b[0;36mlp_portfolio\u001b[0;34m(self, reinvest, verbose, solver)\u001b[0m\n\u001b[1;32m    286\u001b[0m                 \u001b[0mlongs\u001b[0m\u001b[0;34m,\u001b[0m \u001b[0mself\u001b[0m\u001b[0;34m.\u001b[0m\u001b[0mlatest_prices\u001b[0m\u001b[0;34m[\u001b[0m\u001b[0mlongs\u001b[0m\u001b[0;34m.\u001b[0m\u001b[0mkeys\u001b[0m\u001b[0;34m(\u001b[0m\u001b[0;34m)\u001b[0m\u001b[0;34m]\u001b[0m\u001b[0;34m,\u001b[0m \u001b[0mtotal_portfolio_value\u001b[0m\u001b[0;34m=\u001b[0m\u001b[0mlong_val\u001b[0m\u001b[0;34m\u001b[0m\u001b[0;34m\u001b[0m\u001b[0m\n\u001b[1;32m    287\u001b[0m             )\n\u001b[0;32m--> 288\u001b[0;31m             \u001b[0mlong_alloc\u001b[0m\u001b[0;34m,\u001b[0m \u001b[0mlong_leftover\u001b[0m \u001b[0;34m=\u001b[0m \u001b[0mda1\u001b[0m\u001b[0;34m.\u001b[0m\u001b[0mlp_portfolio\u001b[0m\u001b[0;34m(\u001b[0m\u001b[0;34m)\u001b[0m\u001b[0;34m\u001b[0m\u001b[0;34m\u001b[0m\u001b[0m\n\u001b[0m\u001b[1;32m    289\u001b[0m \u001b[0;34m\u001b[0m\u001b[0m\n\u001b[1;32m    290\u001b[0m             \u001b[0;32mif\u001b[0m \u001b[0mverbose\u001b[0m\u001b[0;34m:\u001b[0m\u001b[0;34m\u001b[0m\u001b[0;34m\u001b[0m\u001b[0m\n",
      "\u001b[0;32m~/stock_analysis/pypfopt/discrete_allocation.py\u001b[0m in \u001b[0;36mlp_portfolio\u001b[0;34m(self, reinvest, verbose, solver)\u001b[0m\n\u001b[1;32m    322\u001b[0m \u001b[0;34m\u001b[0m\u001b[0m\n\u001b[1;32m    323\u001b[0m         \u001b[0;32mif\u001b[0m \u001b[0msolver\u001b[0m \u001b[0;32mis\u001b[0m \u001b[0;32mnot\u001b[0m \u001b[0;32mNone\u001b[0m \u001b[0;32mand\u001b[0m \u001b[0msolver\u001b[0m \u001b[0;32mnot\u001b[0m \u001b[0;32min\u001b[0m \u001b[0mcp\u001b[0m\u001b[0;34m.\u001b[0m\u001b[0minstalled_solvers\u001b[0m\u001b[0;34m(\u001b[0m\u001b[0;34m)\u001b[0m\u001b[0;34m:\u001b[0m\u001b[0;34m\u001b[0m\u001b[0;34m\u001b[0m\u001b[0m\n\u001b[0;32m--> 324\u001b[0;31m             \u001b[0;32mraise\u001b[0m \u001b[0mNameError\u001b[0m\u001b[0;34m(\u001b[0m\u001b[0;34m\"Solver {} is not installed. \"\u001b[0m\u001b[0;34m.\u001b[0m\u001b[0mformat\u001b[0m\u001b[0;34m(\u001b[0m\u001b[0msolver\u001b[0m\u001b[0;34m)\u001b[0m\u001b[0;34m)\u001b[0m\u001b[0;34m\u001b[0m\u001b[0;34m\u001b[0m\u001b[0m\n\u001b[0m\u001b[1;32m    325\u001b[0m         \u001b[0mopt\u001b[0m\u001b[0;34m.\u001b[0m\u001b[0msolve\u001b[0m\u001b[0;34m(\u001b[0m\u001b[0msolver\u001b[0m\u001b[0;34m=\u001b[0m\u001b[0msolver\u001b[0m\u001b[0;34m)\u001b[0m\u001b[0;34m\u001b[0m\u001b[0;34m\u001b[0m\u001b[0m\n\u001b[1;32m    326\u001b[0m \u001b[0;34m\u001b[0m\u001b[0m\n",
      "\u001b[0;31mNameError\u001b[0m: Solver GLPK_MI is not installed. "
     ]
    }
   ],
   "source": [
    "from pypfopt import DiscreteAllocation\n",
    "\n",
    "latest_prices = prices.iloc[-1]  # prices as of the day you are allocating\n",
    "da = DiscreteAllocation(weights, latest_prices, total_portfolio_value=20000, short_ratio=0.3)\n",
    "alloc, leftover = da.lp_portfolio()\n",
    "print(f\"Discrete allocation performed with ${leftover:.2f} leftover\")\n",
    "alloc"
   ]
  },
  {
   "cell_type": "markdown",
   "metadata": {},
   "source": [
    "## Max Sharpe with sector constraints\n",
    "\n",
    "If you have your own model for returns (or have read the warnings and want to proceed anyways), you may consider maximising the Sharpe ratio. This theoretically gives the optimal portfolio in terms of risks-returns.\n",
    "\n",
    "In this section, we construct a long-only max-sharpe portfolio, but also incorporate sector constraints. Sector constraints require three things. A `sector_mapper`, your `sector_lower` bounds, and your `sector_upper` bounds."
   ]
  },
  {
   "cell_type": "code",
   "execution_count": null,
   "metadata": {},
   "outputs": [],
   "source": [
    "sector_mapper = {\n",
    "    \"MSFT\": \"Tech\",\n",
    "    \"AMZN\": \"Consumer Discretionary\",\n",
    "    \"KO\": \"Consumer Staples\",\n",
    "    \"MA\": \"Financial Services\",\n",
    "    \"COST\": \"Consumer Staples\",\n",
    "    \"LUV\": \"Aerospace\",\n",
    "    \"XOM\": \"Energy\",\n",
    "    \"PFE\": \"Healthcare\",\n",
    "    \"JPM\": \"Financial Services\",\n",
    "    \"UNH\": \"Healthcare\",\n",
    "    \"ACN\": \"Misc\",\n",
    "    \"DIS\": \"Media\",\n",
    "    \"GILD\": \"Healthcare\",\n",
    "    \"F\": \"Auto\",\n",
    "    \"TSLA\": \"Auto\"\n",
    "}\n",
    "\n",
    "sector_lower = {\n",
    "    \"Consumer Staples\": 0.1, # at least 10% to staples\n",
    "    \"Tech\": 0.05 # at least 5% to tech\n",
    "    # For all other sectors, it will be assumed there is no lower bound\n",
    "}\n",
    "\n",
    "sector_upper = {\n",
    "    \"Tech\": 0.2,\n",
    "    \"Aerospace\":0.1,\n",
    "    \"Energy\": 0.1,\n",
    "    \"Auto\":0.15\n",
    "}"
   ]
  },
  {
   "cell_type": "markdown",
   "metadata": {},
   "source": [
    "We then set up the optimizer and add our constraints. We can use `ef.add_objective()` to add other constraints. For example, let's say that in addition to the above sector constraints, I specifically want:\n",
    "\n",
    "- 10% of the portfolio in AMZN\n",
    "- Less than 5% of my portfolio in TSLA"
   ]
  },
  {
   "cell_type": "code",
   "execution_count": null,
   "metadata": {},
   "outputs": [],
   "source": [
    "mu = expected_returns.capm_return(prices)\n",
    "S = risk_models.CovarianceShrinkage(prices).ledoit_wolf()\n",
    "\n",
    "ef = EfficientFrontier(mu, S)  # weight_bounds automatically set to (0, 1)\n",
    "ef.add_sector_constraints(sector_mapper, sector_lower, sector_upper)\n",
    "\n",
    "amzn_index = ef.tickers.index(\"AMZN\")\n",
    "ef.add_constraint(lambda w: w[amzn_index] == 0.10)\n",
    "\n",
    "tsla_index = ef.tickers.index(\"TSLA\")\n",
    "ef.add_constraint(lambda w: w[tsla_index] <= 0.05)\n",
    "\n",
    "ef.add_constraint(lambda w: w[10] >= 0.05)\n",
    "\n",
    "ef.max_sharpe()\n",
    "weights = ef.clean_weights()"
   ]
  },
  {
   "cell_type": "code",
   "execution_count": null,
   "metadata": {},
   "outputs": [
    {
     "data": {
      "text/plain": [
       "OrderedDict([('ACN', 0.16998),\n",
       "             ('AMZN', 0.1),\n",
       "             ('COST', 0.05584),\n",
       "             ('DIS', 0.0),\n",
       "             ('F', 0.0),\n",
       "             ('GILD', 0.06091),\n",
       "             ('JPM', 0.0),\n",
       "             ('KO', 0.04416),\n",
       "             ('LUV', 0.02109),\n",
       "             ('MA', 0.39318),\n",
       "             ('MSFT', 0.05),\n",
       "             ('PFE', 0.02219),\n",
       "             ('TSLA', 0.05),\n",
       "             ('UNH', 0.03266),\n",
       "             ('XOM', 0.0)])"
      ]
     },
     "execution_count": 22,
     "metadata": {},
     "output_type": "execute_result"
    }
   ],
   "source": [
    "weights"
   ]
  },
  {
   "cell_type": "code",
   "execution_count": null,
   "metadata": {},
   "outputs": [
    {
     "data": {
      "image/png": "[encoded data removed]",
      "text/plain": [
       "<Figure size 720x720 with 1 Axes>"
      ]
     },
     "metadata": {},
     "output_type": "display_data"
    }
   ],
   "source": [
    "pd.Series(weights).plot.pie(figsize=(10,10));"
   ]
  },
  {
   "cell_type": "markdown",
   "metadata": {},
   "source": [
    "We can immediately see that our explicit constraints were satisfied, and can check all the sector constraints as follows:\n"
   ]
  },
  {
   "cell_type": "code",
   "execution_count": null,
   "metadata": {},
   "outputs": [
    {
     "name": "stdout",
     "output_type": "stream",
     "text": [
      "Auto: 0.050\n",
      "Media: 0.000\n",
      "Energy: 0.000\n",
      "Consumer Discretionary: 0.100\n",
      "Healthcare: 0.116\n",
      "Misc: 0.170\n",
      "Financial Services: 0.393\n",
      "Consumer Staples: 0.100\n",
      "Tech: 0.050\n",
      "Aerospace: 0.021\n"
     ]
    }
   ],
   "source": [
    "# O(N^2) loop not a good idea in a coding interview :)\n",
    "for sector in set(sector_mapper.values()):\n",
    "    total_weight = 0\n",
    "    for t,w in weights.items():\n",
    "        if sector_mapper[t] == sector:\n",
    "            total_weight += w\n",
    "    print(f\"{sector}: {total_weight:.3f}\")"
   ]
  },
  {
   "cell_type": "markdown",
   "metadata": {},
   "source": [
    "## Maximise return for a given risk, with L2 regularisation\n",
    "\n",
    "Let's imagine that we've put a lot of thought into our risk tolerance, and have decided that we can't accept anything more than 15% volatility. We can use PyPortfolioOpt to construct a portfolio that maximises return for a given risk (with the same caveats about expected returns)."
   ]
  },
  {
   "cell_type": "code",
   "execution_count": null,
   "metadata": {},
   "outputs": [
    {
     "data": {
      "text/plain": [
       "OrderedDict([('ACN', 0.0),\n",
       "             ('AMZN', 0.19308),\n",
       "             ('COST', 0.1),\n",
       "             ('DIS', 0.0),\n",
       "             ('F', 0.0),\n",
       "             ('GILD', 0.05957),\n",
       "             ('JPM', 0.0),\n",
       "             ('KO', 0.0),\n",
       "             ('LUV', 0.0),\n",
       "             ('MA', 0.44735),\n",
       "             ('MSFT', 0.05),\n",
       "             ('PFE', 0.0),\n",
       "             ('TSLA', 0.15),\n",
       "             ('UNH', 0.0),\n",
       "             ('XOM', 0.0)])"
      ]
     },
     "execution_count": 25,
     "metadata": {},
     "output_type": "execute_result"
    }
   ],
   "source": [
    "ef = EfficientFrontier(mu, S)\n",
    "ef.add_sector_constraints(sector_mapper, sector_lower, sector_upper)\n",
    "ef.efficient_risk(target_volatility=0.15)\n",
    "weights = ef.clean_weights()\n",
    "weights"
   ]
  },
  {
   "cell_type": "code",
   "execution_count": null,
   "metadata": {},
   "outputs": [
    {
     "name": "stdout",
     "output_type": "stream",
     "text": [
      "9/15 tickers have zero weight\n"
     ]
    }
   ],
   "source": [
    "num_small = len([k for k in weights if weights[k] <= 1e-4])\n",
    "print(f\"{num_small}/{len(ef.tickers)} tickers have zero weight\")"
   ]
  },
  {
   "cell_type": "code",
   "execution_count": null,
   "metadata": {},
   "outputs": [
    {
     "name": "stdout",
     "output_type": "stream",
     "text": [
      "Expected annual return: 27.8%\n",
      "Annual volatility: 15.0%\n",
      "Sharpe Ratio: 1.72\n"
     ]
    }
   ],
   "source": [
    "ef.portfolio_performance(verbose=True);"
   ]
  },
  {
   "cell_type": "markdown",
   "metadata": {},
   "source": [
    "While this portfolio seems like it meets our objectives, we might be worried by the fact that a lot of the tickers have been assigned zero weight. In effect, the optimizer is \"overfitting\" to the data you have provided -- you are much more likely to get better results by enforcing some level of diversification. One way of doing this is to use **L2 regularisation** – essentially, adding a penalty on the number of near-zero weights."
   ]
  },
  {
   "cell_type": "code",
   "execution_count": null,
   "metadata": {},
   "outputs": [
    {
     "data": {
      "text/plain": [
       "OrderedDict([('ACN', 0.04508),\n",
       "             ('AMZN', 0.2077),\n",
       "             ('COST', 0.08946),\n",
       "             ('DIS', 0.01182),\n",
       "             ('F', 0.0),\n",
       "             ('GILD', 0.08381),\n",
       "             ('JPM', 0.04538),\n",
       "             ('KO', 0.01054),\n",
       "             ('LUV', 0.02881),\n",
       "             ('MA', 0.24404),\n",
       "             ('MSFT', 0.05),\n",
       "             ('PFE', 0.0),\n",
       "             ('TSLA', 0.15),\n",
       "             ('UNH', 0.03336),\n",
       "             ('XOM', 0.0)])"
      ]
     },
     "execution_count": 28,
     "metadata": {},
     "output_type": "execute_result"
    }
   ],
   "source": [
    "from pypfopt import objective_functions\n",
    "\n",
    "# You must always create a new efficient frontier object\n",
    "ef = EfficientFrontier(mu, S)\n",
    "ef.add_sector_constraints(sector_mapper, sector_lower, sector_upper)\n",
    "ef.add_objective(objective_functions.L2_reg, gamma=0.1)  # gamme is the tuning parameter\n",
    "ef.efficient_risk(0.15)\n",
    "weights = ef.clean_weights()\n",
    "weights"
   ]
  },
  {
   "cell_type": "code",
   "execution_count": null,
   "metadata": {},
   "outputs": [
    {
     "name": "stdout",
     "output_type": "stream",
     "text": [
      "3/15 tickers have zero weight\n"
     ]
    }
   ],
   "source": [
    "num_small = len([k for k in weights if weights[k] <= 1e-4])\n",
    "print(f\"{num_small}/{len(ef.tickers)} tickers have zero weight\")"
   ]
  },
  {
   "cell_type": "markdown",
   "metadata": {},
   "source": [
    "We can tune the value of gamma to choose the number of nonzero tickers. Larger gamma pulls portfolio weights towards an equal allocation."
   ]
  },
  {
   "cell_type": "code",
   "execution_count": null,
   "metadata": {},
   "outputs": [
    {
     "data": {
      "text/plain": [
       "OrderedDict([('ACN', 0.05531),\n",
       "             ('AMZN', 0.13092),\n",
       "             ('COST', 0.0616),\n",
       "             ('DIS', 0.06304),\n",
       "             ('F', 0.06104),\n",
       "             ('GILD', 0.08017),\n",
       "             ('JPM', 0.07785),\n",
       "             ('KO', 0.0384),\n",
       "             ('LUV', 0.06491),\n",
       "             ('MA', 0.08275),\n",
       "             ('MSFT', 0.0708),\n",
       "             ('PFE', 0.04067),\n",
       "             ('TSLA', 0.08896),\n",
       "             ('UNH', 0.06208),\n",
       "             ('XOM', 0.02152)])"
      ]
     },
     "execution_count": 30,
     "metadata": {},
     "output_type": "execute_result"
    }
   ],
   "source": [
    "ef = EfficientFrontier(mu, S)\n",
    "ef.add_sector_constraints(sector_mapper, sector_lower, sector_upper)\n",
    "ef.add_objective(objective_functions.L2_reg, gamma=1)  # gamme is the tuning parameter\n",
    "ef.efficient_risk(0.15)\n",
    "weights = ef.clean_weights()\n",
    "weights"
   ]
  },
  {
   "cell_type": "code",
   "execution_count": null,
   "metadata": {},
   "outputs": [
    {
     "data": {
      "image/png": "[encoded data removed]",
      "text/plain": [
       "<Figure size 720x720 with 1 Axes>"
      ]
     },
     "metadata": {},
     "output_type": "display_data"
    }
   ],
   "source": [
    "pd.Series(weights).plot.pie(figsize=(10, 10));"
   ]
  },
  {
   "cell_type": "code",
   "execution_count": null,
   "metadata": {},
   "outputs": [
    {
     "name": "stdout",
     "output_type": "stream",
     "text": [
      "Expected annual return: 24.9%\n",
      "Annual volatility: 14.8%\n",
      "Sharpe Ratio: 1.54\n"
     ]
    }
   ],
   "source": [
    "ef.portfolio_performance(verbose=True);"
   ]
  },
  {
   "cell_type": "markdown",
   "metadata": {},
   "source": [
    "The resulting portfolio still has a volatility of less than our 15% limit. It's in-sample Sharpe ratio has gone down, but this portfolio is a lot more robust for actual investment."
   ]
  },
  {
   "cell_type": "markdown",
   "metadata": {},
   "source": [
    "## Minimise risk for a given return, market-neutral\n",
    "\n",
    "We may instead be in the situation where we have a certain required rate of return (maybe we are a pension fund that needs 7% return a year), but would like to minimise risk. Additionally, suppose we would like our portfolio to be market neutral, in the sense that it is equally exposed to the long and short sides.  "
   ]
  },
  {
   "cell_type": "code",
   "execution_count": null,
   "metadata": {},
   "outputs": [
    {
     "data": {
      "text/plain": [
       "OrderedDict([('ACN', -0.03647),\n",
       "             ('AMZN', 0.21872),\n",
       "             ('COST', -0.05973),\n",
       "             ('DIS', -0.00362),\n",
       "             ('F', -0.00541),\n",
       "             ('GILD', 0.04958),\n",
       "             ('JPM', 0.04608),\n",
       "             ('KO', -0.13872),\n",
       "             ('LUV', 0.00046),\n",
       "             ('MA', 0.06438),\n",
       "             ('MSFT', 0.01974),\n",
       "             ('PFE', -0.08345),\n",
       "             ('TSLA', 0.09091),\n",
       "             ('UNH', -0.00883),\n",
       "             ('XOM', -0.15364)])"
      ]
     },
     "execution_count": 33,
     "metadata": {},
     "output_type": "execute_result"
    }
   ],
   "source": [
    "# Must have no weight bounds to allow shorts\n",
    "ef = EfficientFrontier(mu, S, weight_bounds=(None, None))\n",
    "ef.add_objective(objective_functions.L2_reg)\n",
    "ef.efficient_return(target_return=0.07, market_neutral=True)\n",
    "weights = ef.clean_weights()\n",
    "weights"
   ]
  },
  {
   "cell_type": "code",
   "execution_count": null,
   "metadata": {},
   "outputs": [
    {
     "name": "stdout",
     "output_type": "stream",
     "text": [
      "Expected annual return: 7.0%\n",
      "Annual volatility: 10.5%\n",
      "Sharpe Ratio: 0.48\n"
     ]
    }
   ],
   "source": [
    "ef.portfolio_performance(verbose=True);"
   ]
  },
  {
   "cell_type": "code",
   "execution_count": null,
   "metadata": {},
   "outputs": [
    {
     "data": {
      "image/png": "[encoded data removed]",
      "text/plain": [
       "<Figure size 720x432 with 1 Axes>"
      ]
     },
     "metadata": {
      "needs_background": "light"
     },
     "output_type": "display_data"
    }
   ],
   "source": [
    "pd.Series(weights).plot.barh(figsize=(10,6));"
   ]
  },
  {
   "cell_type": "code",
   "execution_count": null,
   "metadata": {},
   "outputs": [
    {
     "name": "stdout",
     "output_type": "stream",
     "text": [
      "Net weight: 0.00\n"
     ]
    }
   ],
   "source": [
    "print(f\"Net weight: {sum(weights.values()):.2f}\")"
   ]
  },
  {
   "cell_type": "markdown",
   "metadata": {},
   "source": [
    "## Efficient semi-variance optimization\n",
    "\n",
    "In this example, we will minimise the portfolio semivariance (i.e downside volatility) subject to a return constraint (target 20%).\n",
    "\n",
    "There are actually two ways of doing this in PyPortfolioOpt. The first is the \"intuitive\" way. We compute a semicovariance matrix, and pass this into `EfficientFrontier` (just like we would do for the exponential cov matrix or the Ledoit-Wolf shrunk matrix)."
   ]
  },
  {
   "cell_type": "code",
   "execution_count": null,
   "metadata": {},
   "outputs": [
    {
     "data": {
      "image/png": "[encoded data removed]",
      "text/plain": [
       "<Figure size 432x288 with 2 Axes>"
      ]
     },
     "metadata": {
      "needs_background": "light"
     },
     "output_type": "display_data"
    }
   ],
   "source": [
    "semicov = risk_models.semicovariance(prices, benchmark=0)\n",
    "plotting.plot_covariance(semicov);"
   ]
  },
  {
   "cell_type": "code",
   "execution_count": null,
   "metadata": {},
   "outputs": [
    {
     "data": {
      "text/plain": [
       "OrderedDict([('ACN', 0.25732),\n",
       "             ('AMZN', 0.0),\n",
       "             ('COST', 0.08825),\n",
       "             ('DIS', 0.0),\n",
       "             ('F', 0.0),\n",
       "             ('GILD', 0.00775),\n",
       "             ('JPM', 0.0),\n",
       "             ('KO', 0.12898),\n",
       "             ('LUV', 0.0),\n",
       "             ('MA', 0.31086),\n",
       "             ('MSFT', 0.0),\n",
       "             ('PFE', 0.04834),\n",
       "             ('TSLA', 0.15102),\n",
       "             ('UNH', 0.0),\n",
       "             ('XOM', 0.00749)])"
      ]
     },
     "execution_count": 38,
     "metadata": {},
     "output_type": "execute_result"
    }
   ],
   "source": [
    "ef = EfficientFrontier(mu, semicov)\n",
    "ef.efficient_return(0.2)\n",
    "weights = ef.clean_weights()\n",
    "weights\n"
   ]
  },
  {
   "cell_type": "code",
   "execution_count": null,
   "metadata": {},
   "outputs": [
    {
     "name": "stdout",
     "output_type": "stream",
     "text": [
      "Expected annual return: 22.8%\n",
      "Annual volatility: 8.9%\n",
      "Sharpe Ratio: 2.34\n"
     ]
    }
   ],
   "source": [
    "ef.portfolio_performance(verbose=True);"
   ]
  },
  {
   "cell_type": "markdown",
   "metadata": {},
   "source": [
    "However, this solution is not truly optimal in mean-semivariance space. To do the optimization properly, we must use the `EfficientSemivariance` class. This requires us to first compute the returns and drop NaNs."
   ]
  },
  {
   "cell_type": "code",
   "execution_count": null,
   "metadata": {},
   "outputs": [],
   "source": [
    "returns = expected_returns.returns_from_prices(prices)\n",
    "returns = returns.dropna()"
   ]
  },
  {
   "cell_type": "code",
   "execution_count": null,
   "metadata": {},
   "outputs": [
    {
     "name": "stdout",
     "output_type": "stream",
     "text": [
      "Expected annual return: 20.0%\n",
      "Annual semi-deviation: 10.2%\n",
      "Sortino Ratio: 1.77\n"
     ]
    }
   ],
   "source": [
    "from pypfopt import EfficientSemivariance\n",
    "\n",
    "es = EfficientSemivariance(mu, returns)\n",
    "es.efficient_return(0.2)\n",
    "es.portfolio_performance(verbose=True);\n"
   ]
  },
  {
   "cell_type": "markdown",
   "metadata": {},
   "source": [
    "To compare this with the heuristic solution, I will use a quick hack: replacing the `es.weights` with `es.weights` and running `es.portfolio_performance` again. Please don't be encouraged to do this in real life!"
   ]
  },
  {
   "cell_type": "code",
   "execution_count": null,
   "metadata": {},
   "outputs": [
    {
     "name": "stdout",
     "output_type": "stream",
     "text": [
      "Expected annual return: 22.8%\n",
      "Annual semi-deviation: 14.2%\n",
      "Sortino Ratio: 1.47\n"
     ]
    }
   ],
   "source": [
    "es.weights = ef.weights\n",
    "es.portfolio_performance(verbose=True);"
   ]
  },
  {
   "cell_type": "markdown",
   "metadata": {},
   "source": [
    "We see that the heuristic method has a significantly lower Sortino ratio, and much higher semivariance."
   ]
  },
  {
   "cell_type": "markdown",
   "metadata": {},
   "source": [
    "## Efficient CVaR optimization\n",
    "\n",
    "In this example, we will find the portfolio that maximises return subject to a CVaR constraint.\n",
    "\n",
    "Before doing this, let's first compute the 95%-CVaR for the max-sharpe portfolio."
   ]
  },
  {
   "cell_type": "code",
   "execution_count": null,
   "metadata": {},
   "outputs": [
    {
     "data": {
      "text/html": [
       "<div>\n",
       "<style scoped>\n",
       "    .dataframe tbody tr th:only-of-type {\n",
       "        vertical-align: middle;\n",
       "    }\n",
       "\n",
       "    .dataframe tbody tr th {\n",
       "        vertical-align: top;\n",
       "    }\n",
       "\n",
       "    .dataframe thead th {\n",
       "        text-align: right;\n",
       "    }\n",
       "</style>\n",
       "<table border=\"1\" class=\"dataframe\">\n",
       "  <thead>\n",
       "    <tr style=\"text-align: right;\">\n",
       "      <th></th>\n",
       "      <th>ACN</th>\n",
       "      <th>AMZN</th>\n",
       "      <th>COST</th>\n",
       "      <th>DIS</th>\n",
       "      <th>F</th>\n",
       "      <th>GILD</th>\n",
       "      <th>JPM</th>\n",
       "      <th>KO</th>\n",
       "      <th>LUV</th>\n",
       "      <th>MA</th>\n",
       "      <th>MSFT</th>\n",
       "      <th>PFE</th>\n",
       "      <th>TSLA</th>\n",
       "      <th>UNH</th>\n",
       "      <th>XOM</th>\n",
       "    </tr>\n",
       "    <tr>\n",
       "      <th>Date</th>\n",
       "      <th></th>\n",
       "      <th></th>\n",
       "      <th></th>\n",
       "      <th></th>\n",
       "      <th></th>\n",
       "      <th></th>\n",
       "      <th></th>\n",
       "      <th></th>\n",
       "      <th></th>\n",
       "      <th></th>\n",
       "      <th></th>\n",
       "      <th></th>\n",
       "      <th></th>\n",
       "      <th></th>\n",
       "      <th></th>\n",
       "    </tr>\n",
       "  </thead>\n",
       "  <tbody>\n",
       "    <tr>\n",
       "      <th>2010-06-30</th>\n",
       "      <td>0.000000</td>\n",
       "      <td>0.005985</td>\n",
       "      <td>-0.014381</td>\n",
       "      <td>-0.024768</td>\n",
       "      <td>0.020243</td>\n",
       "      <td>-0.019731</td>\n",
       "      <td>-0.012143</td>\n",
       "      <td>-0.004173</td>\n",
       "      <td>0.000000</td>\n",
       "      <td>-0.017045</td>\n",
       "      <td>-0.012870</td>\n",
       "      <td>-0.001401</td>\n",
       "      <td>-0.002512</td>\n",
       "      <td>-0.008034</td>\n",
       "      <td>-0.003840</td>\n",
       "    </tr>\n",
       "    <tr>\n",
       "      <th>2010-07-01</th>\n",
       "      <td>-0.009573</td>\n",
       "      <td>0.015559</td>\n",
       "      <td>0.001277</td>\n",
       "      <td>-0.000317</td>\n",
       "      <td>0.048611</td>\n",
       "      <td>-0.004084</td>\n",
       "      <td>-0.013129</td>\n",
       "      <td>-0.001796</td>\n",
       "      <td>-0.010802</td>\n",
       "      <td>0.016652</td>\n",
       "      <td>0.006519</td>\n",
       "      <td>-0.002104</td>\n",
       "      <td>-0.078472</td>\n",
       "      <td>-0.019366</td>\n",
       "      <td>-0.008060</td>\n",
       "    </tr>\n",
       "    <tr>\n",
       "      <th>2010-07-02</th>\n",
       "      <td>-0.008882</td>\n",
       "      <td>-0.016402</td>\n",
       "      <td>-0.012204</td>\n",
       "      <td>-0.003493</td>\n",
       "      <td>-0.027436</td>\n",
       "      <td>0.021382</td>\n",
       "      <td>-0.006929</td>\n",
       "      <td>0.000399</td>\n",
       "      <td>-0.021838</td>\n",
       "      <td>0.000345</td>\n",
       "      <td>0.004749</td>\n",
       "      <td>-0.006324</td>\n",
       "      <td>-0.125683</td>\n",
       "      <td>0.016158</td>\n",
       "      <td>-0.000707</td>\n",
       "    </tr>\n",
       "    <tr>\n",
       "      <th>2010-07-06</th>\n",
       "      <td>0.012388</td>\n",
       "      <td>0.008430</td>\n",
       "      <td>-0.004241</td>\n",
       "      <td>0.010835</td>\n",
       "      <td>-0.011673</td>\n",
       "      <td>-0.002867</td>\n",
       "      <td>0.013955</td>\n",
       "      <td>0.007593</td>\n",
       "      <td>-0.011163</td>\n",
       "      <td>-0.013513</td>\n",
       "      <td>0.023636</td>\n",
       "      <td>0.010608</td>\n",
       "      <td>-0.160938</td>\n",
       "      <td>0.020848</td>\n",
       "      <td>0.015733</td>\n",
       "    </tr>\n",
       "    <tr>\n",
       "      <th>2010-07-07</th>\n",
       "      <td>0.022129</td>\n",
       "      <td>0.030620</td>\n",
       "      <td>0.005371</td>\n",
       "      <td>0.044767</td>\n",
       "      <td>0.042323</td>\n",
       "      <td>0.004889</td>\n",
       "      <td>0.050096</td>\n",
       "      <td>0.020623</td>\n",
       "      <td>0.062088</td>\n",
       "      <td>0.037694</td>\n",
       "      <td>0.020151</td>\n",
       "      <td>0.023093</td>\n",
       "      <td>-0.019243</td>\n",
       "      <td>0.010730</td>\n",
       "      <td>0.016881</td>\n",
       "    </tr>\n",
       "  </tbody>\n",
       "</table>\n",
       "</div>"
      ],
      "text/plain": [
       "                 ACN      AMZN      COST       DIS         F      GILD  \\\n",
       "Date                                                                     \n",
       "2010-06-30  0.000000  0.005985 -0.014381 -0.024768  0.020243 -0.019731   \n",
       "2010-07-01 -0.009573  0.015559  0.001277 -0.000317  0.048611 -0.004084   \n",
       "2010-07-02 -0.008882 -0.016402 -0.012204 -0.003493 -0.027436  0.021382   \n",
       "2010-07-06  0.012388  0.008430 -0.004241  0.010835 -0.011673 -0.002867   \n",
       "2010-07-07  0.022129  0.030620  0.005371  0.044767  0.042323  0.004889   \n",
       "\n",
       "                 JPM        KO       LUV        MA      MSFT       PFE  \\\n",
       "Date                                                                     \n",
       "2010-06-30 -0.012143 -0.004173  0.000000 -0.017045 -0.012870 -0.001401   \n",
       "2010-07-01 -0.013129 -0.001796 -0.010802  0.016652  0.006519 -0.002104   \n",
       "2010-07-02 -0.006929  0.000399 -0.021838  0.000345  0.004749 -0.006324   \n",
       "2010-07-06  0.013955  0.007593 -0.011163 -0.013513  0.023636  0.010608   \n",
       "2010-07-07  0.050096  0.020623  0.062088  0.037694  0.020151  0.023093   \n",
       "\n",
       "                TSLA       UNH       XOM  \n",
       "Date                                      \n",
       "2010-06-30 -0.002512 -0.008034 -0.003840  \n",
       "2010-07-01 -0.078472 -0.019366 -0.008060  \n",
       "2010-07-02 -0.125683  0.016158 -0.000707  \n",
       "2010-07-06 -0.160938  0.020848  0.015733  \n",
       "2010-07-07 -0.019243  0.010730  0.016881  "
      ]
     },
     "execution_count": 43,
     "metadata": {},
     "output_type": "execute_result"
    }
   ],
   "source": [
    "returns = expected_returns.returns_from_prices(prices).dropna()\n",
    "returns.head()"
   ]
  },
  {
   "cell_type": "code",
   "execution_count": null,
   "metadata": {},
   "outputs": [
    {
     "name": "stdout",
     "output_type": "stream",
     "text": [
      "Expected annual return: 25.6%\n",
      "Annual volatility: 12.8%\n",
      "Sharpe Ratio: 1.84\n"
     ]
    }
   ],
   "source": [
    "ef = EfficientFrontier(mu, S)\n",
    "ef.max_sharpe()\n",
    "weight_arr = ef.weights\n",
    "ef.portfolio_performance(verbose=True);"
   ]
  },
  {
   "cell_type": "code",
   "execution_count": null,
   "metadata": {},
   "outputs": [
    {
     "data": {
      "image/png": "[encoded data removed]",
      "text/plain": [
       "<Figure size 432x288 with 1 Axes>"
      ]
     },
     "metadata": {
      "needs_background": "light"
     },
     "output_type": "display_data"
    }
   ],
   "source": [
    "# Compute CVaR\n",
    "portfolio_rets = (returns * weight_arr).sum(axis=1)\n",
    "portfolio_rets.hist(bins=50);"
   ]
  },
  {
   "cell_type": "code",
   "execution_count": null,
   "metadata": {},
   "outputs": [
    {
     "name": "stdout",
     "output_type": "stream",
     "text": [
      "VaR: -2.15%\n",
      "CVaR: -3.30%\n"
     ]
    }
   ],
   "source": [
    "# VaR\n",
    "var = portfolio_rets.quantile(0.05)\n",
    "cvar = portfolio_rets[portfolio_rets <= var].mean()\n",
    "print(\"VaR: {:.2f}%\".format(100*var))\n",
    "print(\"CVaR: {:.2f}%\".format(100*cvar))"
   ]
  },
  {
   "cell_type": "markdown",
   "metadata": {},
   "source": [
    "This value of the CVaR means that our average loss on the worst 5% of days will be -3.35%. Let's say that this were beyond our comfort zone (for a \\\\$100,000 portfolio, this would mean losing \\\\$3350 in a day).\n",
    "\n",
    "Let's firstly construct the portfolio with the minimum CVaR:"
   ]
  },
  {
   "cell_type": "code",
   "execution_count": null,
   "metadata": {},
   "outputs": [
    {
     "name": "stdout",
     "output_type": "stream",
     "text": [
      "Expected annual return: 18.2%\n",
      "Conditional Value at Risk: 2.13%\n"
     ]
    }
   ],
   "source": [
    "from pypfopt import EfficientCVaR\n",
    "\n",
    "ec = EfficientCVaR(mu, returns)\n",
    "ec.min_cvar()\n",
    "ec.portfolio_performance(verbose=True);"
   ]
  },
  {
   "cell_type": "markdown",
   "metadata": {},
   "source": [
    "We have significantly reduced the CVaR, but at the cost of a large reduction in returns. We can use `efficient_risk` to maximise the return for a target risk. Let's say that a 2.5% CVaR is acceptable."
   ]
  },
  {
   "cell_type": "code",
   "execution_count": null,
   "metadata": {},
   "outputs": [
    {
     "name": "stdout",
     "output_type": "stream",
     "text": [
      "Expected annual return: 24.9%\n",
      "Conditional Value at Risk: 2.50%\n"
     ]
    }
   ],
   "source": [
    "from pypfopt import EfficientCVaR\n",
    "\n",
    "ec = EfficientCVaR(mu, returns)\n",
    "ec.efficient_risk(target_cvar=0.025)\n",
    "ec.portfolio_performance(verbose=True);"
   ]
  },
  {
   "cell_type": "markdown",
   "metadata": {},
   "source": [
    "We now have similar returns to before (24.7% vs 25.8%), but with a lower tail risk (2.50% CVaR vs 3.35%). "
   ]
  },
  {
   "cell_type": "markdown",
   "metadata": {},
   "source": [
    "## Plotting - Unconstrained\n",
    "\n",
    "To plot the unconstrained efficient frontier, it is easiest to use the critical line algorithm. "
   ]
  },
  {
   "cell_type": "code",
   "execution_count": null,
   "metadata": {},
   "outputs": [
    {
     "name": "stdout",
     "output_type": "stream",
     "text": [
      "Expected annual return: 25.3%\n",
      "Annual volatility: 12.7%\n",
      "Sharpe Ratio: 1.84\n"
     ]
    }
   ],
   "source": [
    "from pypfopt import CLA, plotting\n",
    "\n",
    "cla = CLA(mu, S)\n",
    "cla.max_sharpe()\n",
    "cla.portfolio_performance(verbose=True);"
   ]
  },
  {
   "cell_type": "code",
   "execution_count": null,
   "metadata": {},
   "outputs": [
    {
     "data": {
      "image/png": "[encoded data removed]",
      "text/plain": [
       "<Figure size 432x288 with 1 Axes>"
      ]
     },
     "metadata": {
      "needs_background": "light"
     },
     "output_type": "display_data"
    }
   ],
   "source": [
    "ax = plotting.plot_efficient_frontier(cla, showfig=False)"
   ]
  },
  {
   "cell_type": "markdown",
   "metadata": {},
   "source": [
    "## Plotting - Constrained"
   ]
  },
  {
   "cell_type": "markdown",
   "metadata": {},
   "source": [
    "In this example, we will plot the efficient frontier corresponding to portfolios with a constraint on exposure to MSFT, AMZN, and TSLA (e.g maybe we want to avoid big tech)."
   ]
  },
  {
   "cell_type": "code",
   "execution_count": null,
   "metadata": {},
   "outputs": [],
   "source": [
    "import cvxpy as cp\n",
    "\n",
    "mu = expected_returns.capm_return(prices)\n",
    "S = risk_models.CovarianceShrinkage(prices).ledoit_wolf()\n",
    "\n",
    "ef = EfficientFrontier(mu, S,)\n",
    "big_tech_indices = [t in {\"MSFT\", \"AMZN\", \"TSLA\"} for t in tickers]\n",
    "ef.add_constraint(lambda w: cp.sum(w[big_tech_indices]) <= 0.3)"
   ]
  },
  {
   "cell_type": "markdown",
   "metadata": {},
   "source": [
    "As per the docs, *before* we call any optimization function, we should pass this to the plotting module:"
   ]
  },
  {
   "cell_type": "code",
   "execution_count": null,
   "metadata": {},
   "outputs": [
    {
     "data": {
      "image/png": "[encoded data removed]",
      "text/plain": [
       "<Figure size 432x288 with 1 Axes>"
      ]
     },
     "metadata": {
      "needs_background": "light"
     },
     "output_type": "display_data"
    }
   ],
   "source": [
    "ax = plotting.plot_efficient_frontier(ef, ef_param=\"risk\", \n",
    "                                      ef_param_range=np.linspace(0.12, 0.4, 50), \n",
    "                                      showfig=False);"
   ]
  },
  {
   "cell_type": "markdown",
   "metadata": {},
   "source": [
    "## Complex plots\n",
    "\n",
    "The `plotting` module allows you to pass in an `ax`, on top of which the plots are added. This allows you to build complex plots. \n",
    "\n",
    "In this example, we will plot the efficient frontier as well as 10,000 simulated portfolios. \n",
    "\n",
    "To generate the simulated portfolios, we will sample random weights from the Dirichlet distribution (these are already normalised):"
   ]
  },
  {
   "cell_type": "code",
   "execution_count": null,
   "metadata": {},
   "outputs": [
    {
     "name": "stdout",
     "output_type": "stream",
     "text": [
      "Sample portfolio returns: [0.23416375 0.22720695 0.23793632 ... 0.23921647 0.23300209 0.21349917]\n",
      "Sample portfolio volatilities: 0       0.158438\n",
      "1       0.161726\n",
      "2       0.149709\n",
      "3       0.147343\n",
      "4       0.159855\n",
      "          ...   \n",
      "9995    0.173541\n",
      "9996    0.176691\n",
      "9997    0.144743\n",
      "9998    0.155239\n",
      "9999    0.143728\n",
      "Length: 10000, dtype: float64\n"
     ]
    }
   ],
   "source": [
    "n_samples = 10000\n",
    "w = np.random.dirichlet(np.ones(len(mu)), n_samples)\n",
    "rets = w.dot(mu)\n",
    "stds = np.sqrt((w.T * (S @ w.T)).sum(axis=0))\n",
    "sharpes = rets / stds\n",
    "\n",
    "print(\"Sample portfolio returns:\", rets)\n",
    "print(\"Sample portfolio volatilities:\", stds)"
   ]
  },
  {
   "cell_type": "markdown",
   "metadata": {},
   "source": [
    "Note that the above code is equivalent to generating samples via a for loop (just more efficient)"
   ]
  },
  {
   "cell_type": "code",
   "execution_count": null,
   "metadata": {},
   "outputs": [],
   "source": [
    "# mus = []\n",
    "# stds = []\n",
    "# sharpes = []\n",
    "# for _ in range(10000):\n",
    "#     w = np.random.dirichlet(np.ones(len(mu)))\n",
    "#     # w = np.random.rand(len(mu))\n",
    "#     # w /= w.sum()\n",
    "#     ret = mu.dot(w)\n",
    "#     std = np.sqrt(w.dot(S @ w))\n",
    "#     mus.append(ret)\n",
    "#     stds.append(std)\n",
    "#     sharpes.append(ret / std)"
   ]
  },
  {
   "cell_type": "code",
   "execution_count": null,
   "metadata": {},
   "outputs": [
    {
     "data": {
      "image/png": "[encoded data removed]",
      "text/plain": [
       "<Figure size 432x288 with 1 Axes>"
      ]
     },
     "metadata": {
      "needs_background": "light"
     },
     "output_type": "display_data"
    }
   ],
   "source": [
    "# Plot efficient frontier with Monte Carlo sim\n",
    "ef = EfficientFrontier(mu, S)\n",
    "\n",
    "fig, ax = plt.subplots()\n",
    "plotting.plot_efficient_frontier(ef, ax=ax, show_assets=False)\n",
    "\n",
    "# Find and plot the tangency portfolio\n",
    "ef.max_sharpe()\n",
    "ret_tangent, std_tangent, _ = ef.portfolio_performance()\n",
    "ax.scatter(std_tangent, ret_tangent, marker=\"*\", s=100, c=\"r\", label=\"Max Sharpe\")\n",
    "\n",
    "# Plot random portfolios\n",
    "ax.scatter(stds, rets, marker=\".\", c=sharpes, cmap=\"viridis_r\")\n",
    "\n",
    "# Format\n",
    "ax.set_title(\"Efficient Frontier with random portfolios\")\n",
    "ax.legend()\n",
    "plt.tight_layout()\n",
    "plt.show()\n"
   ]
  },
  {
   "cell_type": "code",
   "execution_count": null,
   "metadata": {},
   "outputs": [],
   "source": []
  }
 ],
 "metadata": {
  "kernelspec": {
   "display_name": "Python 3 (ipykernel)",
   "language": "python",
   "name": "python3"
  },
  "language_info": {
   "codemirror_mode": {
    "name": "ipython",
    "version": 3
   },
   "file_extension": ".py",
   "mimetype": "text/x-python",
   "name": "python",
   "nbconvert_exporter": "python",
   "pygments_lexer": "ipython3",
   "version": "3.8.10"
  }
 },
 "nbformat": 4,
 "nbformat_minor": 4
}
