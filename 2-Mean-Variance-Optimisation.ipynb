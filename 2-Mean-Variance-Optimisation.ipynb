{
 "cells": [
  {
   "cell_type": "markdown",
   "metadata": {},
   "source": [
    "# Mean-variance optimization\n",
    "\n",
    "In this cookbook recipe, we work on several examples demonstrating PyPortfolioOpt's mean-variance capabilities. I will discuss what I think should be your \"default\" options, based on my experience in optimising portfolios.\n",
    "\n",
    "To start, you need a list of tickers. Some people just provide the whole universe of stocks, but I don't think this is a good idea - portfolio optimization is quite different from asset selection. I would suggest anywhere from 10-50 stocks as a starting point.\n",
    "\n",
    "Some of the things we cover:\n",
    "\n",
    "- Downloading data and getting it into PyPortfolioOpt\n",
    "- Calculating and visualising the covariance matrix\n",
    "- Optimising a long/short portfolio to minimise total variance\n",
    "- Optimising a portfolio to maximise the Sharpe ratio, subject to sector constraints\n",
    "- Optimising a portfolio to maximise return for a given risk, subject to sector constraints, with an L2 regularisation objective\n",
    "- Optimising a market-neutral portfolio to minimise risk for a given level of return\n",
    "- Optimising along the mean-semivariance frontier\n",
    "- Optimising along the mean-CVaR frontier\n",
    "- Plotting the efficient frontier:\n",
    "    - Simple (using CLA)\n",
    "    - Constrained\n",
    "    - Complex plots\n",
    "\n",
    "Please consult the [docs](https://pyportfolioopt.readthedocs.io/) for more info.\n",
    "\n",
    "## Downloading data\n",
    "\n",
    "To download data, we will use `yfinance`, an excellent library that provides free price data from Yahoo Finance, no API key needed."
   ]
  },
  {
   "cell_type": "code",
   "execution_count": 1,
   "metadata": {},
   "outputs": [],
   "source": [
    "import yfinance as yf\n",
    "import matplotlib.pyplot as plt\n",
    "import pandas as pd\n",
    "import numpy as np"
   ]
  },
  {
   "cell_type": "code",
   "execution_count": 2,
   "metadata": {},
   "outputs": [],
   "source": [
    "tickers = [\"MSFT\", \"AMZN\", \"KO\", \"MA\", \"COST\", \n",
    "           \"LUV\", \"XOM\", \"PFE\", \"JPM\", \"UNH\", \n",
    "           \"ACN\", \"DIS\", \"GILD\", \"F\", \"TSLA\"] "
   ]
  },
  {
   "cell_type": "code",
   "execution_count": 3,
   "metadata": {},
   "outputs": [
    {
     "name": "stdout",
     "output_type": "stream",
     "text": [
      "[*********************100%***********************]  15 of 15 completed\n"
     ]
    }
   ],
   "source": [
    "ohlc = yf.download(tickers, period=\"max\")"
   ]
  },
  {
   "cell_type": "markdown",
   "metadata": {},
   "source": [
    "# Download Data"
   ]
  },
  {
   "cell_type": "code",
   "execution_count": 4,
   "metadata": {},
   "outputs": [
    {
     "name": "stdout",
     "output_type": "stream",
     "text": [
      "[*********************100%***********************]  1 of 1 completed\n",
      "[*********************100%***********************]  1 of 1 completed\n"
     ]
    }
   ],
   "source": [
    "tickerStrings = ['AAPL', 'MSFT']\n",
    "for ticker in tickerStrings:\n",
    "    data = yf.download(ticker, group_by=\"Ticker\", period=\"6mo\")\n",
    "    data['ticker'] = ticker  # add this column becasue the dataframe doesn't contain a column with the ticker\n",
    "    data.to_csv(f'data/ticker_{ticker}.csv')  # ticker_AAPL.csv for example"
   ]
  },
  {
   "cell_type": "code",
   "execution_count": 5,
   "metadata": {},
   "outputs": [],
   "source": [
    "df = pd.read_csv('data/ticker_AAPL.csv')"
   ]
  },
  {
   "cell_type": "code",
   "execution_count": 6,
   "metadata": {},
   "outputs": [
    {
     "data": {
      "text/html": [
       "<div>\n",
       "<style scoped>\n",
       "    .dataframe tbody tr th:only-of-type {\n",
       "        vertical-align: middle;\n",
       "    }\n",
       "\n",
       "    .dataframe tbody tr th {\n",
       "        vertical-align: top;\n",
       "    }\n",
       "\n",
       "    .dataframe thead th {\n",
       "        text-align: right;\n",
       "    }\n",
       "</style>\n",
       "<table border=\"1\" class=\"dataframe\">\n",
       "  <thead>\n",
       "    <tr style=\"text-align: right;\">\n",
       "      <th></th>\n",
       "      <th>ACN</th>\n",
       "      <th>AMZN</th>\n",
       "      <th>COST</th>\n",
       "      <th>DIS</th>\n",
       "      <th>F</th>\n",
       "      <th>GILD</th>\n",
       "      <th>JPM</th>\n",
       "      <th>KO</th>\n",
       "      <th>LUV</th>\n",
       "      <th>MA</th>\n",
       "      <th>MSFT</th>\n",
       "      <th>PFE</th>\n",
       "      <th>TSLA</th>\n",
       "      <th>UNH</th>\n",
       "      <th>XOM</th>\n",
       "    </tr>\n",
       "    <tr>\n",
       "      <th>Date</th>\n",
       "      <th></th>\n",
       "      <th></th>\n",
       "      <th></th>\n",
       "      <th></th>\n",
       "      <th></th>\n",
       "      <th></th>\n",
       "      <th></th>\n",
       "      <th></th>\n",
       "      <th></th>\n",
       "      <th></th>\n",
       "      <th></th>\n",
       "      <th></th>\n",
       "      <th></th>\n",
       "      <th></th>\n",
       "      <th></th>\n",
       "    </tr>\n",
       "  </thead>\n",
       "  <tbody>\n",
       "    <tr>\n",
       "      <th>2021-08-05</th>\n",
       "      <td>320.309998</td>\n",
       "      <td>3375.989990</td>\n",
       "      <td>443.190002</td>\n",
       "      <td>176.710007</td>\n",
       "      <td>13.71</td>\n",
       "      <td>69.300003</td>\n",
       "      <td>153.149994</td>\n",
       "      <td>56.500000</td>\n",
       "      <td>50.450001</td>\n",
       "      <td>371.940002</td>\n",
       "      <td>289.519989</td>\n",
       "      <td>45.060001</td>\n",
       "      <td>714.630005</td>\n",
       "      <td>411.190002</td>\n",
       "      <td>57.200001</td>\n",
       "    </tr>\n",
       "    <tr>\n",
       "      <th>2021-08-06</th>\n",
       "      <td>321.829987</td>\n",
       "      <td>3344.939941</td>\n",
       "      <td>439.630005</td>\n",
       "      <td>177.130005</td>\n",
       "      <td>13.80</td>\n",
       "      <td>68.779999</td>\n",
       "      <td>157.500000</td>\n",
       "      <td>56.639999</td>\n",
       "      <td>50.720001</td>\n",
       "      <td>374.529999</td>\n",
       "      <td>289.459991</td>\n",
       "      <td>45.070000</td>\n",
       "      <td>699.099976</td>\n",
       "      <td>415.119995</td>\n",
       "      <td>57.860001</td>\n",
       "    </tr>\n",
       "    <tr>\n",
       "      <th>2021-08-09</th>\n",
       "      <td>319.519989</td>\n",
       "      <td>3341.870117</td>\n",
       "      <td>440.470001</td>\n",
       "      <td>176.720001</td>\n",
       "      <td>13.75</td>\n",
       "      <td>68.459999</td>\n",
       "      <td>157.330002</td>\n",
       "      <td>56.650002</td>\n",
       "      <td>49.709999</td>\n",
       "      <td>370.679993</td>\n",
       "      <td>288.329987</td>\n",
       "      <td>45.980000</td>\n",
       "      <td>713.760010</td>\n",
       "      <td>410.869995</td>\n",
       "      <td>57.200001</td>\n",
       "    </tr>\n",
       "    <tr>\n",
       "      <th>2021-08-10</th>\n",
       "      <td>320.179993</td>\n",
       "      <td>3320.679932</td>\n",
       "      <td>443.029999</td>\n",
       "      <td>177.070007</td>\n",
       "      <td>13.82</td>\n",
       "      <td>69.239998</td>\n",
       "      <td>159.259995</td>\n",
       "      <td>56.799999</td>\n",
       "      <td>51.110001</td>\n",
       "      <td>367.839996</td>\n",
       "      <td>286.440002</td>\n",
       "      <td>48.189999</td>\n",
       "      <td>709.989990</td>\n",
       "      <td>411.779999</td>\n",
       "      <td>58.180000</td>\n",
       "    </tr>\n",
       "    <tr>\n",
       "      <th>2021-08-11</th>\n",
       "      <td>319.790009</td>\n",
       "      <td>3292.110107</td>\n",
       "      <td>444.299988</td>\n",
       "      <td>178.089996</td>\n",
       "      <td>13.93</td>\n",
       "      <td>69.839996</td>\n",
       "      <td>161.160004</td>\n",
       "      <td>56.730000</td>\n",
       "      <td>51.840000</td>\n",
       "      <td>364.239990</td>\n",
       "      <td>286.950012</td>\n",
       "      <td>46.310001</td>\n",
       "      <td>707.820007</td>\n",
       "      <td>407.739990</td>\n",
       "      <td>58.349998</td>\n",
       "    </tr>\n",
       "  </tbody>\n",
       "</table>\n",
       "</div>"
      ],
      "text/plain": [
       "                   ACN         AMZN        COST         DIS      F       GILD  \\\n",
       "Date                                                                            \n",
       "2021-08-05  320.309998  3375.989990  443.190002  176.710007  13.71  69.300003   \n",
       "2021-08-06  321.829987  3344.939941  439.630005  177.130005  13.80  68.779999   \n",
       "2021-08-09  319.519989  3341.870117  440.470001  176.720001  13.75  68.459999   \n",
       "2021-08-10  320.179993  3320.679932  443.029999  177.070007  13.82  69.239998   \n",
       "2021-08-11  319.790009  3292.110107  444.299988  178.089996  13.93  69.839996   \n",
       "\n",
       "                   JPM         KO        LUV          MA        MSFT  \\\n",
       "Date                                                                   \n",
       "2021-08-05  153.149994  56.500000  50.450001  371.940002  289.519989   \n",
       "2021-08-06  157.500000  56.639999  50.720001  374.529999  289.459991   \n",
       "2021-08-09  157.330002  56.650002  49.709999  370.679993  288.329987   \n",
       "2021-08-10  159.259995  56.799999  51.110001  367.839996  286.440002   \n",
       "2021-08-11  161.160004  56.730000  51.840000  364.239990  286.950012   \n",
       "\n",
       "                  PFE        TSLA         UNH        XOM  \n",
       "Date                                                      \n",
       "2021-08-05  45.060001  714.630005  411.190002  57.200001  \n",
       "2021-08-06  45.070000  699.099976  415.119995  57.860001  \n",
       "2021-08-09  45.980000  713.760010  410.869995  57.200001  \n",
       "2021-08-10  48.189999  709.989990  411.779999  58.180000  \n",
       "2021-08-11  46.310001  707.820007  407.739990  58.349998  "
      ]
     },
     "execution_count": 6,
     "metadata": {},
     "output_type": "execute_result"
    }
   ],
   "source": [
    "prices = ohlc[\"Adj Close\"].dropna(how=\"all\")\n",
    "prices.tail()"
   ]
  },
  {
   "cell_type": "code",
   "execution_count": 7,
   "metadata": {},
   "outputs": [
    {
     "data": {
      "image/png": "[encoded data removed]",
      "text/plain": [
       "<Figure size 1080x720 with 1 Axes>"
      ]
     },
     "metadata": {
      "needs_background": "light"
     },
     "output_type": "display_data"
    }
   ],
   "source": [
    "prices[prices.index >= \"2008-01-01\"].plot(figsize=(15,10));"
   ]
  },
  {
   "cell_type": "markdown",
   "metadata": {},
   "source": [
    "## Calculating the covariance matrix"
   ]
  },
  {
   "cell_type": "code",
   "execution_count": 8,
   "metadata": {},
   "outputs": [
    {
     "data": {
      "text/plain": [
       "'1.4.2'"
      ]
     },
     "execution_count": 8,
     "metadata": {},
     "output_type": "execute_result"
    }
   ],
   "source": [
    "import pypfopt\n",
    "pypfopt.__version__"
   ]
  },
  {
   "cell_type": "code",
   "execution_count": 9,
   "metadata": {},
   "outputs": [
    {
     "data": {
      "text/html": [
       "<div>\n",
       "<style scoped>\n",
       "    .dataframe tbody tr th:only-of-type {\n",
       "        vertical-align: middle;\n",
       "    }\n",
       "\n",
       "    .dataframe tbody tr th {\n",
       "        vertical-align: top;\n",
       "    }\n",
       "\n",
       "    .dataframe thead th {\n",
       "        text-align: right;\n",
       "    }\n",
       "</style>\n",
       "<table border=\"1\" class=\"dataframe\">\n",
       "  <thead>\n",
       "    <tr style=\"text-align: right;\">\n",
       "      <th></th>\n",
       "      <th>ACN</th>\n",
       "      <th>AMZN</th>\n",
       "      <th>COST</th>\n",
       "      <th>DIS</th>\n",
       "      <th>F</th>\n",
       "      <th>GILD</th>\n",
       "      <th>JPM</th>\n",
       "      <th>KO</th>\n",
       "      <th>LUV</th>\n",
       "      <th>MA</th>\n",
       "      <th>MSFT</th>\n",
       "      <th>PFE</th>\n",
       "      <th>TSLA</th>\n",
       "      <th>UNH</th>\n",
       "      <th>XOM</th>\n",
       "    </tr>\n",
       "  </thead>\n",
       "  <tbody>\n",
       "    <tr>\n",
       "      <th>ACN</th>\n",
       "      <td>0.091060</td>\n",
       "      <td>0.044392</td>\n",
       "      <td>0.027086</td>\n",
       "      <td>0.040367</td>\n",
       "      <td>0.042817</td>\n",
       "      <td>0.029352</td>\n",
       "      <td>0.048828</td>\n",
       "      <td>0.020288</td>\n",
       "      <td>0.036737</td>\n",
       "      <td>0.045244</td>\n",
       "      <td>0.040216</td>\n",
       "      <td>0.025825</td>\n",
       "      <td>0.038848</td>\n",
       "      <td>0.030327</td>\n",
       "      <td>0.030862</td>\n",
       "    </tr>\n",
       "    <tr>\n",
       "      <th>AMZN</th>\n",
       "      <td>0.044392</td>\n",
       "      <td>0.337749</td>\n",
       "      <td>0.047158</td>\n",
       "      <td>0.054257</td>\n",
       "      <td>0.051620</td>\n",
       "      <td>0.060108</td>\n",
       "      <td>0.066780</td>\n",
       "      <td>0.020108</td>\n",
       "      <td>0.046994</td>\n",
       "      <td>0.055965</td>\n",
       "      <td>0.071695</td>\n",
       "      <td>0.031952</td>\n",
       "      <td>0.056012</td>\n",
       "      <td>0.034993</td>\n",
       "      <td>0.026760</td>\n",
       "    </tr>\n",
       "    <tr>\n",
       "      <th>COST</th>\n",
       "      <td>0.027086</td>\n",
       "      <td>0.047158</td>\n",
       "      <td>0.101999</td>\n",
       "      <td>0.031843</td>\n",
       "      <td>0.030927</td>\n",
       "      <td>0.027378</td>\n",
       "      <td>0.038925</td>\n",
       "      <td>0.021126</td>\n",
       "      <td>0.031442</td>\n",
       "      <td>0.032040</td>\n",
       "      <td>0.036873</td>\n",
       "      <td>0.025524</td>\n",
       "      <td>0.023280</td>\n",
       "      <td>0.027353</td>\n",
       "      <td>0.020590</td>\n",
       "    </tr>\n",
       "    <tr>\n",
       "      <th>DIS</th>\n",
       "      <td>0.040367</td>\n",
       "      <td>0.054257</td>\n",
       "      <td>0.031843</td>\n",
       "      <td>0.099512</td>\n",
       "      <td>0.040141</td>\n",
       "      <td>0.032804</td>\n",
       "      <td>0.047221</td>\n",
       "      <td>0.026273</td>\n",
       "      <td>0.038836</td>\n",
       "      <td>0.049854</td>\n",
       "      <td>0.042387</td>\n",
       "      <td>0.029745</td>\n",
       "      <td>0.035967</td>\n",
       "      <td>0.032255</td>\n",
       "      <td>0.025568</td>\n",
       "    </tr>\n",
       "    <tr>\n",
       "      <th>F</th>\n",
       "      <td>0.042817</td>\n",
       "      <td>0.051620</td>\n",
       "      <td>0.030927</td>\n",
       "      <td>0.040141</td>\n",
       "      <td>0.125292</td>\n",
       "      <td>0.030325</td>\n",
       "      <td>0.054379</td>\n",
       "      <td>0.026306</td>\n",
       "      <td>0.045656</td>\n",
       "      <td>0.062030</td>\n",
       "      <td>0.040801</td>\n",
       "      <td>0.027498</td>\n",
       "      <td>0.048873</td>\n",
       "      <td>0.029192</td>\n",
       "      <td>0.027526</td>\n",
       "    </tr>\n",
       "    <tr>\n",
       "      <th>GILD</th>\n",
       "      <td>0.029352</td>\n",
       "      <td>0.060108</td>\n",
       "      <td>0.027378</td>\n",
       "      <td>0.032804</td>\n",
       "      <td>0.030325</td>\n",
       "      <td>0.240372</td>\n",
       "      <td>0.043232</td>\n",
       "      <td>0.016766</td>\n",
       "      <td>0.031567</td>\n",
       "      <td>0.033385</td>\n",
       "      <td>0.035844</td>\n",
       "      <td>0.032915</td>\n",
       "      <td>0.033095</td>\n",
       "      <td>0.034491</td>\n",
       "      <td>0.021536</td>\n",
       "    </tr>\n",
       "    <tr>\n",
       "      <th>JPM</th>\n",
       "      <td>0.048828</td>\n",
       "      <td>0.066780</td>\n",
       "      <td>0.038925</td>\n",
       "      <td>0.047221</td>\n",
       "      <td>0.054379</td>\n",
       "      <td>0.043232</td>\n",
       "      <td>0.129574</td>\n",
       "      <td>0.027982</td>\n",
       "      <td>0.049032</td>\n",
       "      <td>0.071141</td>\n",
       "      <td>0.049628</td>\n",
       "      <td>0.033209</td>\n",
       "      <td>0.039079</td>\n",
       "      <td>0.039031</td>\n",
       "      <td>0.033248</td>\n",
       "    </tr>\n",
       "    <tr>\n",
       "      <th>KO</th>\n",
       "      <td>0.020288</td>\n",
       "      <td>0.020108</td>\n",
       "      <td>0.021126</td>\n",
       "      <td>0.026273</td>\n",
       "      <td>0.026306</td>\n",
       "      <td>0.016766</td>\n",
       "      <td>0.027982</td>\n",
       "      <td>0.053958</td>\n",
       "      <td>0.023167</td>\n",
       "      <td>0.026392</td>\n",
       "      <td>0.027945</td>\n",
       "      <td>0.026318</td>\n",
       "      <td>0.018806</td>\n",
       "      <td>0.023004</td>\n",
       "      <td>0.020846</td>\n",
       "    </tr>\n",
       "    <tr>\n",
       "      <th>LUV</th>\n",
       "      <td>0.036737</td>\n",
       "      <td>0.046994</td>\n",
       "      <td>0.031442</td>\n",
       "      <td>0.038836</td>\n",
       "      <td>0.045656</td>\n",
       "      <td>0.031567</td>\n",
       "      <td>0.049032</td>\n",
       "      <td>0.023167</td>\n",
       "      <td>0.138760</td>\n",
       "      <td>0.047595</td>\n",
       "      <td>0.036713</td>\n",
       "      <td>0.026506</td>\n",
       "      <td>0.035221</td>\n",
       "      <td>0.033008</td>\n",
       "      <td>0.023342</td>\n",
       "    </tr>\n",
       "    <tr>\n",
       "      <th>MA</th>\n",
       "      <td>0.045244</td>\n",
       "      <td>0.055965</td>\n",
       "      <td>0.032040</td>\n",
       "      <td>0.049854</td>\n",
       "      <td>0.062030</td>\n",
       "      <td>0.033385</td>\n",
       "      <td>0.071141</td>\n",
       "      <td>0.026392</td>\n",
       "      <td>0.047595</td>\n",
       "      <td>0.119357</td>\n",
       "      <td>0.049013</td>\n",
       "      <td>0.033167</td>\n",
       "      <td>0.046251</td>\n",
       "      <td>0.043818</td>\n",
       "      <td>0.042817</td>\n",
       "    </tr>\n",
       "    <tr>\n",
       "      <th>MSFT</th>\n",
       "      <td>0.040216</td>\n",
       "      <td>0.071695</td>\n",
       "      <td>0.036873</td>\n",
       "      <td>0.042387</td>\n",
       "      <td>0.040801</td>\n",
       "      <td>0.035844</td>\n",
       "      <td>0.049628</td>\n",
       "      <td>0.027945</td>\n",
       "      <td>0.036713</td>\n",
       "      <td>0.049013</td>\n",
       "      <td>0.115168</td>\n",
       "      <td>0.031015</td>\n",
       "      <td>0.046322</td>\n",
       "      <td>0.034061</td>\n",
       "      <td>0.029460</td>\n",
       "    </tr>\n",
       "    <tr>\n",
       "      <th>PFE</th>\n",
       "      <td>0.025825</td>\n",
       "      <td>0.031952</td>\n",
       "      <td>0.025524</td>\n",
       "      <td>0.029745</td>\n",
       "      <td>0.027498</td>\n",
       "      <td>0.032915</td>\n",
       "      <td>0.033209</td>\n",
       "      <td>0.026318</td>\n",
       "      <td>0.026506</td>\n",
       "      <td>0.033167</td>\n",
       "      <td>0.031015</td>\n",
       "      <td>0.075824</td>\n",
       "      <td>0.020100</td>\n",
       "      <td>0.028425</td>\n",
       "      <td>0.023361</td>\n",
       "    </tr>\n",
       "    <tr>\n",
       "      <th>TSLA</th>\n",
       "      <td>0.038848</td>\n",
       "      <td>0.056012</td>\n",
       "      <td>0.023280</td>\n",
       "      <td>0.035967</td>\n",
       "      <td>0.048873</td>\n",
       "      <td>0.033095</td>\n",
       "      <td>0.039079</td>\n",
       "      <td>0.018806</td>\n",
       "      <td>0.035221</td>\n",
       "      <td>0.046251</td>\n",
       "      <td>0.046322</td>\n",
       "      <td>0.020100</td>\n",
       "      <td>0.317437</td>\n",
       "      <td>0.031084</td>\n",
       "      <td>0.029399</td>\n",
       "    </tr>\n",
       "    <tr>\n",
       "      <th>UNH</th>\n",
       "      <td>0.030327</td>\n",
       "      <td>0.034993</td>\n",
       "      <td>0.027353</td>\n",
       "      <td>0.032255</td>\n",
       "      <td>0.029192</td>\n",
       "      <td>0.034491</td>\n",
       "      <td>0.039031</td>\n",
       "      <td>0.023004</td>\n",
       "      <td>0.033008</td>\n",
       "      <td>0.043818</td>\n",
       "      <td>0.034061</td>\n",
       "      <td>0.028425</td>\n",
       "      <td>0.031084</td>\n",
       "      <td>0.165273</td>\n",
       "      <td>0.022554</td>\n",
       "    </tr>\n",
       "    <tr>\n",
       "      <th>XOM</th>\n",
       "      <td>0.030862</td>\n",
       "      <td>0.026760</td>\n",
       "      <td>0.020590</td>\n",
       "      <td>0.025568</td>\n",
       "      <td>0.027526</td>\n",
       "      <td>0.021536</td>\n",
       "      <td>0.033248</td>\n",
       "      <td>0.020846</td>\n",
       "      <td>0.023342</td>\n",
       "      <td>0.042817</td>\n",
       "      <td>0.029460</td>\n",
       "      <td>0.023361</td>\n",
       "      <td>0.029399</td>\n",
       "      <td>0.022554</td>\n",
       "      <td>0.051425</td>\n",
       "    </tr>\n",
       "  </tbody>\n",
       "</table>\n",
       "</div>"
      ],
      "text/plain": [
       "           ACN      AMZN      COST       DIS         F      GILD       JPM  \\\n",
       "ACN   0.091060  0.044392  0.027086  0.040367  0.042817  0.029352  0.048828   \n",
       "AMZN  0.044392  0.337749  0.047158  0.054257  0.051620  0.060108  0.066780   \n",
       "COST  0.027086  0.047158  0.101999  0.031843  0.030927  0.027378  0.038925   \n",
       "DIS   0.040367  0.054257  0.031843  0.099512  0.040141  0.032804  0.047221   \n",
       "F     0.042817  0.051620  0.030927  0.040141  0.125292  0.030325  0.054379   \n",
       "GILD  0.029352  0.060108  0.027378  0.032804  0.030325  0.240372  0.043232   \n",
       "JPM   0.048828  0.066780  0.038925  0.047221  0.054379  0.043232  0.129574   \n",
       "KO    0.020288  0.020108  0.021126  0.026273  0.026306  0.016766  0.027982   \n",
       "LUV   0.036737  0.046994  0.031442  0.038836  0.045656  0.031567  0.049032   \n",
       "MA    0.045244  0.055965  0.032040  0.049854  0.062030  0.033385  0.071141   \n",
       "MSFT  0.040216  0.071695  0.036873  0.042387  0.040801  0.035844  0.049628   \n",
       "PFE   0.025825  0.031952  0.025524  0.029745  0.027498  0.032915  0.033209   \n",
       "TSLA  0.038848  0.056012  0.023280  0.035967  0.048873  0.033095  0.039079   \n",
       "UNH   0.030327  0.034993  0.027353  0.032255  0.029192  0.034491  0.039031   \n",
       "XOM   0.030862  0.026760  0.020590  0.025568  0.027526  0.021536  0.033248   \n",
       "\n",
       "            KO       LUV        MA      MSFT       PFE      TSLA       UNH  \\\n",
       "ACN   0.020288  0.036737  0.045244  0.040216  0.025825  0.038848  0.030327   \n",
       "AMZN  0.020108  0.046994  0.055965  0.071695  0.031952  0.056012  0.034993   \n",
       "COST  0.021126  0.031442  0.032040  0.036873  0.025524  0.023280  0.027353   \n",
       "DIS   0.026273  0.038836  0.049854  0.042387  0.029745  0.035967  0.032255   \n",
       "F     0.026306  0.045656  0.062030  0.040801  0.027498  0.048873  0.029192   \n",
       "GILD  0.016766  0.031567  0.033385  0.035844  0.032915  0.033095  0.034491   \n",
       "JPM   0.027982  0.049032  0.071141  0.049628  0.033209  0.039079  0.039031   \n",
       "KO    0.053958  0.023167  0.026392  0.027945  0.026318  0.018806  0.023004   \n",
       "LUV   0.023167  0.138760  0.047595  0.036713  0.026506  0.035221  0.033008   \n",
       "MA    0.026392  0.047595  0.119357  0.049013  0.033167  0.046251  0.043818   \n",
       "MSFT  0.027945  0.036713  0.049013  0.115168  0.031015  0.046322  0.034061   \n",
       "PFE   0.026318  0.026506  0.033167  0.031015  0.075824  0.020100  0.028425   \n",
       "TSLA  0.018806  0.035221  0.046251  0.046322  0.020100  0.317437  0.031084   \n",
       "UNH   0.023004  0.033008  0.043818  0.034061  0.028425  0.031084  0.165273   \n",
       "XOM   0.020846  0.023342  0.042817  0.029460  0.023361  0.029399  0.022554   \n",
       "\n",
       "           XOM  \n",
       "ACN   0.030862  \n",
       "AMZN  0.026760  \n",
       "COST  0.020590  \n",
       "DIS   0.025568  \n",
       "F     0.027526  \n",
       "GILD  0.021536  \n",
       "JPM   0.033248  \n",
       "KO    0.020846  \n",
       "LUV   0.023342  \n",
       "MA    0.042817  \n",
       "MSFT  0.029460  \n",
       "PFE   0.023361  \n",
       "TSLA  0.029399  \n",
       "UNH   0.022554  \n",
       "XOM   0.051425  "
      ]
     },
     "execution_count": 9,
     "metadata": {},
     "output_type": "execute_result"
    }
   ],
   "source": [
    "from pypfopt import risk_models\n",
    "from pypfopt import plotting\n",
    "\n",
    "sample_cov = risk_models.sample_cov(prices, frequency=252)\n",
    "sample_cov"
   ]
  },
  {
   "cell_type": "code",
   "execution_count": 10,
   "metadata": {},
   "outputs": [
    {
     "data": {
      "image/png": "[encoded data removed]",
      "text/plain": [
       "<Figure size 432x288 with 2 Axes>"
      ]
     },
     "metadata": {
      "needs_background": "light"
     },
     "output_type": "display_data"
    }
   ],
   "source": [
    "plotting.plot_covariance(sample_cov, plot_correlation=True);"
   ]
  },
  {
   "cell_type": "markdown",
   "metadata": {},
   "source": [
    "For reasons discussed in the docs, the sample covariance matrix should not be your default choice. I think a better option is Ledoit-Wolf shrinkage, which reduces the extreme values in the covariance matrix. In the image below, we can see that there are fewer bright spots outside the diagonal:"
   ]
  },
  {
   "cell_type": "code",
   "execution_count": 11,
   "metadata": {},
   "outputs": [
    {
     "data": {
      "image/png": "[encoded data removed]",
      "text/plain": [
       "<Figure size 432x288 with 2 Axes>"
      ]
     },
     "metadata": {
      "needs_background": "light"
     },
     "output_type": "display_data"
    }
   ],
   "source": [
    "S = risk_models.CovarianceShrinkage(prices).ledoit_wolf()\n",
    "plotting.plot_covariance(S, plot_correlation=True);"
   ]
  },
  {
   "cell_type": "markdown",
   "metadata": {},
   "source": [
    "## Return estimation\n",
    "\n",
    "As discussed in the docs, it is often a bad idea to provide returns using a simple estimate like the mean of past returns. Unless you have a proprietary method for estimating returns, research suggests that you may be better off not providing expected returns – you can then just find the `min_volatility()` portfolio or use `HRP`. \n",
    "\n",
    "However, in this example we will use the CAPM returns, which aims to be slightly more stable than the default mean historical return. Please see the notebook `1-RiskReturnModels.ipynb` for more information."
   ]
  },
  {
   "cell_type": "code",
   "execution_count": 12,
   "metadata": {},
   "outputs": [
    {
     "data": {
      "text/plain": [
       "ACN     0.210417\n",
       "AMZN    0.361630\n",
       "COST    0.196484\n",
       "DIS     0.225874\n",
       "F       0.225677\n",
       "GILD    0.260134\n",
       "JPM     0.255495\n",
       "KO      0.150097\n",
       "LUV     0.229621\n",
       "MA      0.265298\n",
       "MSFT    0.241390\n",
       "PFE     0.181130\n",
       "TSLA    0.281504\n",
       "UNH     0.223954\n",
       "XOM     0.142838\n",
       "Name: mkt, dtype: float64"
      ]
     },
     "execution_count": 12,
     "metadata": {},
     "output_type": "execute_result"
    }
   ],
   "source": [
    "from pypfopt import expected_returns\n",
    "\n",
    "mu = expected_returns.capm_return(prices)\n",
    "mu"
   ]
  },
  {
   "cell_type": "code",
   "execution_count": 13,
   "metadata": {},
   "outputs": [
    {
     "data": {
      "image/png": "[encoded data removed]",
      "text/plain": [
       "<Figure size 720x432 with 1 Axes>"
      ]
     },
     "metadata": {
      "needs_background": "light"
     },
     "output_type": "display_data"
    }
   ],
   "source": [
    "mu.plot.barh(figsize=(10,6));"
   ]
  },
  {
   "cell_type": "markdown",
   "metadata": {},
   "source": [
    "## Long/short min variance\n",
    "\n",
    "In this section, we construct a long/short portfolio with the objective of minimising variance. There is a good deal of research that demonstrates that these global-minimum variance (GMV) portfolios outperform mean-variance optimized portfolios."
   ]
  },
  {
   "cell_type": "code",
   "execution_count": 14,
   "metadata": {},
   "outputs": [],
   "source": [
    "from pypfopt import EfficientFrontier"
   ]
  },
  {
   "cell_type": "code",
   "execution_count": 15,
   "metadata": {},
   "outputs": [
    {
     "data": {
      "text/plain": [
       "OrderedDict([('ACN', 0.23451),\n",
       "             ('AMZN', 0.00859),\n",
       "             ('COST', 0.09893),\n",
       "             ('DIS', -0.01615),\n",
       "             ('F', -0.01648),\n",
       "             ('GILD', 0.04247),\n",
       "             ('JPM', -0.05082),\n",
       "             ('KO', 0.12327),\n",
       "             ('LUV', 0.02378),\n",
       "             ('MA', 0.23654),\n",
       "             ('MSFT', 0.0024),\n",
       "             ('PFE', 0.0634),\n",
       "             ('TSLA', 0.1452),\n",
       "             ('UNH', 0.03058),\n",
       "             ('XOM', 0.07378)])"
      ]
     },
     "execution_count": 15,
     "metadata": {},
     "output_type": "execute_result"
    }
   ],
   "source": [
    "S = risk_models.CovarianceShrinkage(prices).ledoit_wolf()\n",
    "\n",
    "# You don't have to provide expected returns in this case\n",
    "ef = EfficientFrontier(None, S, weight_bounds=(None, None))\n",
    "ef.min_volatility()\n",
    "weights = ef.clean_weights()\n",
    "weights"
   ]
  },
  {
   "cell_type": "code",
   "execution_count": 16,
   "metadata": {},
   "outputs": [
    {
     "data": {
      "image/png": "[encoded data removed]",
      "text/plain": [
       "<Figure size 432x288 with 1 Axes>"
      ]
     },
     "metadata": {
      "needs_background": "light"
     },
     "output_type": "display_data"
    }
   ],
   "source": [
    "pd.Series(weights).plot.barh();"
   ]
  },
  {
   "cell_type": "markdown",
   "metadata": {},
   "source": [
    "We can get a quick indication of the portfolio performance as follows. Note that this is an in sample estimate and may have very little resemblance to how the portfolio actually performs!"
   ]
  },
  {
   "cell_type": "code",
   "execution_count": 17,
   "metadata": {},
   "outputs": [
    {
     "name": "stdout",
     "output_type": "stream",
     "text": [
      "Annual volatility: 11.8%\n"
     ]
    }
   ],
   "source": [
    "ef.portfolio_performance(verbose=True);"
   ]
  },
  {
   "cell_type": "code",
   "execution_count": 18,
   "metadata": {},
   "outputs": [
    {
     "data": {
      "text/html": [
       "<div>\n",
       "<style scoped>\n",
       "    .dataframe tbody tr th:only-of-type {\n",
       "        vertical-align: middle;\n",
       "    }\n",
       "\n",
       "    .dataframe tbody tr th {\n",
       "        vertical-align: top;\n",
       "    }\n",
       "\n",
       "    .dataframe thead th {\n",
       "        text-align: right;\n",
       "    }\n",
       "</style>\n",
       "<table border=\"1\" class=\"dataframe\">\n",
       "  <thead>\n",
       "    <tr style=\"text-align: right;\">\n",
       "      <th></th>\n",
       "      <th>ACN</th>\n",
       "      <th>AMZN</th>\n",
       "      <th>COST</th>\n",
       "      <th>DIS</th>\n",
       "      <th>F</th>\n",
       "      <th>GILD</th>\n",
       "      <th>JPM</th>\n",
       "      <th>KO</th>\n",
       "      <th>LUV</th>\n",
       "      <th>MA</th>\n",
       "      <th>MSFT</th>\n",
       "      <th>PFE</th>\n",
       "      <th>TSLA</th>\n",
       "      <th>UNH</th>\n",
       "      <th>XOM</th>\n",
       "    </tr>\n",
       "    <tr>\n",
       "      <th>Date</th>\n",
       "      <th></th>\n",
       "      <th></th>\n",
       "      <th></th>\n",
       "      <th></th>\n",
       "      <th></th>\n",
       "      <th></th>\n",
       "      <th></th>\n",
       "      <th></th>\n",
       "      <th></th>\n",
       "      <th></th>\n",
       "      <th></th>\n",
       "      <th></th>\n",
       "      <th></th>\n",
       "      <th></th>\n",
       "      <th></th>\n",
       "    </tr>\n",
       "  </thead>\n",
       "  <tbody>\n",
       "    <tr>\n",
       "      <th>1962-01-02</th>\n",
       "      <td>NaN</td>\n",
       "      <td>NaN</td>\n",
       "      <td>NaN</td>\n",
       "      <td>0.058398</td>\n",
       "      <td>NaN</td>\n",
       "      <td>NaN</td>\n",
       "      <td>NaN</td>\n",
       "      <td>0.051918</td>\n",
       "      <td>NaN</td>\n",
       "      <td>NaN</td>\n",
       "      <td>NaN</td>\n",
       "      <td>NaN</td>\n",
       "      <td>NaN</td>\n",
       "      <td>NaN</td>\n",
       "      <td>0.105947</td>\n",
       "    </tr>\n",
       "    <tr>\n",
       "      <th>1962-01-03</th>\n",
       "      <td>NaN</td>\n",
       "      <td>NaN</td>\n",
       "      <td>NaN</td>\n",
       "      <td>0.059182</td>\n",
       "      <td>NaN</td>\n",
       "      <td>NaN</td>\n",
       "      <td>NaN</td>\n",
       "      <td>0.050762</td>\n",
       "      <td>NaN</td>\n",
       "      <td>NaN</td>\n",
       "      <td>NaN</td>\n",
       "      <td>NaN</td>\n",
       "      <td>NaN</td>\n",
       "      <td>NaN</td>\n",
       "      <td>0.107521</td>\n",
       "    </tr>\n",
       "    <tr>\n",
       "      <th>1962-01-04</th>\n",
       "      <td>NaN</td>\n",
       "      <td>NaN</td>\n",
       "      <td>NaN</td>\n",
       "      <td>0.059182</td>\n",
       "      <td>NaN</td>\n",
       "      <td>NaN</td>\n",
       "      <td>NaN</td>\n",
       "      <td>0.051147</td>\n",
       "      <td>NaN</td>\n",
       "      <td>NaN</td>\n",
       "      <td>NaN</td>\n",
       "      <td>NaN</td>\n",
       "      <td>NaN</td>\n",
       "      <td>NaN</td>\n",
       "      <td>0.107783</td>\n",
       "    </tr>\n",
       "    <tr>\n",
       "      <th>1962-01-05</th>\n",
       "      <td>NaN</td>\n",
       "      <td>NaN</td>\n",
       "      <td>NaN</td>\n",
       "      <td>0.059378</td>\n",
       "      <td>NaN</td>\n",
       "      <td>NaN</td>\n",
       "      <td>NaN</td>\n",
       "      <td>0.049991</td>\n",
       "      <td>NaN</td>\n",
       "      <td>NaN</td>\n",
       "      <td>NaN</td>\n",
       "      <td>NaN</td>\n",
       "      <td>NaN</td>\n",
       "      <td>NaN</td>\n",
       "      <td>0.105423</td>\n",
       "    </tr>\n",
       "    <tr>\n",
       "      <th>1962-01-08</th>\n",
       "      <td>NaN</td>\n",
       "      <td>NaN</td>\n",
       "      <td>NaN</td>\n",
       "      <td>0.059182</td>\n",
       "      <td>NaN</td>\n",
       "      <td>NaN</td>\n",
       "      <td>NaN</td>\n",
       "      <td>0.049477</td>\n",
       "      <td>NaN</td>\n",
       "      <td>NaN</td>\n",
       "      <td>NaN</td>\n",
       "      <td>NaN</td>\n",
       "      <td>NaN</td>\n",
       "      <td>NaN</td>\n",
       "      <td>0.105161</td>\n",
       "    </tr>\n",
       "    <tr>\n",
       "      <th>...</th>\n",
       "      <td>...</td>\n",
       "      <td>...</td>\n",
       "      <td>...</td>\n",
       "      <td>...</td>\n",
       "      <td>...</td>\n",
       "      <td>...</td>\n",
       "      <td>...</td>\n",
       "      <td>...</td>\n",
       "      <td>...</td>\n",
       "      <td>...</td>\n",
       "      <td>...</td>\n",
       "      <td>...</td>\n",
       "      <td>...</td>\n",
       "      <td>...</td>\n",
       "      <td>...</td>\n",
       "    </tr>\n",
       "    <tr>\n",
       "      <th>2021-08-05</th>\n",
       "      <td>320.309998</td>\n",
       "      <td>3375.989990</td>\n",
       "      <td>443.190002</td>\n",
       "      <td>176.710007</td>\n",
       "      <td>13.71</td>\n",
       "      <td>69.300003</td>\n",
       "      <td>153.149994</td>\n",
       "      <td>56.500000</td>\n",
       "      <td>50.450001</td>\n",
       "      <td>371.940002</td>\n",
       "      <td>289.519989</td>\n",
       "      <td>45.060001</td>\n",
       "      <td>714.630005</td>\n",
       "      <td>411.190002</td>\n",
       "      <td>57.200001</td>\n",
       "    </tr>\n",
       "    <tr>\n",
       "      <th>2021-08-06</th>\n",
       "      <td>321.829987</td>\n",
       "      <td>3344.939941</td>\n",
       "      <td>439.630005</td>\n",
       "      <td>177.130005</td>\n",
       "      <td>13.80</td>\n",
       "      <td>68.779999</td>\n",
       "      <td>157.500000</td>\n",
       "      <td>56.639999</td>\n",
       "      <td>50.720001</td>\n",
       "      <td>374.529999</td>\n",
       "      <td>289.459991</td>\n",
       "      <td>45.070000</td>\n",
       "      <td>699.099976</td>\n",
       "      <td>415.119995</td>\n",
       "      <td>57.860001</td>\n",
       "    </tr>\n",
       "    <tr>\n",
       "      <th>2021-08-09</th>\n",
       "      <td>319.519989</td>\n",
       "      <td>3341.870117</td>\n",
       "      <td>440.470001</td>\n",
       "      <td>176.720001</td>\n",
       "      <td>13.75</td>\n",
       "      <td>68.459999</td>\n",
       "      <td>157.330002</td>\n",
       "      <td>56.650002</td>\n",
       "      <td>49.709999</td>\n",
       "      <td>370.679993</td>\n",
       "      <td>288.329987</td>\n",
       "      <td>45.980000</td>\n",
       "      <td>713.760010</td>\n",
       "      <td>410.869995</td>\n",
       "      <td>57.200001</td>\n",
       "    </tr>\n",
       "    <tr>\n",
       "      <th>2021-08-10</th>\n",
       "      <td>320.179993</td>\n",
       "      <td>3320.679932</td>\n",
       "      <td>443.029999</td>\n",
       "      <td>177.070007</td>\n",
       "      <td>13.82</td>\n",
       "      <td>69.239998</td>\n",
       "      <td>159.259995</td>\n",
       "      <td>56.799999</td>\n",
       "      <td>51.110001</td>\n",
       "      <td>367.839996</td>\n",
       "      <td>286.440002</td>\n",
       "      <td>48.189999</td>\n",
       "      <td>709.989990</td>\n",
       "      <td>411.779999</td>\n",
       "      <td>58.180000</td>\n",
       "    </tr>\n",
       "    <tr>\n",
       "      <th>2021-08-11</th>\n",
       "      <td>319.790009</td>\n",
       "      <td>3292.110107</td>\n",
       "      <td>444.299988</td>\n",
       "      <td>178.089996</td>\n",
       "      <td>13.93</td>\n",
       "      <td>69.839996</td>\n",
       "      <td>161.160004</td>\n",
       "      <td>56.730000</td>\n",
       "      <td>51.840000</td>\n",
       "      <td>364.239990</td>\n",
       "      <td>286.950012</td>\n",
       "      <td>46.310001</td>\n",
       "      <td>707.820007</td>\n",
       "      <td>407.739990</td>\n",
       "      <td>58.349998</td>\n",
       "    </tr>\n",
       "  </tbody>\n",
       "</table>\n",
       "<p>15006 rows × 15 columns</p>\n",
       "</div>"
      ],
      "text/plain": [
       "                   ACN         AMZN        COST         DIS      F       GILD  \\\n",
       "Date                                                                            \n",
       "1962-01-02         NaN          NaN         NaN    0.058398    NaN        NaN   \n",
       "1962-01-03         NaN          NaN         NaN    0.059182    NaN        NaN   \n",
       "1962-01-04         NaN          NaN         NaN    0.059182    NaN        NaN   \n",
       "1962-01-05         NaN          NaN         NaN    0.059378    NaN        NaN   \n",
       "1962-01-08         NaN          NaN         NaN    0.059182    NaN        NaN   \n",
       "...                ...          ...         ...         ...    ...        ...   \n",
       "2021-08-05  320.309998  3375.989990  443.190002  176.710007  13.71  69.300003   \n",
       "2021-08-06  321.829987  3344.939941  439.630005  177.130005  13.80  68.779999   \n",
       "2021-08-09  319.519989  3341.870117  440.470001  176.720001  13.75  68.459999   \n",
       "2021-08-10  320.179993  3320.679932  443.029999  177.070007  13.82  69.239998   \n",
       "2021-08-11  319.790009  3292.110107  444.299988  178.089996  13.93  69.839996   \n",
       "\n",
       "                   JPM         KO        LUV          MA        MSFT  \\\n",
       "Date                                                                   \n",
       "1962-01-02         NaN   0.051918        NaN         NaN         NaN   \n",
       "1962-01-03         NaN   0.050762        NaN         NaN         NaN   \n",
       "1962-01-04         NaN   0.051147        NaN         NaN         NaN   \n",
       "1962-01-05         NaN   0.049991        NaN         NaN         NaN   \n",
       "1962-01-08         NaN   0.049477        NaN         NaN         NaN   \n",
       "...                ...        ...        ...         ...         ...   \n",
       "2021-08-05  153.149994  56.500000  50.450001  371.940002  289.519989   \n",
       "2021-08-06  157.500000  56.639999  50.720001  374.529999  289.459991   \n",
       "2021-08-09  157.330002  56.650002  49.709999  370.679993  288.329987   \n",
       "2021-08-10  159.259995  56.799999  51.110001  367.839996  286.440002   \n",
       "2021-08-11  161.160004  56.730000  51.840000  364.239990  286.950012   \n",
       "\n",
       "                  PFE        TSLA         UNH        XOM  \n",
       "Date                                                      \n",
       "1962-01-02        NaN         NaN         NaN   0.105947  \n",
       "1962-01-03        NaN         NaN         NaN   0.107521  \n",
       "1962-01-04        NaN         NaN         NaN   0.107783  \n",
       "1962-01-05        NaN         NaN         NaN   0.105423  \n",
       "1962-01-08        NaN         NaN         NaN   0.105161  \n",
       "...               ...         ...         ...        ...  \n",
       "2021-08-05  45.060001  714.630005  411.190002  57.200001  \n",
       "2021-08-06  45.070000  699.099976  415.119995  57.860001  \n",
       "2021-08-09  45.980000  713.760010  410.869995  57.200001  \n",
       "2021-08-10  48.189999  709.989990  411.779999  58.180000  \n",
       "2021-08-11  46.310001  707.820007  407.739990  58.349998  \n",
       "\n",
       "[15006 rows x 15 columns]"
      ]
     },
     "execution_count": 18,
     "metadata": {},
     "output_type": "execute_result"
    }
   ],
   "source": [
    "prices"
   ]
  },
  {
   "cell_type": "markdown",
   "metadata": {},
   "source": [
    "Let's say we were happy with this portfolio and wanted to actually go out and buy the shares.  To do this, we would need to construct a **discrete allocation** (unless your broker supports fractional shares!)\n",
    "\n",
    "If we had \\$20,0000 to invest and would like our portfolio to be 130/30 long/short, we can construct the actual allocation as follows:"
   ]
  },
  {
   "cell_type": "code",
   "execution_count": 19,
   "metadata": {},
   "outputs": [
    {
     "name": "stdout",
     "output_type": "stream",
     "text": [
      "Long-step dual simplex will be used\n",
      "Discrete allocation performed with $30.65 leftoverLong-step dual simplex will be used\n",
      "\n"
     ]
    },
    {
     "data": {
      "text/plain": [
       "{'ACN': 14,\n",
       " 'COST': 4,\n",
       " 'GILD': 12,\n",
       " 'KO': 40,\n",
       " 'LUV': 9,\n",
       " 'MA': 12,\n",
       " 'PFE': 25,\n",
       " 'TSLA': 4,\n",
       " 'UNH': 1,\n",
       " 'XOM': 24,\n",
       " 'DIS': -6,\n",
       " 'F': -86,\n",
       " 'JPM': -23}"
      ]
     },
     "execution_count": 19,
     "metadata": {},
     "output_type": "execute_result"
    }
   ],
   "source": [
    "from pypfopt import DiscreteAllocation\n",
    "\n",
    "latest_prices = prices.iloc[-1]  # prices as of the day you are allocating\n",
    "da = DiscreteAllocation(weights, latest_prices, total_portfolio_value=20000, short_ratio=0.3)\n",
    "alloc, leftover = da.lp_portfolio()\n",
    "print(f\"Discrete allocation performed with ${leftover:.2f} leftover\")\n",
    "alloc"
   ]
  },
  {
   "cell_type": "markdown",
   "metadata": {},
   "source": [
    "## Max Sharpe with sector constraints\n",
    "\n",
    "If you have your own model for returns (or have read the warnings and want to proceed anyways), you may consider maximising the Sharpe ratio. This theoretically gives the optimal portfolio in terms of risks-returns.\n",
    "\n",
    "In this section, we construct a long-only max-sharpe portfolio, but also incorporate sector constraints. Sector constraints require three things. A `sector_mapper`, your `sector_lower` bounds, and your `sector_upper` bounds."
   ]
  },
  {
   "cell_type": "code",
   "execution_count": 20,
   "metadata": {},
   "outputs": [],
   "source": [
    "sector_mapper = {\n",
    "    \"MSFT\": \"Tech\",\n",
    "    \"AMZN\": \"Consumer Discretionary\",\n",
    "    \"KO\": \"Consumer Staples\",\n",
    "    \"MA\": \"Financial Services\",\n",
    "    \"COST\": \"Consumer Staples\",\n",
    "    \"LUV\": \"Aerospace\",\n",
    "    \"XOM\": \"Energy\",\n",
    "    \"PFE\": \"Healthcare\",\n",
    "    \"JPM\": \"Financial Services\",\n",
    "    \"UNH\": \"Healthcare\",\n",
    "    \"ACN\": \"Misc\",\n",
    "    \"DIS\": \"Media\",\n",
    "    \"GILD\": \"Healthcare\",\n",
    "    \"F\": \"Auto\",\n",
    "    \"TSLA\": \"Auto\"\n",
    "}\n",
    "\n",
    "sector_lower = {\n",
    "    \"Consumer Staples\": 0.1, # at least 10% to staples\n",
    "    \"Tech\": 0.05 # at least 5% to tech\n",
    "    # For all other sectors, it will be assumed there is no lower bound\n",
    "}\n",
    "\n",
    "sector_upper = {\n",
    "    \"Tech\": 0.2,\n",
    "    \"Aerospace\":0.1,\n",
    "    \"Energy\": 0.1,\n",
    "    \"Auto\":0.15\n",
    "}"
   ]
  },
  {
   "cell_type": "markdown",
   "metadata": {},
   "source": [
    "We then set up the optimizer and add our constraints. We can use `ef.add_objective()` to add other constraints. For example, let's say that in addition to the above sector constraints, I specifically want:\n",
    "\n",
    "- 10% of the portfolio in AMZN\n",
    "- Less than 5% of my portfolio in TSLA"
   ]
  },
  {
   "cell_type": "code",
   "execution_count": 21,
   "metadata": {},
   "outputs": [],
   "source": [
    "mu = expected_returns.capm_return(prices)\n",
    "S = risk_models.CovarianceShrinkage(prices).ledoit_wolf()\n",
    "\n",
    "ef = EfficientFrontier(mu, S)  # weight_bounds automatically set to (0, 1)\n",
    "ef.add_sector_constraints(sector_mapper, sector_lower, sector_upper)\n",
    "\n",
    "amzn_index = ef.tickers.index(\"AMZN\")\n",
    "ef.add_constraint(lambda w: w[amzn_index] == 0.10)\n",
    "\n",
    "tsla_index = ef.tickers.index(\"TSLA\")\n",
    "ef.add_constraint(lambda w: w[tsla_index] <= 0.05)\n",
    "\n",
    "ef.add_constraint(lambda w: w[10] >= 0.05)\n",
    "\n",
    "ef.max_sharpe()\n",
    "weights = ef.clean_weights()"
   ]
  },
  {
   "cell_type": "code",
   "execution_count": 22,
   "metadata": {},
   "outputs": [
    {
     "data": {
      "text/plain": [
       "OrderedDict([('ACN', 0.16998),\n",
       "             ('AMZN', 0.1),\n",
       "             ('COST', 0.05584),\n",
       "             ('DIS', 0.0),\n",
       "             ('F', 0.0),\n",
       "             ('GILD', 0.06091),\n",
       "             ('JPM', 0.0),\n",
       "             ('KO', 0.04416),\n",
       "             ('LUV', 0.02109),\n",
       "             ('MA', 0.39318),\n",
       "             ('MSFT', 0.05),\n",
       "             ('PFE', 0.02219),\n",
       "             ('TSLA', 0.05),\n",
       "             ('UNH', 0.03266),\n",
       "             ('XOM', 0.0)])"
      ]
     },
     "execution_count": 22,
     "metadata": {},
     "output_type": "execute_result"
    }
   ],
   "source": [
    "weights"
   ]
  },
  {
   "cell_type": "code",
   "execution_count": 23,
   "metadata": {},
   "outputs": [
    {
     "data": {
      "image/png": "[encoded data removed]",
      "text/plain": [
       "<Figure size 720x720 with 1 Axes>"
      ]
     },
     "metadata": {},
     "output_type": "display_data"
    }
   ],
   "source": [
    "pd.Series(weights).plot.pie(figsize=(10,10));"
   ]
  },
  {
   "cell_type": "markdown",
   "metadata": {},
   "source": [
    "We can immediately see that our explicit constraints were satisfied, and can check all the sector constraints as follows:\n"
   ]
  },
  {
   "cell_type": "code",
   "execution_count": 24,
   "metadata": {},
   "outputs": [
    {
     "name": "stdout",
     "output_type": "stream",
     "text": [
      "Auto: 0.050\n",
      "Media: 0.000\n",
      "Energy: 0.000\n",
      "Consumer Discretionary: 0.100\n",
      "Healthcare: 0.116\n",
      "Misc: 0.170\n",
      "Financial Services: 0.393\n",
      "Consumer Staples: 0.100\n",
      "Tech: 0.050\n",
      "Aerospace: 0.021\n"
     ]
    }
   ],
   "source": [
    "# O(N^2) loop not a good idea in a coding interview :)\n",
    "for sector in set(sector_mapper.values()):\n",
    "    total_weight = 0\n",
    "    for t,w in weights.items():\n",
    "        if sector_mapper[t] == sector:\n",
    "            total_weight += w\n",
    "    print(f\"{sector}: {total_weight:.3f}\")"
   ]
  },
  {
   "cell_type": "markdown",
   "metadata": {},
   "source": [
    "## Maximise return for a given risk, with L2 regularisation\n",
    "\n",
    "Let's imagine that we've put a lot of thought into our risk tolerance, and have decided that we can't accept anything more than 15% volatility. We can use PyPortfolioOpt to construct a portfolio that maximises return for a given risk (with the same caveats about expected returns)."
   ]
  },
  {
   "cell_type": "code",
   "execution_count": 25,
   "metadata": {},
   "outputs": [
    {
     "data": {
      "text/plain": [
       "OrderedDict([('ACN', 0.0),\n",
       "             ('AMZN', 0.19308),\n",
       "             ('COST', 0.1),\n",
       "             ('DIS', 0.0),\n",
       "             ('F', 0.0),\n",
       "             ('GILD', 0.05957),\n",
       "             ('JPM', 0.0),\n",
       "             ('KO', 0.0),\n",
       "             ('LUV', 0.0),\n",
       "             ('MA', 0.44735),\n",
       "             ('MSFT', 0.05),\n",
       "             ('PFE', 0.0),\n",
       "             ('TSLA', 0.15),\n",
       "             ('UNH', 0.0),\n",
       "             ('XOM', 0.0)])"
      ]
     },
     "execution_count": 25,
     "metadata": {},
     "output_type": "execute_result"
    }
   ],
   "source": [
    "ef = EfficientFrontier(mu, S)\n",
    "ef.add_sector_constraints(sector_mapper, sector_lower, sector_upper)\n",
    "ef.efficient_risk(target_volatility=0.15)\n",
    "weights = ef.clean_weights()\n",
    "weights"
   ]
  },
  {
   "cell_type": "code",
   "execution_count": 26,
   "metadata": {},
   "outputs": [
    {
     "name": "stdout",
     "output_type": "stream",
     "text": [
      "9/15 tickers have zero weight\n"
     ]
    }
   ],
   "source": [
    "num_small = len([k for k in weights if weights[k] <= 1e-4])\n",
    "print(f\"{num_small}/{len(ef.tickers)} tickers have zero weight\")"
   ]
  },
  {
   "cell_type": "code",
   "execution_count": 27,
   "metadata": {},
   "outputs": [
    {
     "name": "stdout",
     "output_type": "stream",
     "text": [
      "Expected annual return: 27.8%\n",
      "Annual volatility: 15.0%\n",
      "Sharpe Ratio: 1.72\n"
     ]
    }
   ],
   "source": [
    "ef.portfolio_performance(verbose=True);"
   ]
  },
  {
   "cell_type": "markdown",
   "metadata": {},
   "source": [
    "While this portfolio seems like it meets our objectives, we might be worried by the fact that a lot of the tickers have been assigned zero weight. In effect, the optimizer is \"overfitting\" to the data you have provided -- you are much more likely to get better results by enforcing some level of diversification. One way of doing this is to use **L2 regularisation** – essentially, adding a penalty on the number of near-zero weights."
   ]
  },
  {
   "cell_type": "code",
   "execution_count": 28,
   "metadata": {},
   "outputs": [
    {
     "data": {
      "text/plain": [
       "OrderedDict([('ACN', 0.04508),\n",
       "             ('AMZN', 0.2077),\n",
       "             ('COST', 0.08946),\n",
       "             ('DIS', 0.01182),\n",
       "             ('F', 0.0),\n",
       "             ('GILD', 0.08381),\n",
       "             ('JPM', 0.04538),\n",
       "             ('KO', 0.01054),\n",
       "             ('LUV', 0.02881),\n",
       "             ('MA', 0.24404),\n",
       "             ('MSFT', 0.05),\n",
       "             ('PFE', 0.0),\n",
       "             ('TSLA', 0.15),\n",
       "             ('UNH', 0.03336),\n",
       "             ('XOM', 0.0)])"
      ]
     },
     "execution_count": 28,
     "metadata": {},
     "output_type": "execute_result"
    }
   ],
   "source": [
    "from pypfopt import objective_functions\n",
    "\n",
    "# You must always create a new efficient frontier object\n",
    "ef = EfficientFrontier(mu, S)\n",
    "ef.add_sector_constraints(sector_mapper, sector_lower, sector_upper)\n",
    "ef.add_objective(objective_functions.L2_reg, gamma=0.1)  # gamme is the tuning parameter\n",
    "ef.efficient_risk(0.15)\n",
    "weights = ef.clean_weights()\n",
    "weights"
   ]
  },
  {
   "cell_type": "code",
   "execution_count": 29,
   "metadata": {},
   "outputs": [
    {
     "name": "stdout",
     "output_type": "stream",
     "text": [
      "3/15 tickers have zero weight\n"
     ]
    }
   ],
   "source": [
    "num_small = len([k for k in weights if weights[k] <= 1e-4])\n",
    "print(f\"{num_small}/{len(ef.tickers)} tickers have zero weight\")"
   ]
  },
  {
   "cell_type": "markdown",
   "metadata": {},
   "source": [
    "We can tune the value of gamma to choose the number of nonzero tickers. Larger gamma pulls portfolio weights towards an equal allocation."
   ]
  },
  {
   "cell_type": "code",
   "execution_count": 30,
   "metadata": {},
   "outputs": [
    {
     "data": {
      "text/plain": [
       "OrderedDict([('ACN', 0.05531),\n",
       "             ('AMZN', 0.13092),\n",
       "             ('COST', 0.0616),\n",
       "             ('DIS', 0.06304),\n",
       "             ('F', 0.06104),\n",
       "             ('GILD', 0.08017),\n",
       "             ('JPM', 0.07785),\n",
       "             ('KO', 0.0384),\n",
       "             ('LUV', 0.06491),\n",
       "             ('MA', 0.08275),\n",
       "             ('MSFT', 0.0708),\n",
       "             ('PFE', 0.04067),\n",
       "             ('TSLA', 0.08896),\n",
       "             ('UNH', 0.06208),\n",
       "             ('XOM', 0.02152)])"
      ]
     },
     "execution_count": 30,
     "metadata": {},
     "output_type": "execute_result"
    }
   ],
   "source": [
    "ef = EfficientFrontier(mu, S)\n",
    "ef.add_sector_constraints(sector_mapper, sector_lower, sector_upper)\n",
    "ef.add_objective(objective_functions.L2_reg, gamma=1)  # gamme is the tuning parameter\n",
    "ef.efficient_risk(0.15)\n",
    "weights = ef.clean_weights()\n",
    "weights"
   ]
  },
  {
   "cell_type": "code",
   "execution_count": 31,
   "metadata": {},
   "outputs": [
    {
     "data": {
      "image/png": "[encoded data removed]",
      "text/plain": [
       "<Figure size 720x720 with 1 Axes>"
      ]
     },
     "metadata": {},
     "output_type": "display_data"
    }
   ],
   "source": [
    "pd.Series(weights).plot.pie(figsize=(10, 10));"
   ]
  },
  {
   "cell_type": "code",
   "execution_count": 32,
   "metadata": {},
   "outputs": [
    {
     "name": "stdout",
     "output_type": "stream",
     "text": [
      "Expected annual return: 24.9%\n",
      "Annual volatility: 14.8%\n",
      "Sharpe Ratio: 1.54\n"
     ]
    }
   ],
   "source": [
    "ef.portfolio_performance(verbose=True);"
   ]
  },
  {
   "cell_type": "markdown",
   "metadata": {},
   "source": [
    "The resulting portfolio still has a volatility of less than our 15% limit. It's in-sample Sharpe ratio has gone down, but this portfolio is a lot more robust for actual investment."
   ]
  },
  {
   "cell_type": "markdown",
   "metadata": {},
   "source": [
    "## Minimise risk for a given return, market-neutral\n",
    "\n",
    "We may instead be in the situation where we have a certain required rate of return (maybe we are a pension fund that needs 7% return a year), but would like to minimise risk. Additionally, suppose we would like our portfolio to be market neutral, in the sense that it is equally exposed to the long and short sides.  "
   ]
  },
  {
   "cell_type": "code",
   "execution_count": 33,
   "metadata": {},
   "outputs": [
    {
     "data": {
      "text/plain": [
       "OrderedDict([('ACN', -0.03647),\n",
       "             ('AMZN', 0.21872),\n",
       "             ('COST', -0.05973),\n",
       "             ('DIS', -0.00362),\n",
       "             ('F', -0.00541),\n",
       "             ('GILD', 0.04958),\n",
       "             ('JPM', 0.04608),\n",
       "             ('KO', -0.13872),\n",
       "             ('LUV', 0.00046),\n",
       "             ('MA', 0.06438),\n",
       "             ('MSFT', 0.01974),\n",
       "             ('PFE', -0.08345),\n",
       "             ('TSLA', 0.09091),\n",
       "             ('UNH', -0.00883),\n",
       "             ('XOM', -0.15364)])"
      ]
     },
     "execution_count": 33,
     "metadata": {},
     "output_type": "execute_result"
    }
   ],
   "source": [
    "# Must have no weight bounds to allow shorts\n",
    "ef = EfficientFrontier(mu, S, weight_bounds=(None, None))\n",
    "ef.add_objective(objective_functions.L2_reg)\n",
    "ef.efficient_return(target_return=0.07, market_neutral=True)\n",
    "weights = ef.clean_weights()\n",
    "weights"
   ]
  },
  {
   "cell_type": "code",
   "execution_count": 34,
   "metadata": {},
   "outputs": [
    {
     "name": "stdout",
     "output_type": "stream",
     "text": [
      "Expected annual return: 7.0%\n",
      "Annual volatility: 10.5%\n",
      "Sharpe Ratio: 0.48\n"
     ]
    }
   ],
   "source": [
    "ef.portfolio_performance(verbose=True);"
   ]
  },
  {
   "cell_type": "code",
   "execution_count": 35,
   "metadata": {},
   "outputs": [
    {
     "data": {
      "image/png": "[encoded data removed]",
      "text/plain": [
       "<Figure size 720x432 with 1 Axes>"
      ]
     },
     "metadata": {
      "needs_background": "light"
     },
     "output_type": "display_data"
    }
   ],
   "source": [
    "pd.Series(weights).plot.barh(figsize=(10,6));"
   ]
  },
  {
   "cell_type": "code",
   "execution_count": 36,
   "metadata": {},
   "outputs": [
    {
     "name": "stdout",
     "output_type": "stream",
     "text": [
      "Net weight: 0.00\n"
     ]
    }
   ],
   "source": [
    "print(f\"Net weight: {sum(weights.values()):.2f}\")"
   ]
  },
  {
   "cell_type": "markdown",
   "metadata": {},
   "source": [
    "## Efficient semi-variance optimization\n",
    "\n",
    "In this example, we will minimise the portfolio semivariance (i.e downside volatility) subject to a return constraint (target 20%).\n",
    "\n",
    "There are actually two ways of doing this in PyPortfolioOpt. The first is the \"intuitive\" way. We compute a semicovariance matrix, and pass this into `EfficientFrontier` (just like we would do for the exponential cov matrix or the Ledoit-Wolf shrunk matrix)."
   ]
  },
  {
   "cell_type": "code",
   "execution_count": 37,
   "metadata": {},
   "outputs": [
    {
     "data": {
      "image/png": "[encoded data removed]",
      "text/plain": [
       "<Figure size 432x288 with 2 Axes>"
      ]
     },
     "metadata": {
      "needs_background": "light"
     },
     "output_type": "display_data"
    }
   ],
   "source": [
    "semicov = risk_models.semicovariance(prices, benchmark=0)\n",
    "plotting.plot_covariance(semicov);"
   ]
  },
  {
   "cell_type": "code",
   "execution_count": 38,
   "metadata": {},
   "outputs": [
    {
     "data": {
      "text/plain": [
       "OrderedDict([('ACN', 0.25732),\n",
       "             ('AMZN', 0.0),\n",
       "             ('COST', 0.08825),\n",
       "             ('DIS', 0.0),\n",
       "             ('F', 0.0),\n",
       "             ('GILD', 0.00775),\n",
       "             ('JPM', 0.0),\n",
       "             ('KO', 0.12898),\n",
       "             ('LUV', 0.0),\n",
       "             ('MA', 0.31086),\n",
       "             ('MSFT', 0.0),\n",
       "             ('PFE', 0.04834),\n",
       "             ('TSLA', 0.15102),\n",
       "             ('UNH', 0.0),\n",
       "             ('XOM', 0.00749)])"
      ]
     },
     "execution_count": 38,
     "metadata": {},
     "output_type": "execute_result"
    }
   ],
   "source": [
    "ef = EfficientFrontier(mu, semicov)\n",
    "ef.efficient_return(0.2)\n",
    "weights = ef.clean_weights()\n",
    "weights\n"
   ]
  },
  {
   "cell_type": "code",
   "execution_count": 39,
   "metadata": {},
   "outputs": [
    {
     "name": "stdout",
     "output_type": "stream",
     "text": [
      "Expected annual return: 22.8%\n",
      "Annual volatility: 8.9%\n",
      "Sharpe Ratio: 2.34\n"
     ]
    }
   ],
   "source": [
    "ef.portfolio_performance(verbose=True);"
   ]
  },
  {
   "cell_type": "markdown",
   "metadata": {},
   "source": [
    "However, this solution is not truly optimal in mean-semivariance space. To do the optimization properly, we must use the `EfficientSemivariance` class. This requires us to first compute the returns and drop NaNs."
   ]
  },
  {
   "cell_type": "code",
   "execution_count": 40,
   "metadata": {},
   "outputs": [],
   "source": [
    "returns = expected_returns.returns_from_prices(prices)\n",
    "returns = returns.dropna()"
   ]
  },
  {
   "cell_type": "code",
   "execution_count": 41,
   "metadata": {},
   "outputs": [
    {
     "name": "stdout",
     "output_type": "stream",
     "text": [
      "Expected annual return: 20.0%\n",
      "Annual semi-deviation: 10.2%\n",
      "Sortino Ratio: 1.77\n"
     ]
    }
   ],
   "source": [
    "from pypfopt import EfficientSemivariance\n",
    "\n",
    "es = EfficientSemivariance(mu, returns)\n",
    "es.efficient_return(0.2)\n",
    "es.portfolio_performance(verbose=True);\n"
   ]
  },
  {
   "cell_type": "markdown",
   "metadata": {},
   "source": [
    "To compare this with the heuristic solution, I will use a quick hack: replacing the `es.weights` with `es.weights` and running `es.portfolio_performance` again. Please don't be encouraged to do this in real life!"
   ]
  },
  {
   "cell_type": "code",
   "execution_count": 42,
   "metadata": {},
   "outputs": [
    {
     "name": "stdout",
     "output_type": "stream",
     "text": [
      "Expected annual return: 22.8%\n",
      "Annual semi-deviation: 14.2%\n",
      "Sortino Ratio: 1.47\n"
     ]
    }
   ],
   "source": [
    "es.weights = ef.weights\n",
    "es.portfolio_performance(verbose=True);"
   ]
  },
  {
   "cell_type": "markdown",
   "metadata": {},
   "source": [
    "We see that the heuristic method has a significantly lower Sortino ratio, and much higher semivariance."
   ]
  },
  {
   "cell_type": "markdown",
   "metadata": {},
   "source": [
    "## Efficient CVaR optimization\n",
    "\n",
    "In this example, we will find the portfolio that maximises return subject to a CVaR constraint.\n",
    "\n",
    "Before doing this, let's first compute the 95%-CVaR for the max-sharpe portfolio."
   ]
  },
  {
   "cell_type": "code",
   "execution_count": 43,
   "metadata": {},
   "outputs": [
    {
     "data": {
      "text/html": [
       "<div>\n",
       "<style scoped>\n",
       "    .dataframe tbody tr th:only-of-type {\n",
       "        vertical-align: middle;\n",
       "    }\n",
       "\n",
       "    .dataframe tbody tr th {\n",
       "        vertical-align: top;\n",
       "    }\n",
       "\n",
       "    .dataframe thead th {\n",
       "        text-align: right;\n",
       "    }\n",
       "</style>\n",
       "<table border=\"1\" class=\"dataframe\">\n",
       "  <thead>\n",
       "    <tr style=\"text-align: right;\">\n",
       "      <th></th>\n",
       "      <th>ACN</th>\n",
       "      <th>AMZN</th>\n",
       "      <th>COST</th>\n",
       "      <th>DIS</th>\n",
       "      <th>F</th>\n",
       "      <th>GILD</th>\n",
       "      <th>JPM</th>\n",
       "      <th>KO</th>\n",
       "      <th>LUV</th>\n",
       "      <th>MA</th>\n",
       "      <th>MSFT</th>\n",
       "      <th>PFE</th>\n",
       "      <th>TSLA</th>\n",
       "      <th>UNH</th>\n",
       "      <th>XOM</th>\n",
       "    </tr>\n",
       "    <tr>\n",
       "      <th>Date</th>\n",
       "      <th></th>\n",
       "      <th></th>\n",
       "      <th></th>\n",
       "      <th></th>\n",
       "      <th></th>\n",
       "      <th></th>\n",
       "      <th></th>\n",
       "      <th></th>\n",
       "      <th></th>\n",
       "      <th></th>\n",
       "      <th></th>\n",
       "      <th></th>\n",
       "      <th></th>\n",
       "      <th></th>\n",
       "      <th></th>\n",
       "    </tr>\n",
       "  </thead>\n",
       "  <tbody>\n",
       "    <tr>\n",
       "      <th>2010-06-30</th>\n",
       "      <td>0.000000</td>\n",
       "      <td>0.005985</td>\n",
       "      <td>-0.014381</td>\n",
       "      <td>-0.024768</td>\n",
       "      <td>0.020243</td>\n",
       "      <td>-0.019731</td>\n",
       "      <td>-0.012143</td>\n",
       "      <td>-0.004173</td>\n",
       "      <td>0.000000</td>\n",
       "      <td>-0.017045</td>\n",
       "      <td>-0.012870</td>\n",
       "      <td>-0.001401</td>\n",
       "      <td>-0.002512</td>\n",
       "      <td>-0.008034</td>\n",
       "      <td>-0.003840</td>\n",
       "    </tr>\n",
       "    <tr>\n",
       "      <th>2010-07-01</th>\n",
       "      <td>-0.009573</td>\n",
       "      <td>0.015559</td>\n",
       "      <td>0.001277</td>\n",
       "      <td>-0.000317</td>\n",
       "      <td>0.048611</td>\n",
       "      <td>-0.004084</td>\n",
       "      <td>-0.013129</td>\n",
       "      <td>-0.001796</td>\n",
       "      <td>-0.010802</td>\n",
       "      <td>0.016652</td>\n",
       "      <td>0.006519</td>\n",
       "      <td>-0.002104</td>\n",
       "      <td>-0.078472</td>\n",
       "      <td>-0.019366</td>\n",
       "      <td>-0.008060</td>\n",
       "    </tr>\n",
       "    <tr>\n",
       "      <th>2010-07-02</th>\n",
       "      <td>-0.008882</td>\n",
       "      <td>-0.016402</td>\n",
       "      <td>-0.012204</td>\n",
       "      <td>-0.003493</td>\n",
       "      <td>-0.027436</td>\n",
       "      <td>0.021382</td>\n",
       "      <td>-0.006929</td>\n",
       "      <td>0.000399</td>\n",
       "      <td>-0.021838</td>\n",
       "      <td>0.000345</td>\n",
       "      <td>0.004749</td>\n",
       "      <td>-0.006324</td>\n",
       "      <td>-0.125683</td>\n",
       "      <td>0.016158</td>\n",
       "      <td>-0.000707</td>\n",
       "    </tr>\n",
       "    <tr>\n",
       "      <th>2010-07-06</th>\n",
       "      <td>0.012388</td>\n",
       "      <td>0.008430</td>\n",
       "      <td>-0.004241</td>\n",
       "      <td>0.010835</td>\n",
       "      <td>-0.011673</td>\n",
       "      <td>-0.002867</td>\n",
       "      <td>0.013955</td>\n",
       "      <td>0.007593</td>\n",
       "      <td>-0.011163</td>\n",
       "      <td>-0.013513</td>\n",
       "      <td>0.023636</td>\n",
       "      <td>0.010608</td>\n",
       "      <td>-0.160938</td>\n",
       "      <td>0.020848</td>\n",
       "      <td>0.015733</td>\n",
       "    </tr>\n",
       "    <tr>\n",
       "      <th>2010-07-07</th>\n",
       "      <td>0.022129</td>\n",
       "      <td>0.030620</td>\n",
       "      <td>0.005371</td>\n",
       "      <td>0.044767</td>\n",
       "      <td>0.042323</td>\n",
       "      <td>0.004889</td>\n",
       "      <td>0.050096</td>\n",
       "      <td>0.020623</td>\n",
       "      <td>0.062088</td>\n",
       "      <td>0.037694</td>\n",
       "      <td>0.020151</td>\n",
       "      <td>0.023093</td>\n",
       "      <td>-0.019243</td>\n",
       "      <td>0.010730</td>\n",
       "      <td>0.016881</td>\n",
       "    </tr>\n",
       "  </tbody>\n",
       "</table>\n",
       "</div>"
      ],
      "text/plain": [
       "                 ACN      AMZN      COST       DIS         F      GILD  \\\n",
       "Date                                                                     \n",
       "2010-06-30  0.000000  0.005985 -0.014381 -0.024768  0.020243 -0.019731   \n",
       "2010-07-01 -0.009573  0.015559  0.001277 -0.000317  0.048611 -0.004084   \n",
       "2010-07-02 -0.008882 -0.016402 -0.012204 -0.003493 -0.027436  0.021382   \n",
       "2010-07-06  0.012388  0.008430 -0.004241  0.010835 -0.011673 -0.002867   \n",
       "2010-07-07  0.022129  0.030620  0.005371  0.044767  0.042323  0.004889   \n",
       "\n",
       "                 JPM        KO       LUV        MA      MSFT       PFE  \\\n",
       "Date                                                                     \n",
       "2010-06-30 -0.012143 -0.004173  0.000000 -0.017045 -0.012870 -0.001401   \n",
       "2010-07-01 -0.013129 -0.001796 -0.010802  0.016652  0.006519 -0.002104   \n",
       "2010-07-02 -0.006929  0.000399 -0.021838  0.000345  0.004749 -0.006324   \n",
       "2010-07-06  0.013955  0.007593 -0.011163 -0.013513  0.023636  0.010608   \n",
       "2010-07-07  0.050096  0.020623  0.062088  0.037694  0.020151  0.023093   \n",
       "\n",
       "                TSLA       UNH       XOM  \n",
       "Date                                      \n",
       "2010-06-30 -0.002512 -0.008034 -0.003840  \n",
       "2010-07-01 -0.078472 -0.019366 -0.008060  \n",
       "2010-07-02 -0.125683  0.016158 -0.000707  \n",
       "2010-07-06 -0.160938  0.020848  0.015733  \n",
       "2010-07-07 -0.019243  0.010730  0.016881  "
      ]
     },
     "execution_count": 43,
     "metadata": {},
     "output_type": "execute_result"
    }
   ],
   "source": [
    "returns = expected_returns.returns_from_prices(prices).dropna()\n",
    "returns.head()"
   ]
  },
  {
   "cell_type": "code",
   "execution_count": 44,
   "metadata": {},
   "outputs": [
    {
     "name": "stdout",
     "output_type": "stream",
     "text": [
      "Expected annual return: 25.6%\n",
      "Annual volatility: 12.8%\n",
      "Sharpe Ratio: 1.84\n"
     ]
    }
   ],
   "source": [
    "ef = EfficientFrontier(mu, S)\n",
    "ef.max_sharpe()\n",
    "weight_arr = ef.weights\n",
    "ef.portfolio_performance(verbose=True);"
   ]
  },
  {
   "cell_type": "code",
   "execution_count": 45,
   "metadata": {},
   "outputs": [
    {
     "data": {
      "image/png": "[encoded data removed]",
      "text/plain": [
       "<Figure size 432x288 with 1 Axes>"
      ]
     },
     "metadata": {
      "needs_background": "light"
     },
     "output_type": "display_data"
    }
   ],
   "source": [
    "# Compute CVaR\n",
    "portfolio_rets = (returns * weight_arr).sum(axis=1)\n",
    "portfolio_rets.hist(bins=50);"
   ]
  },
  {
   "cell_type": "code",
   "execution_count": 46,
   "metadata": {},
   "outputs": [
    {
     "name": "stdout",
     "output_type": "stream",
     "text": [
      "VaR: -2.15%\n",
      "CVaR: -3.30%\n"
     ]
    }
   ],
   "source": [
    "# VaR\n",
    "var = portfolio_rets.quantile(0.05)\n",
    "cvar = portfolio_rets[portfolio_rets <= var].mean()\n",
    "print(\"VaR: {:.2f}%\".format(100*var))\n",
    "print(\"CVaR: {:.2f}%\".format(100*cvar))"
   ]
  },
  {
   "cell_type": "markdown",
   "metadata": {},
   "source": [
    "This value of the CVaR means that our average loss on the worst 5% of days will be -3.35%. Let's say that this were beyond our comfort zone (for a \\\\$100,000 portfolio, this would mean losing \\\\$3350 in a day).\n",
    "\n",
    "Let's firstly construct the portfolio with the minimum CVaR:"
   ]
  },
  {
   "cell_type": "code",
   "execution_count": 47,
   "metadata": {},
   "outputs": [
    {
     "name": "stdout",
     "output_type": "stream",
     "text": [
      "Expected annual return: 18.2%\n",
      "Conditional Value at Risk: 2.13%\n"
     ]
    }
   ],
   "source": [
    "from pypfopt import EfficientCVaR\n",
    "\n",
    "ec = EfficientCVaR(mu, returns)\n",
    "ec.min_cvar()\n",
    "ec.portfolio_performance(verbose=True);"
   ]
  },
  {
   "cell_type": "markdown",
   "metadata": {},
   "source": [
    "We have significantly reduced the CVaR, but at the cost of a large reduction in returns. We can use `efficient_risk` to maximise the return for a target risk. Let's say that a 2.5% CVaR is acceptable."
   ]
  },
  {
   "cell_type": "code",
   "execution_count": 48,
   "metadata": {},
   "outputs": [
    {
     "name": "stdout",
     "output_type": "stream",
     "text": [
      "Expected annual return: 24.9%\n",
      "Conditional Value at Risk: 2.50%\n"
     ]
    }
   ],
   "source": [
    "from pypfopt import EfficientCVaR\n",
    "\n",
    "ec = EfficientCVaR(mu, returns)\n",
    "ec.efficient_risk(target_cvar=0.025)\n",
    "ec.portfolio_performance(verbose=True);"
   ]
  },
  {
   "cell_type": "markdown",
   "metadata": {},
   "source": [
    "We now have similar returns to before (24.7% vs 25.8%), but with a lower tail risk (2.50% CVaR vs 3.35%). "
   ]
  },
  {
   "cell_type": "markdown",
   "metadata": {},
   "source": [
    "## Plotting - Unconstrained\n",
    "\n",
    "To plot the unconstrained efficient frontier, it is easiest to use the critical line algorithm. "
   ]
  },
  {
   "cell_type": "code",
   "execution_count": 49,
   "metadata": {},
   "outputs": [
    {
     "name": "stdout",
     "output_type": "stream",
     "text": [
      "Expected annual return: 25.3%\n",
      "Annual volatility: 12.7%\n",
      "Sharpe Ratio: 1.84\n"
     ]
    }
   ],
   "source": [
    "from pypfopt import CLA, plotting\n",
    "\n",
    "cla = CLA(mu, S)\n",
    "cla.max_sharpe()\n",
    "cla.portfolio_performance(verbose=True);"
   ]
  },
  {
   "cell_type": "code",
   "execution_count": 50,
   "metadata": {},
   "outputs": [
    {
     "data": {
      "image/png": "[encoded data removed]",
      "text/plain": [
       "<Figure size 432x288 with 1 Axes>"
      ]
     },
     "metadata": {
      "needs_background": "light"
     },
     "output_type": "display_data"
    }
   ],
   "source": [
    "ax = plotting.plot_efficient_frontier(cla, showfig=False)"
   ]
  },
  {
   "cell_type": "markdown",
   "metadata": {},
   "source": [
    "## Plotting - Constrained"
   ]
  },
  {
   "cell_type": "markdown",
   "metadata": {},
   "source": [
    "In this example, we will plot the efficient frontier corresponding to portfolios with a constraint on exposure to MSFT, AMZN, and TSLA (e.g maybe we want to avoid big tech)."
   ]
  },
  {
   "cell_type": "code",
   "execution_count": 51,
   "metadata": {},
   "outputs": [],
   "source": [
    "import cvxpy as cp\n",
    "\n",
    "mu = expected_returns.capm_return(prices)\n",
    "S = risk_models.CovarianceShrinkage(prices).ledoit_wolf()\n",
    "\n",
    "ef = EfficientFrontier(mu, S,)\n",
    "big_tech_indices = [t in {\"MSFT\", \"AMZN\", \"TSLA\"} for t in tickers]\n",
    "ef.add_constraint(lambda w: cp.sum(w[big_tech_indices]) <= 0.3)"
   ]
  },
  {
   "cell_type": "markdown",
   "metadata": {},
   "source": [
    "As per the docs, *before* we call any optimization function, we should pass this to the plotting module:"
   ]
  },
  {
   "cell_type": "code",
   "execution_count": 52,
   "metadata": {},
   "outputs": [
    {
     "data": {
      "image/png": "[encoded data removed]",
      "text/plain": [
       "<Figure size 432x288 with 1 Axes>"
      ]
     },
     "metadata": {
      "needs_background": "light"
     },
     "output_type": "display_data"
    }
   ],
   "source": [
    "ax = plotting.plot_efficient_frontier(ef, ef_param=\"risk\", \n",
    "                                      ef_param_range=np.linspace(0.12, 0.4, 50), \n",
    "                                      showfig=False);"
   ]
  },
  {
   "cell_type": "markdown",
   "metadata": {},
   "source": [
    "## Complex plots\n",
    "\n",
    "The `plotting` module allows you to pass in an `ax`, on top of which the plots are added. This allows you to build complex plots. \n",
    "\n",
    "In this example, we will plot the efficient frontier as well as 10,000 simulated portfolios. \n",
    "\n",
    "To generate the simulated portfolios, we will sample random weights from the Dirichlet distribution (these are already normalised):"
   ]
  },
  {
   "cell_type": "code",
   "execution_count": 53,
   "metadata": {},
   "outputs": [
    {
     "name": "stdout",
     "output_type": "stream",
     "text": [
      "Sample portfolio returns: [0.23416375 0.22720695 0.23793632 ... 0.23921647 0.23300209 0.21349917]\n",
      "Sample portfolio volatilities: 0       0.158438\n",
      "1       0.161726\n",
      "2       0.149709\n",
      "3       0.147343\n",
      "4       0.159855\n",
      "          ...   \n",
      "9995    0.173541\n",
      "9996    0.176691\n",
      "9997    0.144743\n",
      "9998    0.155239\n",
      "9999    0.143728\n",
      "Length: 10000, dtype: float64\n"
     ]
    }
   ],
   "source": [
    "n_samples = 10000\n",
    "w = np.random.dirichlet(np.ones(len(mu)), n_samples)\n",
    "rets = w.dot(mu)\n",
    "stds = np.sqrt((w.T * (S @ w.T)).sum(axis=0))\n",
    "sharpes = rets / stds\n",
    "\n",
    "print(\"Sample portfolio returns:\", rets)\n",
    "print(\"Sample portfolio volatilities:\", stds)"
   ]
  },
  {
   "cell_type": "markdown",
   "metadata": {},
   "source": [
    "Note that the above code is equivalent to generating samples via a for loop (just more efficient)"
   ]
  },
  {
   "cell_type": "code",
   "execution_count": 54,
   "metadata": {},
   "outputs": [],
   "source": [
    "# mus = []\n",
    "# stds = []\n",
    "# sharpes = []\n",
    "# for _ in range(10000):\n",
    "#     w = np.random.dirichlet(np.ones(len(mu)))\n",
    "#     # w = np.random.rand(len(mu))\n",
    "#     # w /= w.sum()\n",
    "#     ret = mu.dot(w)\n",
    "#     std = np.sqrt(w.dot(S @ w))\n",
    "#     mus.append(ret)\n",
    "#     stds.append(std)\n",
    "#     sharpes.append(ret / std)"
   ]
  },
  {
   "cell_type": "code",
   "execution_count": 55,
   "metadata": {},
   "outputs": [
    {
     "data": {
      "image/png": "[encoded data removed]",
      "text/plain": [
       "<Figure size 432x288 with 1 Axes>"
      ]
     },
     "metadata": {
      "needs_background": "light"
     },
     "output_type": "display_data"
    }
   ],
   "source": [
    "# Plot efficient frontier with Monte Carlo sim\n",
    "ef = EfficientFrontier(mu, S)\n",
    "\n",
    "fig, ax = plt.subplots()\n",
    "plotting.plot_efficient_frontier(ef, ax=ax, show_assets=False)\n",
    "\n",
    "# Find and plot the tangency portfolio\n",
    "ef.max_sharpe()\n",
    "ret_tangent, std_tangent, _ = ef.portfolio_performance()\n",
    "ax.scatter(std_tangent, ret_tangent, marker=\"*\", s=100, c=\"r\", label=\"Max Sharpe\")\n",
    "\n",
    "# Plot random portfolios\n",
    "ax.scatter(stds, rets, marker=\".\", c=sharpes, cmap=\"viridis_r\")\n",
    "\n",
    "# Format\n",
    "ax.set_title(\"Efficient Frontier with random portfolios\")\n",
    "ax.legend()\n",
    "plt.tight_layout()\n",
    "plt.show()\n"
   ]
  },
  {
   "cell_type": "code",
   "execution_count": null,
   "metadata": {},
   "outputs": [],
   "source": []
  }
 ],
 "metadata": {
  "kernelspec": {
   "display_name": "Python 3 (ipykernel)",
   "language": "python",
   "name": "python3"
  },
  "language_info": {
   "codemirror_mode": {
    "name": "ipython",
    "version": 3
   },
   "file_extension": ".py",
   "mimetype": "text/x-python",
   "name": "python",
   "nbconvert_exporter": "python",
   "pygments_lexer": "ipython3",
   "version": "3.8.5"
  }
 },
 "nbformat": 4,
 "nbformat_minor": 4
}
