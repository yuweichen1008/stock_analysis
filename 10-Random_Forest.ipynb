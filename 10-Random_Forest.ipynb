{
 "cells": [
  {
   "cell_type": "markdown",
   "id": "e1fade99",
   "metadata": {},
   "source": [
    "Reference https://blog.quantinsti.com/random-forest-algorithm-in-python/"
   ]
  },
  {
   "cell_type": "code",
   "execution_count": 1,
   "id": "83db7ba4",
   "metadata": {},
   "outputs": [],
   "source": [
    "import numpy as np\n",
    "from sklearn.ensemble import RandomForestClassifier\n",
    "from sklearn.metrics import classification_report\n",
    "import pandas as pd\n",
    "from sklearn.metrics import accuracy_score\n",
    "import yfinance as yf"
   ]
  },
  {
   "cell_type": "code",
   "execution_count": 2,
   "id": "2010443a",
   "metadata": {},
   "outputs": [],
   "source": [
    "data = pd.read_csv('data/ticker_TSLA.csv')\n",
    "# data = yf.download('APPS', group_by=\"Ticker\", period=\"3y\", start=\"2018-01-01\")"
   ]
  },
  {
   "cell_type": "code",
   "execution_count": 3,
   "id": "6a926afe",
   "metadata": {},
   "outputs": [],
   "source": [
    "# Features construction \n",
    "data['Open-Close'] = (data.Open - data.Close)/data.Open\n",
    "data['High-Low'] = (data.High - data.Low)/data.Low\n",
    "data['percent_change'] = data['Adj Close'].pct_change()\n",
    "data['std_5'] = data['percent_change'].rolling(5).std()\n",
    "data['ret_5'] = data['percent_change'].rolling(5).mean()\n",
    "data.dropna(inplace=True)\n"
   ]
  },
  {
   "cell_type": "code",
   "execution_count": 4,
   "id": "61f75bc0",
   "metadata": {
    "scrolled": true
   },
   "outputs": [],
   "source": [
    "# X is the input variable\n",
    "X = data[['Open-Close', 'High-Low', 'std_5', 'ret_5']]\n",
    "\n",
    "# Y is the target or output variable\n",
    "# If tomorrow’s close price is greater than today's close price then the output variable is set to 1 and otherwise set to -1.\n",
    "# y = np.where(data['Adj Close'].shift(-1) > data['Adj Close'], 1, -1)\n",
    "# If tomorrow’s low price is greater than today's open price then the output variable is set to 1 and otherwise set to -1.\n",
    "y = np.where(data['Low'].shift(-1) > data['Open'], 1, -1)"
   ]
  },
  {
   "cell_type": "code",
   "execution_count": 5,
   "id": "f380e794",
   "metadata": {},
   "outputs": [
    {
     "name": "stdout",
     "output_type": "stream",
     "text": [
      "(672, 4) (224, 4)\n",
      "(672,) (224,)\n"
     ]
    }
   ],
   "source": [
    "# Total dataset length\n",
    "dataset_length = data.shape[0]\n",
    "\n",
    "# Training dataset length\n",
    "split = int(dataset_length * 0.75)\n",
    "\n",
    "# Splitiing the X and y into train and test datasets\n",
    "X_train, X_test = X[:split], X[split:]\n",
    "y_train, y_test = y[:split], y[split:]\n",
    "\n",
    "# Print the size of the train and test dataset\n",
    "print(X_train.shape, X_test.shape)\n",
    "print(y_train.shape, y_test.shape)"
   ]
  },
  {
   "cell_type": "code",
   "execution_count": 6,
   "id": "f57c010b",
   "metadata": {},
   "outputs": [
    {
     "name": "stdout",
     "output_type": "stream",
     "text": [
      "Correct Prediction (%):  80.80357142857143\n",
      "              precision    recall  f1-score   support\n",
      "\n",
      "          -1       0.87      0.85      0.86       154\n",
      "           1       0.68      0.71      0.70        70\n",
      "\n",
      "    accuracy                           0.81       224\n",
      "   macro avg       0.78      0.78      0.78       224\n",
      "weighted avg       0.81      0.81      0.81       224\n",
      "\n"
     ]
    }
   ],
   "source": [
    "clf = RandomForestClassifier(random_state=20)\n",
    "# Create the model on train dataset\n",
    "model = clf.fit(X_train, y_train)\n",
    "\n",
    "print('Correct Prediction (%): ', accuracy_score(y_test, model.predict(X_test), normalize=True)*100.0)\n",
    "\n",
    "report = classification_report(y_test, model.predict(X_test))\n",
    "print(report)"
   ]
  },
  {
   "cell_type": "code",
   "execution_count": 7,
   "id": "6bf21640",
   "metadata": {},
   "outputs": [],
   "source": [
    "data['strategy_returns'] = data.percent_change.shift(-1) * model.predict(X)"
   ]
  },
  {
   "cell_type": "markdown",
   "id": "65dacdcc",
   "metadata": {},
   "source": [
    "# Return"
   ]
  },
  {
   "cell_type": "code",
   "execution_count": 8,
   "id": "190a8d22",
   "metadata": {
    "tags": []
   },
   "outputs": [
    {
     "data": {
      "image/png": "[encoded data removed]",
      "text/plain": [
       "<Figure size 432x288 with 1 Axes>"
      ]
     },
     "metadata": {
      "needs_background": "light"
     },
     "output_type": "display_data"
    }
   ],
   "source": [
    "%matplotlib inline\n",
    "import matplotlib.pyplot as plt\n",
    "data.strategy_returns[split:].hist()\n",
    "plt.xlabel('Strategy returns (%)')\n",
    "plt.show()"
   ]
  },
  {
   "cell_type": "code",
   "execution_count": 9,
   "id": "e25cdcf5",
   "metadata": {
    "tags": []
   },
   "outputs": [
    {
     "data": {
      "image/png": "[encoded data removed]",
      "text/plain": [
       "<Figure size 432x288 with 1 Axes>"
      ]
     },
     "metadata": {
      "needs_background": "light"
     },
     "output_type": "display_data"
    }
   ],
   "source": [
    "(data.strategy_returns[split:]+1).cumprod().plot()\n",
    "plt.ylabel('Strategy returns (%)')\n",
    "plt.show()"
   ]
  },
  {
   "cell_type": "markdown",
   "id": "e43852de",
   "metadata": {},
   "source": [
    "# Test on today"
   ]
  },
  {
   "cell_type": "code",
   "execution_count": 10,
   "id": "4edc28fa",
   "metadata": {},
   "outputs": [
    {
     "data": {
      "text/plain": [
       "array([-1, -1, -1,  1,  1])"
      ]
     },
     "execution_count": 10,
     "metadata": {},
     "output_type": "execute_result"
    }
   ],
   "source": [
    "xt = X.tail(5)\n",
    "model.predict(xt)"
   ]
  },
  {
   "cell_type": "code",
   "execution_count": 11,
   "id": "187b4dca-8302-4ae2-a1b0-f9b9b37255f7",
   "metadata": {},
   "outputs": [],
   "source": [
    "df = data"
   ]
  },
  {
   "cell_type": "markdown",
   "id": "2fd2f568",
   "metadata": {},
   "source": [
    "# Add Date feature"
   ]
  },
  {
   "cell_type": "code",
   "execution_count": 12,
   "id": "be4bde1a",
   "metadata": {},
   "outputs": [],
   "source": [
    "df.Date = pd.to_datetime(df.Date, format=\"%Y-%m-%d\")\n",
    "df['month'] = df.Date.dt.month\n",
    "# df['week'] = df.Date.dt.week\n",
    "# df['day'] = df.Date.dt.day\n",
    "df['day_of_week'] = df.Date.dt.dayofweek\n",
    "\n",
    "# X is the input variable\n",
    "X = df[['Open-Close', 'High-Low', 'std_5', 'ret_5', 'month', 'day_of_week']]\n",
    "\n",
    "# Y is the target or output variable\n",
    "y = np.where(df['Adj Close'].shift(-1) > df['Adj Close'], 1, -1)"
   ]
  },
  {
   "cell_type": "code",
   "execution_count": 13,
   "id": "e32cfc35",
   "metadata": {
    "scrolled": true
   },
   "outputs": [
    {
     "name": "stdout",
     "output_type": "stream",
     "text": [
      "(672, 6) (224, 6)\n",
      "(672,) (224,)\n"
     ]
    }
   ],
   "source": [
    "# Total dataset length\n",
    "dataset_length = df.shape[0]\n",
    "\n",
    "# Training dataset length\n",
    "split = int(dataset_length * 0.75)\n",
    "\n",
    "# Splitiing the X and y into train and test datasets\n",
    "X_train, X_test = X[:split], X[split:]\n",
    "y_train, y_test = y[:split], y[split:]\n",
    "\n",
    "# Print the size of the train and test dataset\n",
    "print(X_train.shape, X_test.shape)\n",
    "print(y_train.shape, y_test.shape)"
   ]
  },
  {
   "cell_type": "markdown",
   "id": "81028dc4",
   "metadata": {},
   "source": [
    " ## Batch Learning"
   ]
  },
  {
   "cell_type": "code",
   "execution_count": 14,
   "id": "6d173a3e",
   "metadata": {},
   "outputs": [],
   "source": [
    "df_list = list()\n",
    "tickerStrings = ['AAPL', 'MSFT', 'NIO', 'MSTR','S', 'SOFI', 'FUBO', 'APPS', 'PDD', 'KO', 'TSLA', 'ZI', 'ZM', 'AMD', 'TTD', 'ROKU']\n",
    "for ticker in tickerStrings:\n",
    "    data = pd.read_csv('data/ticker_'+ ticker + '.csv')\n",
    "    data['ticker'] = ticker  # add this column becasue the dataframe doesn't contain a column with the ticker\n",
    "    data['Open-Close'] = (data.Open - data.Close)/data.Open\n",
    "    data['High-Low'] = (data.High - data.Low)/data.Low\n",
    "    data['percent_change'] = data['Adj Close'].pct_change()\n",
    "    data['std_5'] = data['percent_change'].rolling(5).std()\n",
    "    data['ret_5'] = data['percent_change'].rolling(5).mean()\n",
    "    data.dropna(inplace=True)\n",
    "    df_list.append(data)\n",
    "\n",
    "# combine all dataframes into a single dataframe\n",
    "datalist = pd.concat(df_list)\n",
    "\n",
    "data = datalist"
   ]
  },
  {
   "cell_type": "code",
   "execution_count": null,
   "id": "d2e5324d-668a-4ed9-8bf0-59fdca1726ad",
   "metadata": {},
   "outputs": [],
   "source": []
  }
 ],
 "metadata": {
  "kernelspec": {
   "display_name": "Python 3 (ipykernel)",
   "language": "python",
   "name": "python3"
  },
  "language_info": {
   "codemirror_mode": {
    "name": "ipython",
    "version": 3
   },
   "file_extension": ".py",
   "mimetype": "text/x-python",
   "name": "python",
   "nbconvert_exporter": "python",
   "pygments_lexer": "ipython3",
   "version": "3.8.10"
  }
 },
 "nbformat": 4,
 "nbformat_minor": 5
}
