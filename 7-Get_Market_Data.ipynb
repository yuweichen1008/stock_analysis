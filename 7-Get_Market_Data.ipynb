{
 "cells": [
  {
   "cell_type": "code",
   "execution_count": 2,
   "metadata": {},
   "outputs": [],
   "source": [
    "import yfinance as yf\n",
    "import pandas as pd\n",
    "import numpy as np\n",
    "# import mplfinance as mpf\n",
    "# from mplfinance.original_flavor import candlestick_ohlc\n",
    "# from mplfinance import candlestick_ohlc\n",
    "# %matplotlib inline"
   ]
  },
  {
   "cell_type": "markdown",
   "metadata": {},
   "source": [
    "# Get List"
   ]
  },
  {
   "cell_type": "code",
   "execution_count": 3,
   "metadata": {},
   "outputs": [
    {
     "name": "stdout",
     "output_type": "stream",
     "text": [
      "  Symbol             Security SEC filings             GICS Sector  \\\n",
      "0    MMM                   3M     reports             Industrials   \n",
      "1    ABT  Abbott Laboratories     reports             Health Care   \n",
      "2   ABBV               AbbVie     reports             Health Care   \n",
      "3   ABMD              Abiomed     reports             Health Care   \n",
      "4    ACN            Accenture     reports  Information Technology   \n",
      "\n",
      "                GICS Sub-Industry    Headquarters Location Date first added  \\\n",
      "0        Industrial Conglomerates    Saint Paul, Minnesota       1976-08-09   \n",
      "1           Health Care Equipment  North Chicago, Illinois       1964-03-31   \n",
      "2                 Pharmaceuticals  North Chicago, Illinois       2012-12-31   \n",
      "3           Health Care Equipment   Danvers, Massachusetts       2018-05-31   \n",
      "4  IT Consulting & Other Services          Dublin, Ireland       2011-07-06   \n",
      "\n",
      "       CIK      Founded  \n",
      "0    66740         1902  \n",
      "1     1800         1888  \n",
      "2  1551152  2013 (1888)  \n",
      "3   815094         1981  \n",
      "4  1467373         1989  \n",
      "[*********************100%***********************]  505 of 505 completed\n",
      "\n",
      "2 Failed downloads:\n",
      "- BRK.B: No data found, symbol may be delisted\n",
      "- BF.B: No data found for this date range, symbol may be delisted\n",
      "                     A    AAL         AAP        AAPL        ABBV         ABC  \\\n",
      "Date                                                                            \n",
      "2020-12-31  117.961220  15.77  156.494812  132.069473  103.485329   96.996651   \n",
      "2021-01-04  118.304245  15.13  156.325912  128.804825  101.804840   95.746490   \n",
      "2021-01-05  119.271507  15.43  156.157013  130.397324  102.857559   96.996651   \n",
      "2021-01-06  122.542221  15.52  165.178482  126.007957  101.969025  105.340981   \n",
      "2021-01-07  125.802971  15.38  166.589325  130.307755  103.060371  109.270058   \n",
      "\n",
      "                  ABMD         ABT         ACN        ADBE  ...        XEL  \\\n",
      "Date                                                        ...              \n",
      "2020-12-31  324.200012  108.239662  258.786743  500.119995  ...  65.740547   \n",
      "2021-01-04  316.730011  107.864006  254.080826  485.339996  ...  64.744621   \n",
      "2021-01-05  322.600006  109.198593  255.527298  485.690002  ...  64.113541   \n",
      "2021-01-06  321.609985  108.971214  258.321106  466.309998  ...  65.533470   \n",
      "2021-01-07  323.559998  110.028999  260.758331  477.739990  ...  64.251595   \n",
      "\n",
      "                  XLNX        XOM       XRAY         XYL         YUM  \\\n",
      "Date                                                                   \n",
      "2020-12-31  141.770004  39.949696  52.183495  101.258667  107.593803   \n",
      "2021-01-04  142.429993  40.221066  53.568806   99.169624  104.878204   \n",
      "2021-01-05  144.229996  42.159431  55.103615   99.050247  104.888107   \n",
      "2021-01-06  141.220001  43.235222  57.764618  103.228317  105.462952   \n",
      "2021-01-07  149.710007  43.574436  57.465626  107.913742  104.660156   \n",
      "\n",
      "                   ZBH        ZBRA       ZION         ZTS  \n",
      "Date                                                       \n",
      "2020-12-31  153.631134  384.329987  42.901466  164.789658  \n",
      "2021-01-04  152.703903  378.130005  42.397789  162.887848  \n",
      "2021-01-05  155.346008  380.570007  43.069359  164.022949  \n",
      "2021-01-06  159.772797  394.820007  47.908611  166.432571  \n",
      "2021-01-07  158.825623  409.100006  49.370266  166.283203  \n",
      "\n",
      "[5 rows x 505 columns]\n"
     ]
    }
   ],
   "source": [
    "# Read and print the stock tickers that make up S&P500\n",
    "tickers = pd.read_html(\n",
    "    'https://en.wikipedia.org/wiki/List_of_S%26P_500_companies')[0]\n",
    "print(tickers.head())\n",
    "\n",
    "# Get the data for this tickers from yahoo finance\n",
    "data = yf.download(tickers.Symbol.to_list(),'2021-1-1','2021-7-12', auto_adjust=True)['Close']\n",
    "print(data.head())"
   ]
  },
  {
   "cell_type": "markdown",
   "metadata": {},
   "source": [
    "# Get data"
   ]
  },
  {
   "cell_type": "code",
   "execution_count": null,
   "metadata": {},
   "outputs": [],
   "source": [
    "tickerStrings = ['AAPL', 'MSFT', 'NIO', 'MSTR','S', 'SOFI', 'FUBO', 'APPS', 'PDD', 'KO', 'TSLA', 'ZI', 'ZM', 'AMD', 'TTD', 'ROKU']\n",
    "for ticker in tickerStrings:\n",
    "    data = yf.download(ticker, group_by=\"Ticker\", period=\"3y\", start=\"2018-01-01\")\n",
    "    data['ticker'] = ticker  # add this column becasue the dataframe doesn't contain a column with the ticker\n",
    "    data.to_csv(f'data/ticker_{ticker}.csv')  # ticker_AAPL.csv for example\n"
   ]
  },
  {
   "cell_type": "code",
   "execution_count": null,
   "metadata": {},
   "outputs": [],
   "source": [
    "df = pd.read_csv('data/ticker_AAPL.csv')\n",
    "df = df[:55]\n",
    "# df['n'] = range(1, len(df) + 1)"
   ]
  },
  {
   "cell_type": "code",
   "execution_count": null,
   "metadata": {},
   "outputs": [],
   "source": [
    "window = 5\n",
    "for i in range(len(df)-window-1):\n",
    "    a = i + window\n",
    "    up = df.iloc[a-window:a+1,:]['Close'].iloc[-1] > df.iloc[a-window:a,:]['Close'].iloc[-1]\n",
    "    quotes = [tuple(x) for x in df.iloc[a-window:a,:][['n','Open','High','Low','Close']].values]\n",
    "    fig, ax = plt.subplots()\n",
    "    candlestick_ohlc(ax, quotes, width=0.5, colorup='g', colordown='r')\n",
    "    if up:\n",
    "        name = 'up' + str(i)\n",
    "    else:\n",
    "        name = 'down' + str(i)    \n",
    "    \n",
    "    plt.savefig('images/' + name +'.png')\n",
    "    plt.close()"
   ]
  },
  {
   "cell_type": "code",
   "execution_count": null,
   "metadata": {},
   "outputs": [],
   "source": []
  }
 ],
 "metadata": {
  "interpreter": {
   "hash": "6c7c3ee5a83b7e6ff0d46fd1b1c0423996a991d61db793fc972b2fa9e2c96e46"
  },
  "kernelspec": {
   "display_name": "Python 3 (ipykernel)",
   "language": "python",
   "name": "python3"
  },
  "language_info": {
   "codemirror_mode": {
    "name": "ipython",
    "version": 3
   },
   "file_extension": ".py",
   "mimetype": "text/x-python",
   "name": "python",
   "nbconvert_exporter": "python",
   "pygments_lexer": "ipython3",
   "version": "3.8.5"
  }
 },
 "nbformat": 4,
 "nbformat_minor": 4
}
