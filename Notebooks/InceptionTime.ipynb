{
 "cells": [
  {
   "cell_type": "code",
   "execution_count": 11,
   "metadata": {},
   "outputs": [],
   "source": [
    "import yfinance as yf\n",
    "import numpy as np\n",
    "import pandas as pd"
   ]
  },
  {
   "cell_type": "code",
   "execution_count": 35,
   "metadata": {},
   "outputs": [],
   "source": [
    "SYMBOL = \"TSLA\"\n",
    "HISTORY = \"10y\"\n",
    "\n",
    "all_day_k = yf.Ticker(SYMBOL).history(period=HISTORY, interval=\"1d\")\n",
    "\n",
    "# REmove meaningless columns\n",
    "all_day_k = all_day_k.drop(columns=[\"Dividends\", \"Stock Splits\"])\n",
    "\n",
    "#Remove latest row\n",
    "all_day_k = all_day_k[:-1]\n",
    "\n",
    "PAST_WIN_LEN = 100\n",
    "CLASSES = ['Buy', 'Bid']\n",
    "LABEL_BUY = CLASSES[0]\n",
    "LABEL_BID = CLASSES[1]\n",
    "\n",
    "x, y = [], []\n",
    "for today_i in range(len(all_day_k)):\n",
    "  # Get day_k in the pass 100-day window and the forward 1-day window\n",
    "  day_k_past = all_day_k[:today_i + 1]\n",
    "  day_k_forward = all_day_k[today_i+1:]\n",
    "  if len(day_k_past) < PAST_WIN_LEN or len(day_k_forward) < 1:\n",
    "    continue\n",
    "  day_k_past_win = day_k_past[-PAST_WIN_LEN:]\n",
    "  day_k_forward_win = day_k_forward[:1]\n",
    "  \n",
    "  # Find label\n",
    "  today_price = day_k_past_win.iloc[-1][\"Close\"]\n",
    "  tomorrow_price = day_k_forward_win.iloc[0][\"Close\"]\n",
    "  label = LABEL_BUY if tomorrow_price > today_price else LABEL_BID\n",
    "\n",
    "  # Store\n",
    "  x.append(day_k_past_win.values)\n",
    "  y.append(label)\n",
    "\n",
    "x, y = np.array(x), np.array(y)\n",
    "all_day_k = yf.Ticker(SYMBOL).history(period=HISTORY, interval=\"1d\")"
   ]
  },
  {
   "cell_type": "code",
   "execution_count": 36,
   "metadata": {},
   "outputs": [],
   "source": [
    "TRAIN_SPLIT, VAL_SPLIT, TEST_SPLIT = 0.7, 0.2, 0.1\n",
    "\n",
    "# Take the last portion to be the test dataset\n",
    "test_split_index = -round(len(x) * TEST_SPLIT)\n",
    "x_other, x_test = np.split(x, [test_split_index])\n",
    "y_other, y_test = np.split(y, [test_split_index])\n",
    "\n",
    "# Shuffle the remaining portion and split into training and validation datasets\n",
    "train_split_index = round(len(x) * TRAIN_SPLIT)\n",
    "indexes = np.arange(len(x_other))\n",
    "np.random.shuffle(indexes)\n",
    "train_indexes, val_indexes = np.split(indexes, [train_split_index])\n",
    "x_train, x_val = x_other[train_indexes], x_other[val_indexes]\n",
    "y_train, y_val = y_other[train_indexes], y_other[val_indexes]"
   ]
  },
  {
   "cell_type": "code",
   "execution_count": 37,
   "metadata": {},
   "outputs": [
    {
     "data": {
      "text/html": [
       "<div>\n",
       "<style scoped>\n",
       "    .dataframe tbody tr th:only-of-type {\n",
       "        vertical-align: middle;\n",
       "    }\n",
       "\n",
       "    .dataframe tbody tr th {\n",
       "        vertical-align: top;\n",
       "    }\n",
       "\n",
       "    .dataframe thead th {\n",
       "        text-align: right;\n",
       "    }\n",
       "</style>\n",
       "<table border=\"1\" class=\"dataframe\">\n",
       "  <thead>\n",
       "    <tr style=\"text-align: right;\">\n",
       "      <th></th>\n",
       "      <th>Dataset</th>\n",
       "      <th>Buy</th>\n",
       "      <th>Bid</th>\n",
       "    </tr>\n",
       "  </thead>\n",
       "  <tbody>\n",
       "    <tr>\n",
       "      <th>0</th>\n",
       "      <td>train</td>\n",
       "      <td>874</td>\n",
       "      <td>819</td>\n",
       "    </tr>\n",
       "    <tr>\n",
       "      <th>1</th>\n",
       "      <td>valid</td>\n",
       "      <td>248</td>\n",
       "      <td>235</td>\n",
       "    </tr>\n",
       "    <tr>\n",
       "      <th>2</th>\n",
       "      <td>test</td>\n",
       "      <td>130</td>\n",
       "      <td>112</td>\n",
       "    </tr>\n",
       "  </tbody>\n",
       "</table>\n",
       "</div>"
      ],
      "text/plain": [
       "  Dataset  Buy  Bid\n",
       "0   train  874  819\n",
       "1   valid  248  235\n",
       "2    test  130  112"
      ]
     },
     "execution_count": 37,
     "metadata": {},
     "output_type": "execute_result"
    }
   ],
   "source": [
    "# Show label distribution\n",
    "label_distribution = pd.DataFrame([{\"Dataset\": \"train\",\n",
    "                                    \"Buy\": np.count_nonzero(y_train == LABEL_BUY),\"Bid\": np.count_nonzero(y_train == LABEL_BID)},\n",
    "                                   {\"Dataset\": \"valid\",\n",
    "                                    \"Buy\": np.count_nonzero(y_val == LABEL_BUY),\"Bid\": np.count_nonzero(y_val == LABEL_BID)},\n",
    "                                   {\"Dataset\": \"test\",\n",
    "                                    \"Buy\": np.count_nonzero(y_test == LABEL_BUY),\"Bid\": np.count_nonzero(y_test == LABEL_BID)}])\n",
    "label_distribution"
   ]
  },
  {
   "cell_type": "code",
   "execution_count": 38,
   "metadata": {},
   "outputs": [
    {
     "data": {
      "text/html": [
       "<div>\n",
       "<style scoped>\n",
       "    .dataframe tbody tr th:only-of-type {\n",
       "        vertical-align: middle;\n",
       "    }\n",
       "\n",
       "    .dataframe tbody tr th {\n",
       "        vertical-align: top;\n",
       "    }\n",
       "\n",
       "    .dataframe thead th {\n",
       "        text-align: right;\n",
       "    }\n",
       "</style>\n",
       "<table border=\"1\" class=\"dataframe\">\n",
       "  <thead>\n",
       "    <tr style=\"text-align: right;\">\n",
       "      <th></th>\n",
       "      <th>Dataset</th>\n",
       "      <th>Buy</th>\n",
       "      <th>Bid</th>\n",
       "    </tr>\n",
       "  </thead>\n",
       "  <tbody>\n",
       "    <tr>\n",
       "      <th>0</th>\n",
       "      <td>test</td>\n",
       "      <td>112</td>\n",
       "      <td>112</td>\n",
       "    </tr>\n",
       "  </tbody>\n",
       "</table>\n",
       "</div>"
      ],
      "text/plain": [
       "  Dataset  Buy  Bid\n",
       "0    test  112  112"
      ]
     },
     "execution_count": 38,
     "metadata": {},
     "output_type": "execute_result"
    }
   ],
   "source": [
    "# Balance labewls of test dataset ( Make it fair with equal amount of buy/bid label)\n",
    "x_test_buy = x_test[y_test == LABEL_BUY]\n",
    "x_test_bid = x_test[y_test == LABEL_BID]\n",
    "\n",
    "min_n_label = min(len(x_test_buy), len(x_test_bid))\n",
    "\n",
    "x_test_buy_even = x_test_buy[np.random.choice(len(x_test_buy), min_n_label, replace=False), :]\n",
    "x_test_bid_even = x_test_bid[np.random.choice(len(x_test_bid), min_n_label, replace=False), :]\n",
    "x_test_even = np.vstack([x_test_buy_even, x_test_bid_even])\n",
    "\n",
    "y_test_even = np.array([LABEL_BUY] * min_n_label + [LABEL_BID] * min_n_label)\n",
    "\n",
    "pd.DataFrame([{\"Dataset\": \"test\",\n",
    "               \"Buy\": np.count_nonzero(y_test_even == LABEL_BUY),\n",
    "               \"Bid\": np.count_nonzero(y_test_even == LABEL_BID)}])"
   ]
  },
  {
   "cell_type": "code",
   "execution_count": 39,
   "metadata": {},
   "outputs": [],
   "source": [
    "np.savez(\"datasets.npz\", x_train=x_train, y_train=y_train, x_val = x_val, y_val = y_val, x_test = x_test_even, y_test = y_test_even)"
   ]
  },
  {
   "attachments": {},
   "cell_type": "markdown",
   "metadata": {},
   "source": [
    "\n",
    "# Construct Model"
   ]
  },
  {
   "cell_type": "code",
   "execution_count": null,
   "metadata": {},
   "outputs": [],
   "source": [
    "from tensorflow.keras.layers import Input, Flatten, Dense\n",
    "from tensorflow.keras.models import Model\n",
    "# Build model\n",
    "n_time_steps = x_train.shape[1]\n",
    "n_features = x_train.shape[2]\n",
    "\n",
    "# print(n_time_steps)\n",
    "# print(n_features)\n",
    "\n",
    "input_layer = Input(shape=(n_time_steps, n_features))\n",
    "x = Flatten()(input_layer)\n",
    "x = Dense(256, activation=\"relu\")(x)\n",
    "x = Dense(256, activation=\"relu\")(x)\n",
    "output_layer = Dense(len(CLASSES), activation=\"softmax\")(x)\n",
    "\n",
    "model = Model(inputs= input_layer, outputs = output_layer)\n",
    "\n",
    "model.summary()"
   ]
  },
  {
   "attachments": {},
   "cell_type": "markdown",
   "metadata": {},
   "source": [
    "# Train Model"
   ]
  },
  {
   "cell_type": "code",
   "execution_count": 56,
   "metadata": {},
   "outputs": [
    {
     "ename": "ValueError",
     "evalue": "invalid literal for int() with base 10: 'Buy'",
     "output_type": "error",
     "traceback": [
      "\u001b[0;31m---------------------------------------------------------------------------\u001b[0m",
      "\u001b[0;31mValueError\u001b[0m                                Traceback (most recent call last)",
      "Cell \u001b[0;32mIn[56], line 11\u001b[0m\n\u001b[1;32m      8\u001b[0m early_stopping \u001b[39m=\u001b[39m EarlyStopping(monitor\u001b[39m=\u001b[39m\u001b[39m\"\u001b[39m\u001b[39mval_loss\u001b[39m\u001b[39m\"\u001b[39m, patience\u001b[39m=\u001b[39m\u001b[39m100\u001b[39m, restore_best_weights\u001b[39m=\u001b[39m\u001b[39mTrue\u001b[39;00m)\n\u001b[1;32m      9\u001b[0m callbacks \u001b[39m=\u001b[39m [model_checkpoint, early_stopping]\n\u001b[0;32m---> 11\u001b[0m train_history \u001b[39m=\u001b[39m model\u001b[39m.\u001b[39mfit(x_train, to_categorical(y_train, \u001b[39m2\u001b[39;49m),\n\u001b[1;32m     12\u001b[0m                           validation_data\u001b[39m=\u001b[39m(x_val, to_categorical(y_val)),\n\u001b[1;32m     13\u001b[0m                           batch_size\u001b[39m=\u001b[39m\u001b[39m2048\u001b[39m, epochs\u001b[39m=\u001b[39m\u001b[39m1000\u001b[39m, callbacks\u001b[39m=\u001b[39m[callbacks])\n",
      "File \u001b[0;32m~/code/stock_analysis/env/lib/python3.9/site-packages/keras/src/utils/np_utils.py:62\u001b[0m, in \u001b[0;36mto_categorical\u001b[0;34m(y, num_classes, dtype)\u001b[0m\n\u001b[1;32m     23\u001b[0m \u001b[39m@keras_export\u001b[39m(\u001b[39m\"\u001b[39m\u001b[39mkeras.utils.to_categorical\u001b[39m\u001b[39m\"\u001b[39m)\n\u001b[1;32m     24\u001b[0m \u001b[39mdef\u001b[39;00m \u001b[39mto_categorical\u001b[39m(y, num_classes\u001b[39m=\u001b[39m\u001b[39mNone\u001b[39;00m, dtype\u001b[39m=\u001b[39m\u001b[39m\"\u001b[39m\u001b[39mfloat32\u001b[39m\u001b[39m\"\u001b[39m):\n\u001b[1;32m     25\u001b[0m \u001b[39m    \u001b[39m\u001b[39m\"\"\"Converts a class vector (integers) to binary class matrix.\u001b[39;00m\n\u001b[1;32m     26\u001b[0m \n\u001b[1;32m     27\u001b[0m \u001b[39m    E.g. for use with `categorical_crossentropy`.\u001b[39;00m\n\u001b[0;32m   (...)\u001b[0m\n\u001b[1;32m     60\u001b[0m \u001b[39m    [0. 0. 0. 0.]\u001b[39;00m\n\u001b[1;32m     61\u001b[0m \u001b[39m    \"\"\"\u001b[39;00m\n\u001b[0;32m---> 62\u001b[0m     y \u001b[39m=\u001b[39m np\u001b[39m.\u001b[39;49marray(y, dtype\u001b[39m=\u001b[39;49m\u001b[39m\"\u001b[39;49m\u001b[39mint\u001b[39;49m\u001b[39m\"\u001b[39;49m)\n\u001b[1;32m     63\u001b[0m     input_shape \u001b[39m=\u001b[39m y\u001b[39m.\u001b[39mshape\n\u001b[1;32m     65\u001b[0m     \u001b[39m# Shrink the last dimension if the shape is (..., 1).\u001b[39;00m\n",
      "\u001b[0;31mValueError\u001b[0m: invalid literal for int() with base 10: 'Buy'"
     ]
    }
   ],
   "source": [
    "from tensorflow.keras.callbacks import ModelCheckpoint, EarlyStopping\n",
    "from tensorflow.keras.utils import to_categorical\n",
    "\n",
    "model.compile(loss=\"categorical_crossentropy\", optimizer=\"adam\", metrics=[\"accuracy\"])\n",
    "\n",
    "model_checkpoint = ModelCheckpoint(filepath=\"best_model.hdf5\", monitor=\"val_loss\", save_best_only=True)\n",
    "\n",
    "early_stopping = EarlyStopping(monitor=\"val_loss\", patience=100, restore_best_weights=True)\n",
    "callbacks = [model_checkpoint, early_stopping]\n",
    "\n",
    "train_history = model.fit(x_train, to_categorical(y_train, 2),\n",
    "                          validation_data=(x_val, to_categorical(y_val)),\n",
    "                          batch_size=2048, epochs=1000, callbacks=[callbacks])"
   ]
  },
  {
   "cell_type": "code",
   "execution_count": null,
   "metadata": {},
   "outputs": [],
   "source": [
    "import matplotlib.pyplot as plt\n",
    "plt.style.use(\"seaborm-v0_8\")\n",
    "fig, axes = plt.subplot(2, 1, figsize=(16,12))\n",
    "\n",
    "axes[0].set_title(\"Loss\")\n",
    "axes[0].set_yscale(\"Log\")\n",
    "axes[0].plot(train_history, history[\"loss\"], label=\"Training\")\n",
    "axes[0].plot(train_history, history[\"val_loss\"], label=\"Validation\")\n",
    "axes[0].legend()\n",
    "\n",
    "axes[1].set_title(\"Accuracy\")\n",
    "axes[1].plot(train_history, history[\"accuracy\"], label=\"Training\")\n",
    "axes[1].plot(train_history, history[\"val_accuracy\"], label=\"Validation\")\n",
    "axes[1].set_xlabel(\"Epoch\")\n",
    "axes[1].legend()\n"
   ]
  }
 ],
 "metadata": {
  "kernelspec": {
   "display_name": "env",
   "language": "python",
   "name": "python3"
  },
  "language_info": {
   "codemirror_mode": {
    "name": "ipython",
    "version": 3
   },
   "file_extension": ".py",
   "mimetype": "text/x-python",
   "name": "python",
   "nbconvert_exporter": "python",
   "pygments_lexer": "ipython3",
   "version": "3.9.6"
  },
  "orig_nbformat": 4
 },
 "nbformat": 4,
 "nbformat_minor": 2
}
